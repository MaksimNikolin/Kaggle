{
  "cells": [
    {
      "cell_type": "markdown",
      "source": [
        "# Import"
      ],
      "metadata": {
        "id": "7KJjnZJwLeOE"
      },
      "id": "7KJjnZJwLeOE"
    },
    {
      "cell_type": "code",
      "execution_count": 71,
      "id": "bb2cd574",
      "metadata": {
        "id": "bb2cd574"
      },
      "outputs": [],
      "source": [
        "import warnings                                                                                                #import libraries\n",
        "warnings.filterwarnings('ignore')\n",
        "\n",
        "import pandas as pd\n",
        "import numpy as np\n",
        "from matplotlib import pyplot as plt\n",
        "import seaborn as sns\n",
        "\n",
        "from time import process_time\n",
        "from scipy import stats\n",
        "\n",
        "from sklearn.experimental import enable_iterative_imputer\n",
        "from sklearn.impute import IterativeImputer, SimpleImputer, KNNImputer\n",
        "\n",
        "from sklearn.decomposition import PCA\n",
        "from sklearn import metrics\n",
        "from sklearn.metrics import accuracy_score, make_scorer, mean_absolute_error\n",
        "from sklearn import preprocessing\n",
        "from sklearn.preprocessing import StandardScaler, MinMaxScaler\n",
        "from sklearn.feature_selection import SelectFromModel, SelectKBest, f_classif, VarianceThreshold\n",
        "from sklearn.model_selection import cross_val_score, GridSearchCV, train_test_split\n",
        "\n",
        "import lightgbm as lgb\n",
        "from xgboost import XGBClassifier, XGBRegressor\n",
        "from sklearn.discriminant_analysis import LinearDiscriminantAnalysis as LDA\n",
        "from sklearn.neighbors import KNeighborsClassifier\n",
        "from sklearn.linear_model import LogisticRegression\n",
        "from sklearn.linear_model import LinearRegression\n",
        "from sklearn.naive_bayes import GaussianNB\n",
        "from sklearn import ensemble\n",
        "from sklearn.ensemble import GradientBoostingClassifier as GBoost, RandomForestClassifier\n",
        "from sklearn.svm import SVC\n",
        "from sklearn.neural_network import MLPClassifier\n",
        "from sklearn.pipeline import make_pipeline\n",
        "\n",
        "%matplotlib inline"
      ]
    },
    {
      "cell_type": "code",
      "execution_count": 2,
      "id": "84771c63",
      "metadata": {
        "id": "84771c63"
      },
      "outputs": [],
      "source": [
        "df = pd.read_csv('house_price_2.csv')"
      ]
    },
    {
      "cell_type": "code",
      "execution_count": 3,
      "id": "17f9299b",
      "metadata": {
        "colab": {
          "base_uri": "https://localhost:8080/",
          "height": 421
        },
        "id": "17f9299b",
        "outputId": "73df4c0d-54c6-4d95-adce-a7f7635f2402"
      },
      "outputs": [
        {
          "output_type": "execute_result",
          "data": {
            "text/plain": [
              "   Index                                              Title  \\\n",
              "0      0  1 BHK Ready to Occupy Flat for sale in Srushti...   \n",
              "1      1  2 BHK Ready to Occupy Flat for sale in Dosti V...   \n",
              "\n",
              "                                         Description Amount(in rupees)  \\\n",
              "0  Bhiwandi, Thane has an attractive 1 BHK Flat f...           42 Lac    \n",
              "1  One can find this stunning 2 BHK flat for sale...           98 Lac    \n",
              "\n",
              "   Price (in rupees) location Carpet Area         Status         Floor  \\\n",
              "0             6000.0    thane    500 sqft  Ready to Move  10 out of 11   \n",
              "1            13799.0    thane    473 sqft  Ready to Move   3 out of 22   \n",
              "\n",
              "  Transaction  ... facing  overlooking                              Society  \\\n",
              "0      Resale  ...    NaN          NaN  Srushti Siddhi Mangal Murti Complex   \n",
              "1      Resale  ...   East  Garden/Park                          Dosti Vihar   \n",
              "\n",
              "  Bathroom Balcony Car Parking Ownership Super Area Dimensions  Plot Area  \n",
              "0        1       2         NaN       NaN        NaN        NaN        NaN  \n",
              "1        2     NaN      1 Open  Freehold        NaN        NaN        NaN  \n",
              "\n",
              "[2 rows x 21 columns]"
            ],
            "text/html": [
              "\n",
              "  <div id=\"df-79168b0a-9ef6-4035-9077-e595cdbf5529\" class=\"colab-df-container\">\n",
              "    <div>\n",
              "<style scoped>\n",
              "    .dataframe tbody tr th:only-of-type {\n",
              "        vertical-align: middle;\n",
              "    }\n",
              "\n",
              "    .dataframe tbody tr th {\n",
              "        vertical-align: top;\n",
              "    }\n",
              "\n",
              "    .dataframe thead th {\n",
              "        text-align: right;\n",
              "    }\n",
              "</style>\n",
              "<table border=\"1\" class=\"dataframe\">\n",
              "  <thead>\n",
              "    <tr style=\"text-align: right;\">\n",
              "      <th></th>\n",
              "      <th>Index</th>\n",
              "      <th>Title</th>\n",
              "      <th>Description</th>\n",
              "      <th>Amount(in rupees)</th>\n",
              "      <th>Price (in rupees)</th>\n",
              "      <th>location</th>\n",
              "      <th>Carpet Area</th>\n",
              "      <th>Status</th>\n",
              "      <th>Floor</th>\n",
              "      <th>Transaction</th>\n",
              "      <th>...</th>\n",
              "      <th>facing</th>\n",
              "      <th>overlooking</th>\n",
              "      <th>Society</th>\n",
              "      <th>Bathroom</th>\n",
              "      <th>Balcony</th>\n",
              "      <th>Car Parking</th>\n",
              "      <th>Ownership</th>\n",
              "      <th>Super Area</th>\n",
              "      <th>Dimensions</th>\n",
              "      <th>Plot Area</th>\n",
              "    </tr>\n",
              "  </thead>\n",
              "  <tbody>\n",
              "    <tr>\n",
              "      <th>0</th>\n",
              "      <td>0</td>\n",
              "      <td>1 BHK Ready to Occupy Flat for sale in Srushti...</td>\n",
              "      <td>Bhiwandi, Thane has an attractive 1 BHK Flat f...</td>\n",
              "      <td>42 Lac</td>\n",
              "      <td>6000.0</td>\n",
              "      <td>thane</td>\n",
              "      <td>500 sqft</td>\n",
              "      <td>Ready to Move</td>\n",
              "      <td>10 out of 11</td>\n",
              "      <td>Resale</td>\n",
              "      <td>...</td>\n",
              "      <td>NaN</td>\n",
              "      <td>NaN</td>\n",
              "      <td>Srushti Siddhi Mangal Murti Complex</td>\n",
              "      <td>1</td>\n",
              "      <td>2</td>\n",
              "      <td>NaN</td>\n",
              "      <td>NaN</td>\n",
              "      <td>NaN</td>\n",
              "      <td>NaN</td>\n",
              "      <td>NaN</td>\n",
              "    </tr>\n",
              "    <tr>\n",
              "      <th>1</th>\n",
              "      <td>1</td>\n",
              "      <td>2 BHK Ready to Occupy Flat for sale in Dosti V...</td>\n",
              "      <td>One can find this stunning 2 BHK flat for sale...</td>\n",
              "      <td>98 Lac</td>\n",
              "      <td>13799.0</td>\n",
              "      <td>thane</td>\n",
              "      <td>473 sqft</td>\n",
              "      <td>Ready to Move</td>\n",
              "      <td>3 out of 22</td>\n",
              "      <td>Resale</td>\n",
              "      <td>...</td>\n",
              "      <td>East</td>\n",
              "      <td>Garden/Park</td>\n",
              "      <td>Dosti Vihar</td>\n",
              "      <td>2</td>\n",
              "      <td>NaN</td>\n",
              "      <td>1 Open</td>\n",
              "      <td>Freehold</td>\n",
              "      <td>NaN</td>\n",
              "      <td>NaN</td>\n",
              "      <td>NaN</td>\n",
              "    </tr>\n",
              "  </tbody>\n",
              "</table>\n",
              "<p>2 rows × 21 columns</p>\n",
              "</div>\n",
              "    <div class=\"colab-df-buttons\">\n",
              "\n",
              "  <div class=\"colab-df-container\">\n",
              "    <button class=\"colab-df-convert\" onclick=\"convertToInteractive('df-79168b0a-9ef6-4035-9077-e595cdbf5529')\"\n",
              "            title=\"Convert this dataframe to an interactive table.\"\n",
              "            style=\"display:none;\">\n",
              "\n",
              "  <svg xmlns=\"http://www.w3.org/2000/svg\" height=\"24px\" viewBox=\"0 -960 960 960\">\n",
              "    <path d=\"M120-120v-720h720v720H120Zm60-500h600v-160H180v160Zm220 220h160v-160H400v160Zm0 220h160v-160H400v160ZM180-400h160v-160H180v160Zm440 0h160v-160H620v160ZM180-180h160v-160H180v160Zm440 0h160v-160H620v160Z\"/>\n",
              "  </svg>\n",
              "    </button>\n",
              "\n",
              "  <style>\n",
              "    .colab-df-container {\n",
              "      display:flex;\n",
              "      gap: 12px;\n",
              "    }\n",
              "\n",
              "    .colab-df-convert {\n",
              "      background-color: #E8F0FE;\n",
              "      border: none;\n",
              "      border-radius: 50%;\n",
              "      cursor: pointer;\n",
              "      display: none;\n",
              "      fill: #1967D2;\n",
              "      height: 32px;\n",
              "      padding: 0 0 0 0;\n",
              "      width: 32px;\n",
              "    }\n",
              "\n",
              "    .colab-df-convert:hover {\n",
              "      background-color: #E2EBFA;\n",
              "      box-shadow: 0px 1px 2px rgba(60, 64, 67, 0.3), 0px 1px 3px 1px rgba(60, 64, 67, 0.15);\n",
              "      fill: #174EA6;\n",
              "    }\n",
              "\n",
              "    .colab-df-buttons div {\n",
              "      margin-bottom: 4px;\n",
              "    }\n",
              "\n",
              "    [theme=dark] .colab-df-convert {\n",
              "      background-color: #3B4455;\n",
              "      fill: #D2E3FC;\n",
              "    }\n",
              "\n",
              "    [theme=dark] .colab-df-convert:hover {\n",
              "      background-color: #434B5C;\n",
              "      box-shadow: 0px 1px 3px 1px rgba(0, 0, 0, 0.15);\n",
              "      filter: drop-shadow(0px 1px 2px rgba(0, 0, 0, 0.3));\n",
              "      fill: #FFFFFF;\n",
              "    }\n",
              "  </style>\n",
              "\n",
              "    <script>\n",
              "      const buttonEl =\n",
              "        document.querySelector('#df-79168b0a-9ef6-4035-9077-e595cdbf5529 button.colab-df-convert');\n",
              "      buttonEl.style.display =\n",
              "        google.colab.kernel.accessAllowed ? 'block' : 'none';\n",
              "\n",
              "      async function convertToInteractive(key) {\n",
              "        const element = document.querySelector('#df-79168b0a-9ef6-4035-9077-e595cdbf5529');\n",
              "        const dataTable =\n",
              "          await google.colab.kernel.invokeFunction('convertToInteractive',\n",
              "                                                    [key], {});\n",
              "        if (!dataTable) return;\n",
              "\n",
              "        const docLinkHtml = 'Like what you see? Visit the ' +\n",
              "          '<a target=\"_blank\" href=https://colab.research.google.com/notebooks/data_table.ipynb>data table notebook</a>'\n",
              "          + ' to learn more about interactive tables.';\n",
              "        element.innerHTML = '';\n",
              "        dataTable['output_type'] = 'display_data';\n",
              "        await google.colab.output.renderOutput(dataTable, element);\n",
              "        const docLink = document.createElement('div');\n",
              "        docLink.innerHTML = docLinkHtml;\n",
              "        element.appendChild(docLink);\n",
              "      }\n",
              "    </script>\n",
              "  </div>\n",
              "\n",
              "\n",
              "<div id=\"df-e44838e3-810e-4ed4-8700-b6d0fea73d65\">\n",
              "  <button class=\"colab-df-quickchart\" onclick=\"quickchart('df-e44838e3-810e-4ed4-8700-b6d0fea73d65')\"\n",
              "            title=\"Suggest charts.\"\n",
              "            style=\"display:none;\">\n",
              "\n",
              "<svg xmlns=\"http://www.w3.org/2000/svg\" height=\"24px\"viewBox=\"0 0 24 24\"\n",
              "     width=\"24px\">\n",
              "    <g>\n",
              "        <path d=\"M19 3H5c-1.1 0-2 .9-2 2v14c0 1.1.9 2 2 2h14c1.1 0 2-.9 2-2V5c0-1.1-.9-2-2-2zM9 17H7v-7h2v7zm4 0h-2V7h2v10zm4 0h-2v-4h2v4z\"/>\n",
              "    </g>\n",
              "</svg>\n",
              "  </button>\n",
              "\n",
              "<style>\n",
              "  .colab-df-quickchart {\n",
              "      --bg-color: #E8F0FE;\n",
              "      --fill-color: #1967D2;\n",
              "      --hover-bg-color: #E2EBFA;\n",
              "      --hover-fill-color: #174EA6;\n",
              "      --disabled-fill-color: #AAA;\n",
              "      --disabled-bg-color: #DDD;\n",
              "  }\n",
              "\n",
              "  [theme=dark] .colab-df-quickchart {\n",
              "      --bg-color: #3B4455;\n",
              "      --fill-color: #D2E3FC;\n",
              "      --hover-bg-color: #434B5C;\n",
              "      --hover-fill-color: #FFFFFF;\n",
              "      --disabled-bg-color: #3B4455;\n",
              "      --disabled-fill-color: #666;\n",
              "  }\n",
              "\n",
              "  .colab-df-quickchart {\n",
              "    background-color: var(--bg-color);\n",
              "    border: none;\n",
              "    border-radius: 50%;\n",
              "    cursor: pointer;\n",
              "    display: none;\n",
              "    fill: var(--fill-color);\n",
              "    height: 32px;\n",
              "    padding: 0;\n",
              "    width: 32px;\n",
              "  }\n",
              "\n",
              "  .colab-df-quickchart:hover {\n",
              "    background-color: var(--hover-bg-color);\n",
              "    box-shadow: 0 1px 2px rgba(60, 64, 67, 0.3), 0 1px 3px 1px rgba(60, 64, 67, 0.15);\n",
              "    fill: var(--button-hover-fill-color);\n",
              "  }\n",
              "\n",
              "  .colab-df-quickchart-complete:disabled,\n",
              "  .colab-df-quickchart-complete:disabled:hover {\n",
              "    background-color: var(--disabled-bg-color);\n",
              "    fill: var(--disabled-fill-color);\n",
              "    box-shadow: none;\n",
              "  }\n",
              "\n",
              "  .colab-df-spinner {\n",
              "    border: 2px solid var(--fill-color);\n",
              "    border-color: transparent;\n",
              "    border-bottom-color: var(--fill-color);\n",
              "    animation:\n",
              "      spin 1s steps(1) infinite;\n",
              "  }\n",
              "\n",
              "  @keyframes spin {\n",
              "    0% {\n",
              "      border-color: transparent;\n",
              "      border-bottom-color: var(--fill-color);\n",
              "      border-left-color: var(--fill-color);\n",
              "    }\n",
              "    20% {\n",
              "      border-color: transparent;\n",
              "      border-left-color: var(--fill-color);\n",
              "      border-top-color: var(--fill-color);\n",
              "    }\n",
              "    30% {\n",
              "      border-color: transparent;\n",
              "      border-left-color: var(--fill-color);\n",
              "      border-top-color: var(--fill-color);\n",
              "      border-right-color: var(--fill-color);\n",
              "    }\n",
              "    40% {\n",
              "      border-color: transparent;\n",
              "      border-right-color: var(--fill-color);\n",
              "      border-top-color: var(--fill-color);\n",
              "    }\n",
              "    60% {\n",
              "      border-color: transparent;\n",
              "      border-right-color: var(--fill-color);\n",
              "    }\n",
              "    80% {\n",
              "      border-color: transparent;\n",
              "      border-right-color: var(--fill-color);\n",
              "      border-bottom-color: var(--fill-color);\n",
              "    }\n",
              "    90% {\n",
              "      border-color: transparent;\n",
              "      border-bottom-color: var(--fill-color);\n",
              "    }\n",
              "  }\n",
              "</style>\n",
              "\n",
              "  <script>\n",
              "    async function quickchart(key) {\n",
              "      const quickchartButtonEl =\n",
              "        document.querySelector('#' + key + ' button');\n",
              "      quickchartButtonEl.disabled = true;  // To prevent multiple clicks.\n",
              "      quickchartButtonEl.classList.add('colab-df-spinner');\n",
              "      try {\n",
              "        const charts = await google.colab.kernel.invokeFunction(\n",
              "            'suggestCharts', [key], {});\n",
              "      } catch (error) {\n",
              "        console.error('Error during call to suggestCharts:', error);\n",
              "      }\n",
              "      quickchartButtonEl.classList.remove('colab-df-spinner');\n",
              "      quickchartButtonEl.classList.add('colab-df-quickchart-complete');\n",
              "    }\n",
              "    (() => {\n",
              "      let quickchartButtonEl =\n",
              "        document.querySelector('#df-e44838e3-810e-4ed4-8700-b6d0fea73d65 button');\n",
              "      quickchartButtonEl.style.display =\n",
              "        google.colab.kernel.accessAllowed ? 'block' : 'none';\n",
              "    })();\n",
              "  </script>\n",
              "</div>\n",
              "    </div>\n",
              "  </div>\n"
            ]
          },
          "metadata": {},
          "execution_count": 3
        }
      ],
      "source": [
        "df.head(2)"
      ]
    },
    {
      "cell_type": "code",
      "execution_count": 4,
      "id": "66ab6e95",
      "metadata": {
        "id": "66ab6e95"
      },
      "outputs": [],
      "source": [
        "df.drop(['Index'], axis=1, inplace=True)\n",
        "df_train = df.loc[df['Price (in rupees)'].notna()]\n",
        "df_test = df.loc[df['Price (in rupees)'].isna()]"
      ]
    },
    {
      "cell_type": "code",
      "execution_count": 5,
      "id": "6c642950",
      "metadata": {
        "colab": {
          "base_uri": "https://localhost:8080/"
        },
        "id": "6c642950",
        "outputId": "4b277e6f-7e94-4e67-9981-6f6af9b14deb"
      },
      "outputs": [
        {
          "output_type": "stream",
          "name": "stdout",
          "text": [
            "Train dataset shape:  (169866, 20)\n",
            "Test dataset shape:   (17665, 20)\n"
          ]
        }
      ],
      "source": [
        "print('Train dataset shape: ', df_train.shape)\n",
        "print('Test dataset shape:  ', df_test.shape)"
      ]
    },
    {
      "cell_type": "code",
      "execution_count": 6,
      "id": "f7c2a92a",
      "metadata": {
        "id": "f7c2a92a"
      },
      "outputs": [],
      "source": [
        "df_train = df_train.sample(frac=0.1)\n",
        "df_train.reset_index(inplace=True)\n",
        "df_train.drop(['index'], axis=1, inplace=True)"
      ]
    },
    {
      "cell_type": "code",
      "execution_count": 7,
      "id": "4f03b682",
      "metadata": {
        "colab": {
          "base_uri": "https://localhost:8080/"
        },
        "id": "4f03b682",
        "outputId": "2e8072ff-e9f7-4576-b41d-64eed61d3de5"
      },
      "outputs": [
        {
          "output_type": "stream",
          "name": "stdout",
          "text": [
            "New train dataset shape:  (16987, 20)\n"
          ]
        }
      ],
      "source": [
        "print('New train dataset shape: ', df_train.shape)"
      ]
    },
    {
      "cell_type": "code",
      "execution_count": 8,
      "id": "b3576527",
      "metadata": {
        "id": "b3576527"
      },
      "outputs": [],
      "source": [
        "df = pd.concat([df_train, df_test])"
      ]
    },
    {
      "cell_type": "code",
      "execution_count": 9,
      "id": "d8c91e0c",
      "metadata": {
        "colab": {
          "base_uri": "https://localhost:8080/"
        },
        "id": "d8c91e0c",
        "outputId": "95c55043-34a7-4a69-8df2-5ca5c3c2481d"
      },
      "outputs": [
        {
          "output_type": "stream",
          "name": "stdout",
          "text": [
            "Full dataset shape:  (34652, 20)\n"
          ]
        }
      ],
      "source": [
        "print('Full dataset shape: ', df.shape)"
      ]
    },
    {
      "cell_type": "markdown",
      "source": [
        "# EDA"
      ],
      "metadata": {
        "id": "a6n0WTepK4W9"
      },
      "id": "a6n0WTepK4W9"
    },
    {
      "cell_type": "code",
      "execution_count": 10,
      "id": "2ebd0220",
      "metadata": {
        "colab": {
          "base_uri": "https://localhost:8080/"
        },
        "id": "2ebd0220",
        "outputId": "74b597c0-f47c-448c-c937-66dfadd60960"
      },
      "outputs": [
        {
          "output_type": "execute_result",
          "data": {
            "text/plain": [
              "Title                34652\n",
              "Description          34229\n",
              "Amount(in rupees)    34652\n",
              "Price (in rupees)    16987\n",
              "location             34652\n",
              "Carpet Area          22603\n",
              "Status               34580\n",
              "Floor                33732\n",
              "Transaction          34575\n",
              "Furnishing           33598\n",
              "facing               20323\n",
              "overlooking          16824\n",
              "Society              12716\n",
              "Bathroom             34484\n",
              "Balcony              26210\n",
              "Car Parking          13242\n",
              "Ownership            21655\n",
              "Super Area           11222\n",
              "Dimensions               0\n",
              "Plot Area                0\n",
              "dtype: int64"
            ]
          },
          "metadata": {},
          "execution_count": 10
        }
      ],
      "source": [
        "df_notna = df.notna().sum()\n",
        "df_notna"
      ]
    },
    {
      "cell_type": "code",
      "execution_count": 11,
      "id": "891d7b8c",
      "metadata": {
        "colab": {
          "base_uri": "https://localhost:8080/"
        },
        "id": "891d7b8c",
        "outputId": "aacbd741-140d-474d-a592-7259127424ab"
      },
      "outputs": [
        {
          "output_type": "execute_result",
          "data": {
            "text/plain": [
              "(array([    0, 11222, 12716, 13242, 16824, 16987, 20323, 21655, 22603,\n",
              "        26210, 33598, 33732, 34229, 34484, 34575, 34580, 34652]),\n",
              " array([2, 1, 1, 1, 1, 1, 1, 1, 1, 1, 1, 1, 1, 1, 1, 1, 3]))"
            ]
          },
          "metadata": {},
          "execution_count": 11
        }
      ],
      "source": [
        "na_col = np.unique(df_notna, return_counts=True)\n",
        "na_col"
      ]
    },
    {
      "cell_type": "code",
      "execution_count": 12,
      "id": "4d4f018a",
      "metadata": {
        "colab": {
          "base_uri": "https://localhost:8080/",
          "height": 364
        },
        "id": "4d4f018a",
        "outputId": "9cf1b2fc-22de-44d7-e208-a7dd4d21d35a"
      },
      "outputs": [
        {
          "output_type": "display_data",
          "data": {
            "text/plain": [
              "<Figure size 800x400 with 1 Axes>"
            ],
            "image/png": "[encoded data removed]"
          },
          "metadata": {}
        }
      ],
      "source": [
        "plt.figure(figsize=(8,4))\n",
        "b = sns.barplot(x=na_col[0], y=na_col[1])\n",
        "b.tick_params(labelsize=8)"
      ]
    },
    {
      "cell_type": "code",
      "execution_count": 13,
      "id": "60ad9ec0",
      "metadata": {
        "id": "60ad9ec0"
      },
      "outputs": [],
      "source": [
        "for i in df.columns:\n",
        "    if (df[i].notna().sum() < 0.5*len(df)) and (i != 'Price (in rupees)'):\n",
        "        del(df[i])"
      ]
    },
    {
      "cell_type": "code",
      "execution_count": 14,
      "id": "5a942b2e",
      "metadata": {
        "colab": {
          "base_uri": "https://localhost:8080/"
        },
        "id": "5a942b2e",
        "outputId": "0609d66c-361f-4e61-b7b2-da2d6149ece9"
      },
      "outputs": [
        {
          "output_type": "execute_result",
          "data": {
            "text/plain": [
              "(34652, 14)"
            ]
          },
          "metadata": {},
          "execution_count": 14
        }
      ],
      "source": [
        "df.shape"
      ]
    },
    {
      "cell_type": "code",
      "execution_count": 15,
      "id": "239b8b1a",
      "metadata": {
        "id": "239b8b1a"
      },
      "outputs": [],
      "source": [
        "df_room_count = df['Title'].str.split(pat = ' BHK', expand = True)\n",
        "df_flat_or_apartment = df['Title'].str.split(pat = ' for sale ', expand = True)\n",
        "df_flat_or_apartment = df_flat_or_apartment[0].str.split(pat = 'Occupy ', expand = True)\n",
        "df_flat_or_apartment[1].fillna(df_flat_or_apartment[0], inplace=True)\n",
        "\n",
        "df_room_count = df_room_count[0]\n",
        "df_flat_or_apartment = df_flat_or_apartment[1]\n",
        "\n",
        "df = pd.concat([df, df_room_count, df_flat_or_apartment], axis=1)\n",
        "df.drop(['Title'], axis=1, inplace=True)\n",
        "df.rename(columns = {0:'Rooms_count', 1:'Flat_or_Apartment'}, inplace=True)"
      ]
    },
    {
      "cell_type": "code",
      "execution_count": 16,
      "id": "6ab064df",
      "metadata": {
        "id": "6ab064df"
      },
      "outputs": [],
      "source": [
        "df.replace({'Rooms_count' : {'1': '1 ','2': '2 ','3': '3 ','4': '4 ','5': '5 ','6': '6 ','7': '7 ','8': '8 ','9': '9 ','10': '10 ','> 10': '11 '}}, inplace=True)\n",
        "df_room_count = df['Rooms_count'].str.split(pat = ' ', expand = True)\n",
        "df_room_count = df_room_count[0]\n",
        "df = pd.concat([df, df_room_count], axis=1)\n",
        "df.drop(['Rooms_count'], axis=1, inplace=True)\n",
        "df.rename(columns = {0:'Rooms_count'}, inplace=True)\n",
        "df[['Rooms_count']] = df[['Rooms_count']].apply(pd.to_numeric)"
      ]
    },
    {
      "cell_type": "code",
      "execution_count": 17,
      "id": "04f77d20",
      "metadata": {
        "id": "04f77d20"
      },
      "outputs": [],
      "source": [
        "df_amount = df['Amount(in rupees)'].str.split(pat = ' ', expand = True)\n",
        "df_amount_number = df_amount[0]\n",
        "df_lac_or_cr = df_amount[1]\n",
        "df = pd.concat([df, df_amount_number, df_lac_or_cr], axis=1)\n",
        "df.drop(['Amount(in rupees)'], axis=1, inplace=True)\n",
        "df.rename(columns = {0:'Amount'}, inplace=True)"
      ]
    },
    {
      "cell_type": "code",
      "execution_count": 18,
      "id": "ed4ba0a5",
      "metadata": {
        "id": "ed4ba0a5"
      },
      "outputs": [],
      "source": [
        "df.replace({'Amount' : {'Call': 0}}, inplace=True)\n",
        "df[['Amount']] = df[['Amount']].apply(pd.to_numeric)\n",
        "df.replace({1 : {'Cr': 100, 'Lac': 1, 'for': 0}}, inplace=True)\n",
        "df[[1]] = df[[1]].apply(pd.to_numeric)\n",
        "df['Amount'] = df['Amount']*df[1]\n",
        "df.drop([1], axis=1, inplace=True)\n",
        "df.replace({'Amount' : {0 : np.NaN}}, inplace=True)"
      ]
    },
    {
      "cell_type": "code",
      "execution_count": 19,
      "id": "e9e58518",
      "metadata": {
        "id": "e9e58518"
      },
      "outputs": [],
      "source": [
        "df_carpet_area = df['Carpet Area'].str.split(pat = ' ', expand = True)\n",
        "df_carpet_area = df_carpet_area[0]\n",
        "df = pd.concat([df, df_carpet_area], axis=1)\n",
        "df.drop(['Carpet Area'], axis=1, inplace=True)\n",
        "df.rename(columns = {0:'Carpet_area'}, inplace=True)\n",
        "df[['Carpet_area']] = df[['Carpet_area']].apply(pd.to_numeric)\n",
        "df['Carpet_area'].fillna(0, inplace=True)"
      ]
    },
    {
      "cell_type": "code",
      "execution_count": 20,
      "id": "68dec182",
      "metadata": {
        "id": "68dec182"
      },
      "outputs": [],
      "source": [
        "df['Status'].fillna('Not Ready to Move', inplace=True)"
      ]
    },
    {
      "cell_type": "code",
      "execution_count": 21,
      "id": "b2db62e3",
      "metadata": {
        "id": "b2db62e3"
      },
      "outputs": [],
      "source": [
        "df_floor = df['Floor'].str.split(pat = ' ', expand = True)\n",
        "df_floors = df['Floor'].str.split(pat = 'of ', expand = True)\n",
        "df_floor = df_floor[0]\n",
        "df_floors = df_floors[1]\n",
        "df = pd.concat([df, df_floor, df_floors], axis=1)\n",
        "df.drop(['Floor'], axis=1, inplace=True)\n",
        "df.rename(columns = {0:'Floor', 1:'Floors'}, inplace=True)"
      ]
    },
    {
      "cell_type": "code",
      "execution_count": 22,
      "id": "27cda68e",
      "metadata": {
        "id": "27cda68e"
      },
      "outputs": [],
      "source": [
        "df.replace({'Floor' : {'Ground': 0, 'Lower': 0, 'Upper': df['Floors']}}, inplace=True)\n",
        "df[['Floor', 'Floors']] = df[['Floor', 'Floors']].apply(pd.to_numeric)"
      ]
    },
    {
      "cell_type": "code",
      "execution_count": 23,
      "id": "0cb5f844",
      "metadata": {
        "id": "0cb5f844"
      },
      "outputs": [],
      "source": [
        "df['Transaction'].fillna('Other', inplace=True)\n",
        "df['Furnishing'].fillna('Unfurnished', inplace=True)"
      ]
    },
    {
      "cell_type": "code",
      "execution_count": 24,
      "id": "db1c4440",
      "metadata": {
        "id": "db1c4440"
      },
      "outputs": [],
      "source": [
        "df.replace({'Bathroom' : {'> 10': 11}}, inplace=True)\n",
        "df[['Bathroom']] = df[['Bathroom']].apply(pd.to_numeric)"
      ]
    },
    {
      "cell_type": "code",
      "execution_count": 25,
      "id": "1da991a4",
      "metadata": {
        "id": "1da991a4"
      },
      "outputs": [],
      "source": [
        "df.replace({'Balcony' : {'> 10': 11}}, inplace=True)\n",
        "df['Balcony'].fillna('0', inplace=True)\n",
        "df[['Balcony']] = df[['Balcony']].apply(pd.to_numeric)"
      ]
    },
    {
      "cell_type": "code",
      "source": [
        "df_text = df['Description']\n",
        "df.drop(['Description'], axis=1, inplace=True)"
      ],
      "metadata": {
        "id": "RPl_hgUaMSlg"
      },
      "id": "RPl_hgUaMSlg",
      "execution_count": 28,
      "outputs": []
    },
    {
      "cell_type": "code",
      "source": [
        "df"
      ],
      "metadata": {
        "colab": {
          "base_uri": "https://localhost:8080/",
          "height": 825
        },
        "id": "9WyWrenEPyOQ",
        "outputId": "503c1550-61cf-4ca6-8a0a-91506a0ba23f"
      },
      "id": "9WyWrenEPyOQ",
      "execution_count": 50,
      "outputs": [
        {
          "output_type": "execute_result",
          "data": {
            "text/plain": [
              "        Price (in rupees)       location         Status   Transaction  \\\n",
              "0                  7207.0      bangalore  Ready to Move        Resale   \n",
              "1                  3600.0  greater-noida  Ready to Move        Resale   \n",
              "2                  5728.0        kolkata  Ready to Move        Resale   \n",
              "3                  3007.0      ahmedabad  Ready to Move        Resale   \n",
              "4                 12103.0        gurgaon  Ready to Move  New Property   \n",
              "...                   ...            ...            ...           ...   \n",
              "187404                NaN       zirakpur  Ready to Move        Resale   \n",
              "187442                NaN       zirakpur  Ready to Move  New Property   \n",
              "187503                NaN       zirakpur  Ready to Move  New Property   \n",
              "187506                NaN       zirakpur  Ready to Move        Resale   \n",
              "187513                NaN       zirakpur  Ready to Move        Resale   \n",
              "\n",
              "            Furnishing        facing  Bathroom  Balcony             Ownership  \\\n",
              "0       Semi-Furnished           NaN       2.0        0                   NaN   \n",
              "1       Semi-Furnished  North - East       2.0        3             Leasehold   \n",
              "2          Unfurnished          East       2.0        2                   NaN   \n",
              "3          Unfurnished          East       1.0        1              Freehold   \n",
              "4          Unfurnished         South       3.0        3              Freehold   \n",
              "...                ...           ...       ...      ...                   ...   \n",
              "187404  Semi-Furnished         North       3.0        3              Freehold   \n",
              "187442  Semi-Furnished         North       3.0        2              Freehold   \n",
              "187503  Semi-Furnished  North - East       3.0        2  Co-operative Society   \n",
              "187506       Furnished          East       4.0        4              Freehold   \n",
              "187513     Unfurnished           NaN       NaN        0                   NaN   \n",
              "\n",
              "       Flat_or_Apartment  Rooms_count  Amount  Carpet_area  Floor  Floors  \n",
              "0                   Flat          2.0    96.0          0.0    5.0    10.0  \n",
              "1                   Flat          2.0    36.0        800.0    5.0    25.0  \n",
              "2                   Flat          2.0    72.0        900.0    2.0    18.0  \n",
              "3                   Flat          1.0    23.0        498.0    1.0     5.0  \n",
              "4                   Flat          3.0   225.0       1790.0   11.0    22.0  \n",
              "...                  ...          ...     ...          ...    ...     ...  \n",
              "187404              Flat          3.0     NaN       1450.0    3.0     9.0  \n",
              "187442              Flat          3.0     NaN       1200.0    2.0     4.0  \n",
              "187503              Flat          3.0     NaN        990.0    4.0     5.0  \n",
              "187506              Flat          4.0     NaN       2500.0    6.0     7.0  \n",
              "187513              Flat          3.0     NaN       1200.0    3.0     3.0  \n",
              "\n",
              "[34652 rows x 15 columns]"
            ],
            "text/html": [
              "\n",
              "  <div id=\"df-a2b02788-a5d0-4f24-899c-0f38869122c6\" class=\"colab-df-container\">\n",
              "    <div>\n",
              "<style scoped>\n",
              "    .dataframe tbody tr th:only-of-type {\n",
              "        vertical-align: middle;\n",
              "    }\n",
              "\n",
              "    .dataframe tbody tr th {\n",
              "        vertical-align: top;\n",
              "    }\n",
              "\n",
              "    .dataframe thead th {\n",
              "        text-align: right;\n",
              "    }\n",
              "</style>\n",
              "<table border=\"1\" class=\"dataframe\">\n",
              "  <thead>\n",
              "    <tr style=\"text-align: right;\">\n",
              "      <th></th>\n",
              "      <th>Price (in rupees)</th>\n",
              "      <th>location</th>\n",
              "      <th>Status</th>\n",
              "      <th>Transaction</th>\n",
              "      <th>Furnishing</th>\n",
              "      <th>facing</th>\n",
              "      <th>Bathroom</th>\n",
              "      <th>Balcony</th>\n",
              "      <th>Ownership</th>\n",
              "      <th>Flat_or_Apartment</th>\n",
              "      <th>Rooms_count</th>\n",
              "      <th>Amount</th>\n",
              "      <th>Carpet_area</th>\n",
              "      <th>Floor</th>\n",
              "      <th>Floors</th>\n",
              "    </tr>\n",
              "  </thead>\n",
              "  <tbody>\n",
              "    <tr>\n",
              "      <th>0</th>\n",
              "      <td>7207.0</td>\n",
              "      <td>bangalore</td>\n",
              "      <td>Ready to Move</td>\n",
              "      <td>Resale</td>\n",
              "      <td>Semi-Furnished</td>\n",
              "      <td>NaN</td>\n",
              "      <td>2.0</td>\n",
              "      <td>0</td>\n",
              "      <td>NaN</td>\n",
              "      <td>Flat</td>\n",
              "      <td>2.0</td>\n",
              "      <td>96.0</td>\n",
              "      <td>0.0</td>\n",
              "      <td>5.0</td>\n",
              "      <td>10.0</td>\n",
              "    </tr>\n",
              "    <tr>\n",
              "      <th>1</th>\n",
              "      <td>3600.0</td>\n",
              "      <td>greater-noida</td>\n",
              "      <td>Ready to Move</td>\n",
              "      <td>Resale</td>\n",
              "      <td>Semi-Furnished</td>\n",
              "      <td>North - East</td>\n",
              "      <td>2.0</td>\n",
              "      <td>3</td>\n",
              "      <td>Leasehold</td>\n",
              "      <td>Flat</td>\n",
              "      <td>2.0</td>\n",
              "      <td>36.0</td>\n",
              "      <td>800.0</td>\n",
              "      <td>5.0</td>\n",
              "      <td>25.0</td>\n",
              "    </tr>\n",
              "    <tr>\n",
              "      <th>2</th>\n",
              "      <td>5728.0</td>\n",
              "      <td>kolkata</td>\n",
              "      <td>Ready to Move</td>\n",
              "      <td>Resale</td>\n",
              "      <td>Unfurnished</td>\n",
              "      <td>East</td>\n",
              "      <td>2.0</td>\n",
              "      <td>2</td>\n",
              "      <td>NaN</td>\n",
              "      <td>Flat</td>\n",
              "      <td>2.0</td>\n",
              "      <td>72.0</td>\n",
              "      <td>900.0</td>\n",
              "      <td>2.0</td>\n",
              "      <td>18.0</td>\n",
              "    </tr>\n",
              "    <tr>\n",
              "      <th>3</th>\n",
              "      <td>3007.0</td>\n",
              "      <td>ahmedabad</td>\n",
              "      <td>Ready to Move</td>\n",
              "      <td>Resale</td>\n",
              "      <td>Unfurnished</td>\n",
              "      <td>East</td>\n",
              "      <td>1.0</td>\n",
              "      <td>1</td>\n",
              "      <td>Freehold</td>\n",
              "      <td>Flat</td>\n",
              "      <td>1.0</td>\n",
              "      <td>23.0</td>\n",
              "      <td>498.0</td>\n",
              "      <td>1.0</td>\n",
              "      <td>5.0</td>\n",
              "    </tr>\n",
              "    <tr>\n",
              "      <th>4</th>\n",
              "      <td>12103.0</td>\n",
              "      <td>gurgaon</td>\n",
              "      <td>Ready to Move</td>\n",
              "      <td>New Property</td>\n",
              "      <td>Unfurnished</td>\n",
              "      <td>South</td>\n",
              "      <td>3.0</td>\n",
              "      <td>3</td>\n",
              "      <td>Freehold</td>\n",
              "      <td>Flat</td>\n",
              "      <td>3.0</td>\n",
              "      <td>225.0</td>\n",
              "      <td>1790.0</td>\n",
              "      <td>11.0</td>\n",
              "      <td>22.0</td>\n",
              "    </tr>\n",
              "    <tr>\n",
              "      <th>...</th>\n",
              "      <td>...</td>\n",
              "      <td>...</td>\n",
              "      <td>...</td>\n",
              "      <td>...</td>\n",
              "      <td>...</td>\n",
              "      <td>...</td>\n",
              "      <td>...</td>\n",
              "      <td>...</td>\n",
              "      <td>...</td>\n",
              "      <td>...</td>\n",
              "      <td>...</td>\n",
              "      <td>...</td>\n",
              "      <td>...</td>\n",
              "      <td>...</td>\n",
              "      <td>...</td>\n",
              "    </tr>\n",
              "    <tr>\n",
              "      <th>187404</th>\n",
              "      <td>NaN</td>\n",
              "      <td>zirakpur</td>\n",
              "      <td>Ready to Move</td>\n",
              "      <td>Resale</td>\n",
              "      <td>Semi-Furnished</td>\n",
              "      <td>North</td>\n",
              "      <td>3.0</td>\n",
              "      <td>3</td>\n",
              "      <td>Freehold</td>\n",
              "      <td>Flat</td>\n",
              "      <td>3.0</td>\n",
              "      <td>NaN</td>\n",
              "      <td>1450.0</td>\n",
              "      <td>3.0</td>\n",
              "      <td>9.0</td>\n",
              "    </tr>\n",
              "    <tr>\n",
              "      <th>187442</th>\n",
              "      <td>NaN</td>\n",
              "      <td>zirakpur</td>\n",
              "      <td>Ready to Move</td>\n",
              "      <td>New Property</td>\n",
              "      <td>Semi-Furnished</td>\n",
              "      <td>North</td>\n",
              "      <td>3.0</td>\n",
              "      <td>2</td>\n",
              "      <td>Freehold</td>\n",
              "      <td>Flat</td>\n",
              "      <td>3.0</td>\n",
              "      <td>NaN</td>\n",
              "      <td>1200.0</td>\n",
              "      <td>2.0</td>\n",
              "      <td>4.0</td>\n",
              "    </tr>\n",
              "    <tr>\n",
              "      <th>187503</th>\n",
              "      <td>NaN</td>\n",
              "      <td>zirakpur</td>\n",
              "      <td>Ready to Move</td>\n",
              "      <td>New Property</td>\n",
              "      <td>Semi-Furnished</td>\n",
              "      <td>North - East</td>\n",
              "      <td>3.0</td>\n",
              "      <td>2</td>\n",
              "      <td>Co-operative Society</td>\n",
              "      <td>Flat</td>\n",
              "      <td>3.0</td>\n",
              "      <td>NaN</td>\n",
              "      <td>990.0</td>\n",
              "      <td>4.0</td>\n",
              "      <td>5.0</td>\n",
              "    </tr>\n",
              "    <tr>\n",
              "      <th>187506</th>\n",
              "      <td>NaN</td>\n",
              "      <td>zirakpur</td>\n",
              "      <td>Ready to Move</td>\n",
              "      <td>Resale</td>\n",
              "      <td>Furnished</td>\n",
              "      <td>East</td>\n",
              "      <td>4.0</td>\n",
              "      <td>4</td>\n",
              "      <td>Freehold</td>\n",
              "      <td>Flat</td>\n",
              "      <td>4.0</td>\n",
              "      <td>NaN</td>\n",
              "      <td>2500.0</td>\n",
              "      <td>6.0</td>\n",
              "      <td>7.0</td>\n",
              "    </tr>\n",
              "    <tr>\n",
              "      <th>187513</th>\n",
              "      <td>NaN</td>\n",
              "      <td>zirakpur</td>\n",
              "      <td>Ready to Move</td>\n",
              "      <td>Resale</td>\n",
              "      <td>Unfurnished</td>\n",
              "      <td>NaN</td>\n",
              "      <td>NaN</td>\n",
              "      <td>0</td>\n",
              "      <td>NaN</td>\n",
              "      <td>Flat</td>\n",
              "      <td>3.0</td>\n",
              "      <td>NaN</td>\n",
              "      <td>1200.0</td>\n",
              "      <td>3.0</td>\n",
              "      <td>3.0</td>\n",
              "    </tr>\n",
              "  </tbody>\n",
              "</table>\n",
              "<p>34652 rows × 15 columns</p>\n",
              "</div>\n",
              "    <div class=\"colab-df-buttons\">\n",
              "\n",
              "  <div class=\"colab-df-container\">\n",
              "    <button class=\"colab-df-convert\" onclick=\"convertToInteractive('df-a2b02788-a5d0-4f24-899c-0f38869122c6')\"\n",
              "            title=\"Convert this dataframe to an interactive table.\"\n",
              "            style=\"display:none;\">\n",
              "\n",
              "  <svg xmlns=\"http://www.w3.org/2000/svg\" height=\"24px\" viewBox=\"0 -960 960 960\">\n",
              "    <path d=\"M120-120v-720h720v720H120Zm60-500h600v-160H180v160Zm220 220h160v-160H400v160Zm0 220h160v-160H400v160ZM180-400h160v-160H180v160Zm440 0h160v-160H620v160ZM180-180h160v-160H180v160Zm440 0h160v-160H620v160Z\"/>\n",
              "  </svg>\n",
              "    </button>\n",
              "\n",
              "  <style>\n",
              "    .colab-df-container {\n",
              "      display:flex;\n",
              "      gap: 12px;\n",
              "    }\n",
              "\n",
              "    .colab-df-convert {\n",
              "      background-color: #E8F0FE;\n",
              "      border: none;\n",
              "      border-radius: 50%;\n",
              "      cursor: pointer;\n",
              "      display: none;\n",
              "      fill: #1967D2;\n",
              "      height: 32px;\n",
              "      padding: 0 0 0 0;\n",
              "      width: 32px;\n",
              "    }\n",
              "\n",
              "    .colab-df-convert:hover {\n",
              "      background-color: #E2EBFA;\n",
              "      box-shadow: 0px 1px 2px rgba(60, 64, 67, 0.3), 0px 1px 3px 1px rgba(60, 64, 67, 0.15);\n",
              "      fill: #174EA6;\n",
              "    }\n",
              "\n",
              "    .colab-df-buttons div {\n",
              "      margin-bottom: 4px;\n",
              "    }\n",
              "\n",
              "    [theme=dark] .colab-df-convert {\n",
              "      background-color: #3B4455;\n",
              "      fill: #D2E3FC;\n",
              "    }\n",
              "\n",
              "    [theme=dark] .colab-df-convert:hover {\n",
              "      background-color: #434B5C;\n",
              "      box-shadow: 0px 1px 3px 1px rgba(0, 0, 0, 0.15);\n",
              "      filter: drop-shadow(0px 1px 2px rgba(0, 0, 0, 0.3));\n",
              "      fill: #FFFFFF;\n",
              "    }\n",
              "  </style>\n",
              "\n",
              "    <script>\n",
              "      const buttonEl =\n",
              "        document.querySelector('#df-a2b02788-a5d0-4f24-899c-0f38869122c6 button.colab-df-convert');\n",
              "      buttonEl.style.display =\n",
              "        google.colab.kernel.accessAllowed ? 'block' : 'none';\n",
              "\n",
              "      async function convertToInteractive(key) {\n",
              "        const element = document.querySelector('#df-a2b02788-a5d0-4f24-899c-0f38869122c6');\n",
              "        const dataTable =\n",
              "          await google.colab.kernel.invokeFunction('convertToInteractive',\n",
              "                                                    [key], {});\n",
              "        if (!dataTable) return;\n",
              "\n",
              "        const docLinkHtml = 'Like what you see? Visit the ' +\n",
              "          '<a target=\"_blank\" href=https://colab.research.google.com/notebooks/data_table.ipynb>data table notebook</a>'\n",
              "          + ' to learn more about interactive tables.';\n",
              "        element.innerHTML = '';\n",
              "        dataTable['output_type'] = 'display_data';\n",
              "        await google.colab.output.renderOutput(dataTable, element);\n",
              "        const docLink = document.createElement('div');\n",
              "        docLink.innerHTML = docLinkHtml;\n",
              "        element.appendChild(docLink);\n",
              "      }\n",
              "    </script>\n",
              "  </div>\n",
              "\n",
              "\n",
              "<div id=\"df-b2f1cf51-7165-4929-897c-d2fe72abb733\">\n",
              "  <button class=\"colab-df-quickchart\" onclick=\"quickchart('df-b2f1cf51-7165-4929-897c-d2fe72abb733')\"\n",
              "            title=\"Suggest charts.\"\n",
              "            style=\"display:none;\">\n",
              "\n",
              "<svg xmlns=\"http://www.w3.org/2000/svg\" height=\"24px\"viewBox=\"0 0 24 24\"\n",
              "     width=\"24px\">\n",
              "    <g>\n",
              "        <path d=\"M19 3H5c-1.1 0-2 .9-2 2v14c0 1.1.9 2 2 2h14c1.1 0 2-.9 2-2V5c0-1.1-.9-2-2-2zM9 17H7v-7h2v7zm4 0h-2V7h2v10zm4 0h-2v-4h2v4z\"/>\n",
              "    </g>\n",
              "</svg>\n",
              "  </button>\n",
              "\n",
              "<style>\n",
              "  .colab-df-quickchart {\n",
              "      --bg-color: #E8F0FE;\n",
              "      --fill-color: #1967D2;\n",
              "      --hover-bg-color: #E2EBFA;\n",
              "      --hover-fill-color: #174EA6;\n",
              "      --disabled-fill-color: #AAA;\n",
              "      --disabled-bg-color: #DDD;\n",
              "  }\n",
              "\n",
              "  [theme=dark] .colab-df-quickchart {\n",
              "      --bg-color: #3B4455;\n",
              "      --fill-color: #D2E3FC;\n",
              "      --hover-bg-color: #434B5C;\n",
              "      --hover-fill-color: #FFFFFF;\n",
              "      --disabled-bg-color: #3B4455;\n",
              "      --disabled-fill-color: #666;\n",
              "  }\n",
              "\n",
              "  .colab-df-quickchart {\n",
              "    background-color: var(--bg-color);\n",
              "    border: none;\n",
              "    border-radius: 50%;\n",
              "    cursor: pointer;\n",
              "    display: none;\n",
              "    fill: var(--fill-color);\n",
              "    height: 32px;\n",
              "    padding: 0;\n",
              "    width: 32px;\n",
              "  }\n",
              "\n",
              "  .colab-df-quickchart:hover {\n",
              "    background-color: var(--hover-bg-color);\n",
              "    box-shadow: 0 1px 2px rgba(60, 64, 67, 0.3), 0 1px 3px 1px rgba(60, 64, 67, 0.15);\n",
              "    fill: var(--button-hover-fill-color);\n",
              "  }\n",
              "\n",
              "  .colab-df-quickchart-complete:disabled,\n",
              "  .colab-df-quickchart-complete:disabled:hover {\n",
              "    background-color: var(--disabled-bg-color);\n",
              "    fill: var(--disabled-fill-color);\n",
              "    box-shadow: none;\n",
              "  }\n",
              "\n",
              "  .colab-df-spinner {\n",
              "    border: 2px solid var(--fill-color);\n",
              "    border-color: transparent;\n",
              "    border-bottom-color: var(--fill-color);\n",
              "    animation:\n",
              "      spin 1s steps(1) infinite;\n",
              "  }\n",
              "\n",
              "  @keyframes spin {\n",
              "    0% {\n",
              "      border-color: transparent;\n",
              "      border-bottom-color: var(--fill-color);\n",
              "      border-left-color: var(--fill-color);\n",
              "    }\n",
              "    20% {\n",
              "      border-color: transparent;\n",
              "      border-left-color: var(--fill-color);\n",
              "      border-top-color: var(--fill-color);\n",
              "    }\n",
              "    30% {\n",
              "      border-color: transparent;\n",
              "      border-left-color: var(--fill-color);\n",
              "      border-top-color: var(--fill-color);\n",
              "      border-right-color: var(--fill-color);\n",
              "    }\n",
              "    40% {\n",
              "      border-color: transparent;\n",
              "      border-right-color: var(--fill-color);\n",
              "      border-top-color: var(--fill-color);\n",
              "    }\n",
              "    60% {\n",
              "      border-color: transparent;\n",
              "      border-right-color: var(--fill-color);\n",
              "    }\n",
              "    80% {\n",
              "      border-color: transparent;\n",
              "      border-right-color: var(--fill-color);\n",
              "      border-bottom-color: var(--fill-color);\n",
              "    }\n",
              "    90% {\n",
              "      border-color: transparent;\n",
              "      border-bottom-color: var(--fill-color);\n",
              "    }\n",
              "  }\n",
              "</style>\n",
              "\n",
              "  <script>\n",
              "    async function quickchart(key) {\n",
              "      const quickchartButtonEl =\n",
              "        document.querySelector('#' + key + ' button');\n",
              "      quickchartButtonEl.disabled = true;  // To prevent multiple clicks.\n",
              "      quickchartButtonEl.classList.add('colab-df-spinner');\n",
              "      try {\n",
              "        const charts = await google.colab.kernel.invokeFunction(\n",
              "            'suggestCharts', [key], {});\n",
              "      } catch (error) {\n",
              "        console.error('Error during call to suggestCharts:', error);\n",
              "      }\n",
              "      quickchartButtonEl.classList.remove('colab-df-spinner');\n",
              "      quickchartButtonEl.classList.add('colab-df-quickchart-complete');\n",
              "    }\n",
              "    (() => {\n",
              "      let quickchartButtonEl =\n",
              "        document.querySelector('#df-b2f1cf51-7165-4929-897c-d2fe72abb733 button');\n",
              "      quickchartButtonEl.style.display =\n",
              "        google.colab.kernel.accessAllowed ? 'block' : 'none';\n",
              "    })();\n",
              "  </script>\n",
              "</div>\n",
              "    </div>\n",
              "  </div>\n"
            ]
          },
          "metadata": {},
          "execution_count": 50
        }
      ]
    },
    {
      "cell_type": "markdown",
      "id": "63c3d306",
      "metadata": {
        "id": "63c3d306"
      },
      "source": [
        "# Categorical"
      ]
    },
    {
      "cell_type": "code",
      "execution_count": 29,
      "id": "db77d28f",
      "metadata": {
        "id": "db77d28f"
      },
      "outputs": [],
      "source": [
        "df_g = pd.get_dummies(df, drop_first=True)\n",
        "df_g.reset_index(inplace=True)\n",
        "df_g.drop(['index'], axis=1, inplace=True)"
      ]
    },
    {
      "cell_type": "code",
      "source": [
        "df_g"
      ],
      "metadata": {
        "colab": {
          "base_uri": "https://localhost:8080/",
          "height": 478
        },
        "id": "pNA_AHoID-mW",
        "outputId": "3e00b43a-8728-4b4e-8cd9-eb999f72ba5d"
      },
      "id": "pNA_AHoID-mW",
      "execution_count": 30,
      "outputs": [
        {
          "output_type": "execute_result",
          "data": {
            "text/plain": [
              "       Price (in rupees)  Bathroom  Balcony  Rooms_count  Amount  Carpet_area  \\\n",
              "0                 7207.0       2.0        0          2.0    96.0          0.0   \n",
              "1                 3600.0       2.0        3          2.0    36.0        800.0   \n",
              "2                 5728.0       2.0        2          2.0    72.0        900.0   \n",
              "3                 3007.0       1.0        1          1.0    23.0        498.0   \n",
              "4                12103.0       3.0        3          3.0   225.0       1790.0   \n",
              "...                  ...       ...      ...          ...     ...          ...   \n",
              "34647                NaN       3.0        3          3.0     NaN       1450.0   \n",
              "34648                NaN       3.0        2          3.0     NaN       1200.0   \n",
              "34649                NaN       3.0        2          3.0     NaN        990.0   \n",
              "34650                NaN       4.0        4          4.0     NaN       2500.0   \n",
              "34651                NaN       NaN        0          3.0     NaN       1200.0   \n",
              "\n",
              "       Floor  Floors  location_ahmadnagar  location_ahmedabad  ...  \\\n",
              "0        5.0    10.0                    0                   0  ...   \n",
              "1        5.0    25.0                    0                   0  ...   \n",
              "2        2.0    18.0                    0                   0  ...   \n",
              "3        1.0     5.0                    0                   1  ...   \n",
              "4       11.0    22.0                    0                   0  ...   \n",
              "...      ...     ...                  ...                 ...  ...   \n",
              "34647    3.0     9.0                    0                   0  ...   \n",
              "34648    2.0     4.0                    0                   0  ...   \n",
              "34649    4.0     5.0                    0                   0  ...   \n",
              "34650    6.0     7.0                    0                   0  ...   \n",
              "34651    3.0     3.0                    0                   0  ...   \n",
              "\n",
              "       facing_South  facing_South - East  facing_South -West  facing_West  \\\n",
              "0                 0                    0                   0            0   \n",
              "1                 0                    0                   0            0   \n",
              "2                 0                    0                   0            0   \n",
              "3                 0                    0                   0            0   \n",
              "4                 1                    0                   0            0   \n",
              "...             ...                  ...                 ...          ...   \n",
              "34647             0                    0                   0            0   \n",
              "34648             0                    0                   0            0   \n",
              "34649             0                    0                   0            0   \n",
              "34650             0                    0                   0            0   \n",
              "34651             0                    0                   0            0   \n",
              "\n",
              "       Ownership_Freehold  Ownership_Leasehold  Ownership_Power Of Attorney  \\\n",
              "0                       0                    0                            0   \n",
              "1                       0                    1                            0   \n",
              "2                       0                    0                            0   \n",
              "3                       1                    0                            0   \n",
              "4                       1                    0                            0   \n",
              "...                   ...                  ...                          ...   \n",
              "34647                   1                    0                            0   \n",
              "34648                   1                    0                            0   \n",
              "34649                   0                    0                            0   \n",
              "34650                   1                    0                            0   \n",
              "34651                   0                    0                            0   \n",
              "\n",
              "       Flat_or_Apartment_ Builder Floor  Flat_or_Apartment_ Studio Apartment  \\\n",
              "0                                     0                                    0   \n",
              "1                                     0                                    0   \n",
              "2                                     0                                    0   \n",
              "3                                     0                                    0   \n",
              "4                                     0                                    0   \n",
              "...                                 ...                                  ...   \n",
              "34647                                 0                                    0   \n",
              "34648                                 0                                    0   \n",
              "34649                                 0                                    0   \n",
              "34650                                 0                                    0   \n",
              "34651                                 0                                    0   \n",
              "\n",
              "       Flat_or_Apartment_Flat  \n",
              "0                           1  \n",
              "1                           1  \n",
              "2                           1  \n",
              "3                           1  \n",
              "4                           1  \n",
              "...                       ...  \n",
              "34647                       1  \n",
              "34648                       1  \n",
              "34649                       1  \n",
              "34650                       1  \n",
              "34651                       1  \n",
              "\n",
              "[34652 rows x 106 columns]"
            ],
            "text/html": [
              "\n",
              "  <div id=\"df-aa50446c-6073-45ca-85ef-9419a61c2835\" class=\"colab-df-container\">\n",
              "    <div>\n",
              "<style scoped>\n",
              "    .dataframe tbody tr th:only-of-type {\n",
              "        vertical-align: middle;\n",
              "    }\n",
              "\n",
              "    .dataframe tbody tr th {\n",
              "        vertical-align: top;\n",
              "    }\n",
              "\n",
              "    .dataframe thead th {\n",
              "        text-align: right;\n",
              "    }\n",
              "</style>\n",
              "<table border=\"1\" class=\"dataframe\">\n",
              "  <thead>\n",
              "    <tr style=\"text-align: right;\">\n",
              "      <th></th>\n",
              "      <th>Price (in rupees)</th>\n",
              "      <th>Bathroom</th>\n",
              "      <th>Balcony</th>\n",
              "      <th>Rooms_count</th>\n",
              "      <th>Amount</th>\n",
              "      <th>Carpet_area</th>\n",
              "      <th>Floor</th>\n",
              "      <th>Floors</th>\n",
              "      <th>location_ahmadnagar</th>\n",
              "      <th>location_ahmedabad</th>\n",
              "      <th>...</th>\n",
              "      <th>facing_South</th>\n",
              "      <th>facing_South - East</th>\n",
              "      <th>facing_South -West</th>\n",
              "      <th>facing_West</th>\n",
              "      <th>Ownership_Freehold</th>\n",
              "      <th>Ownership_Leasehold</th>\n",
              "      <th>Ownership_Power Of Attorney</th>\n",
              "      <th>Flat_or_Apartment_ Builder Floor</th>\n",
              "      <th>Flat_or_Apartment_ Studio Apartment</th>\n",
              "      <th>Flat_or_Apartment_Flat</th>\n",
              "    </tr>\n",
              "  </thead>\n",
              "  <tbody>\n",
              "    <tr>\n",
              "      <th>0</th>\n",
              "      <td>7207.0</td>\n",
              "      <td>2.0</td>\n",
              "      <td>0</td>\n",
              "      <td>2.0</td>\n",
              "      <td>96.0</td>\n",
              "      <td>0.0</td>\n",
              "      <td>5.0</td>\n",
              "      <td>10.0</td>\n",
              "      <td>0</td>\n",
              "      <td>0</td>\n",
              "      <td>...</td>\n",
              "      <td>0</td>\n",
              "      <td>0</td>\n",
              "      <td>0</td>\n",
              "      <td>0</td>\n",
              "      <td>0</td>\n",
              "      <td>0</td>\n",
              "      <td>0</td>\n",
              "      <td>0</td>\n",
              "      <td>0</td>\n",
              "      <td>1</td>\n",
              "    </tr>\n",
              "    <tr>\n",
              "      <th>1</th>\n",
              "      <td>3600.0</td>\n",
              "      <td>2.0</td>\n",
              "      <td>3</td>\n",
              "      <td>2.0</td>\n",
              "      <td>36.0</td>\n",
              "      <td>800.0</td>\n",
              "      <td>5.0</td>\n",
              "      <td>25.0</td>\n",
              "      <td>0</td>\n",
              "      <td>0</td>\n",
              "      <td>...</td>\n",
              "      <td>0</td>\n",
              "      <td>0</td>\n",
              "      <td>0</td>\n",
              "      <td>0</td>\n",
              "      <td>0</td>\n",
              "      <td>1</td>\n",
              "      <td>0</td>\n",
              "      <td>0</td>\n",
              "      <td>0</td>\n",
              "      <td>1</td>\n",
              "    </tr>\n",
              "    <tr>\n",
              "      <th>2</th>\n",
              "      <td>5728.0</td>\n",
              "      <td>2.0</td>\n",
              "      <td>2</td>\n",
              "      <td>2.0</td>\n",
              "      <td>72.0</td>\n",
              "      <td>900.0</td>\n",
              "      <td>2.0</td>\n",
              "      <td>18.0</td>\n",
              "      <td>0</td>\n",
              "      <td>0</td>\n",
              "      <td>...</td>\n",
              "      <td>0</td>\n",
              "      <td>0</td>\n",
              "      <td>0</td>\n",
              "      <td>0</td>\n",
              "      <td>0</td>\n",
              "      <td>0</td>\n",
              "      <td>0</td>\n",
              "      <td>0</td>\n",
              "      <td>0</td>\n",
              "      <td>1</td>\n",
              "    </tr>\n",
              "    <tr>\n",
              "      <th>3</th>\n",
              "      <td>3007.0</td>\n",
              "      <td>1.0</td>\n",
              "      <td>1</td>\n",
              "      <td>1.0</td>\n",
              "      <td>23.0</td>\n",
              "      <td>498.0</td>\n",
              "      <td>1.0</td>\n",
              "      <td>5.0</td>\n",
              "      <td>0</td>\n",
              "      <td>1</td>\n",
              "      <td>...</td>\n",
              "      <td>0</td>\n",
              "      <td>0</td>\n",
              "      <td>0</td>\n",
              "      <td>0</td>\n",
              "      <td>1</td>\n",
              "      <td>0</td>\n",
              "      <td>0</td>\n",
              "      <td>0</td>\n",
              "      <td>0</td>\n",
              "      <td>1</td>\n",
              "    </tr>\n",
              "    <tr>\n",
              "      <th>4</th>\n",
              "      <td>12103.0</td>\n",
              "      <td>3.0</td>\n",
              "      <td>3</td>\n",
              "      <td>3.0</td>\n",
              "      <td>225.0</td>\n",
              "      <td>1790.0</td>\n",
              "      <td>11.0</td>\n",
              "      <td>22.0</td>\n",
              "      <td>0</td>\n",
              "      <td>0</td>\n",
              "      <td>...</td>\n",
              "      <td>1</td>\n",
              "      <td>0</td>\n",
              "      <td>0</td>\n",
              "      <td>0</td>\n",
              "      <td>1</td>\n",
              "      <td>0</td>\n",
              "      <td>0</td>\n",
              "      <td>0</td>\n",
              "      <td>0</td>\n",
              "      <td>1</td>\n",
              "    </tr>\n",
              "    <tr>\n",
              "      <th>...</th>\n",
              "      <td>...</td>\n",
              "      <td>...</td>\n",
              "      <td>...</td>\n",
              "      <td>...</td>\n",
              "      <td>...</td>\n",
              "      <td>...</td>\n",
              "      <td>...</td>\n",
              "      <td>...</td>\n",
              "      <td>...</td>\n",
              "      <td>...</td>\n",
              "      <td>...</td>\n",
              "      <td>...</td>\n",
              "      <td>...</td>\n",
              "      <td>...</td>\n",
              "      <td>...</td>\n",
              "      <td>...</td>\n",
              "      <td>...</td>\n",
              "      <td>...</td>\n",
              "      <td>...</td>\n",
              "      <td>...</td>\n",
              "      <td>...</td>\n",
              "    </tr>\n",
              "    <tr>\n",
              "      <th>34647</th>\n",
              "      <td>NaN</td>\n",
              "      <td>3.0</td>\n",
              "      <td>3</td>\n",
              "      <td>3.0</td>\n",
              "      <td>NaN</td>\n",
              "      <td>1450.0</td>\n",
              "      <td>3.0</td>\n",
              "      <td>9.0</td>\n",
              "      <td>0</td>\n",
              "      <td>0</td>\n",
              "      <td>...</td>\n",
              "      <td>0</td>\n",
              "      <td>0</td>\n",
              "      <td>0</td>\n",
              "      <td>0</td>\n",
              "      <td>1</td>\n",
              "      <td>0</td>\n",
              "      <td>0</td>\n",
              "      <td>0</td>\n",
              "      <td>0</td>\n",
              "      <td>1</td>\n",
              "    </tr>\n",
              "    <tr>\n",
              "      <th>34648</th>\n",
              "      <td>NaN</td>\n",
              "      <td>3.0</td>\n",
              "      <td>2</td>\n",
              "      <td>3.0</td>\n",
              "      <td>NaN</td>\n",
              "      <td>1200.0</td>\n",
              "      <td>2.0</td>\n",
              "      <td>4.0</td>\n",
              "      <td>0</td>\n",
              "      <td>0</td>\n",
              "      <td>...</td>\n",
              "      <td>0</td>\n",
              "      <td>0</td>\n",
              "      <td>0</td>\n",
              "      <td>0</td>\n",
              "      <td>1</td>\n",
              "      <td>0</td>\n",
              "      <td>0</td>\n",
              "      <td>0</td>\n",
              "      <td>0</td>\n",
              "      <td>1</td>\n",
              "    </tr>\n",
              "    <tr>\n",
              "      <th>34649</th>\n",
              "      <td>NaN</td>\n",
              "      <td>3.0</td>\n",
              "      <td>2</td>\n",
              "      <td>3.0</td>\n",
              "      <td>NaN</td>\n",
              "      <td>990.0</td>\n",
              "      <td>4.0</td>\n",
              "      <td>5.0</td>\n",
              "      <td>0</td>\n",
              "      <td>0</td>\n",
              "      <td>...</td>\n",
              "      <td>0</td>\n",
              "      <td>0</td>\n",
              "      <td>0</td>\n",
              "      <td>0</td>\n",
              "      <td>0</td>\n",
              "      <td>0</td>\n",
              "      <td>0</td>\n",
              "      <td>0</td>\n",
              "      <td>0</td>\n",
              "      <td>1</td>\n",
              "    </tr>\n",
              "    <tr>\n",
              "      <th>34650</th>\n",
              "      <td>NaN</td>\n",
              "      <td>4.0</td>\n",
              "      <td>4</td>\n",
              "      <td>4.0</td>\n",
              "      <td>NaN</td>\n",
              "      <td>2500.0</td>\n",
              "      <td>6.0</td>\n",
              "      <td>7.0</td>\n",
              "      <td>0</td>\n",
              "      <td>0</td>\n",
              "      <td>...</td>\n",
              "      <td>0</td>\n",
              "      <td>0</td>\n",
              "      <td>0</td>\n",
              "      <td>0</td>\n",
              "      <td>1</td>\n",
              "      <td>0</td>\n",
              "      <td>0</td>\n",
              "      <td>0</td>\n",
              "      <td>0</td>\n",
              "      <td>1</td>\n",
              "    </tr>\n",
              "    <tr>\n",
              "      <th>34651</th>\n",
              "      <td>NaN</td>\n",
              "      <td>NaN</td>\n",
              "      <td>0</td>\n",
              "      <td>3.0</td>\n",
              "      <td>NaN</td>\n",
              "      <td>1200.0</td>\n",
              "      <td>3.0</td>\n",
              "      <td>3.0</td>\n",
              "      <td>0</td>\n",
              "      <td>0</td>\n",
              "      <td>...</td>\n",
              "      <td>0</td>\n",
              "      <td>0</td>\n",
              "      <td>0</td>\n",
              "      <td>0</td>\n",
              "      <td>0</td>\n",
              "      <td>0</td>\n",
              "      <td>0</td>\n",
              "      <td>0</td>\n",
              "      <td>0</td>\n",
              "      <td>1</td>\n",
              "    </tr>\n",
              "  </tbody>\n",
              "</table>\n",
              "<p>34652 rows × 106 columns</p>\n",
              "</div>\n",
              "    <div class=\"colab-df-buttons\">\n",
              "\n",
              "  <div class=\"colab-df-container\">\n",
              "    <button class=\"colab-df-convert\" onclick=\"convertToInteractive('df-aa50446c-6073-45ca-85ef-9419a61c2835')\"\n",
              "            title=\"Convert this dataframe to an interactive table.\"\n",
              "            style=\"display:none;\">\n",
              "\n",
              "  <svg xmlns=\"http://www.w3.org/2000/svg\" height=\"24px\" viewBox=\"0 -960 960 960\">\n",
              "    <path d=\"M120-120v-720h720v720H120Zm60-500h600v-160H180v160Zm220 220h160v-160H400v160Zm0 220h160v-160H400v160ZM180-400h160v-160H180v160Zm440 0h160v-160H620v160ZM180-180h160v-160H180v160Zm440 0h160v-160H620v160Z\"/>\n",
              "  </svg>\n",
              "    </button>\n",
              "\n",
              "  <style>\n",
              "    .colab-df-container {\n",
              "      display:flex;\n",
              "      gap: 12px;\n",
              "    }\n",
              "\n",
              "    .colab-df-convert {\n",
              "      background-color: #E8F0FE;\n",
              "      border: none;\n",
              "      border-radius: 50%;\n",
              "      cursor: pointer;\n",
              "      display: none;\n",
              "      fill: #1967D2;\n",
              "      height: 32px;\n",
              "      padding: 0 0 0 0;\n",
              "      width: 32px;\n",
              "    }\n",
              "\n",
              "    .colab-df-convert:hover {\n",
              "      background-color: #E2EBFA;\n",
              "      box-shadow: 0px 1px 2px rgba(60, 64, 67, 0.3), 0px 1px 3px 1px rgba(60, 64, 67, 0.15);\n",
              "      fill: #174EA6;\n",
              "    }\n",
              "\n",
              "    .colab-df-buttons div {\n",
              "      margin-bottom: 4px;\n",
              "    }\n",
              "\n",
              "    [theme=dark] .colab-df-convert {\n",
              "      background-color: #3B4455;\n",
              "      fill: #D2E3FC;\n",
              "    }\n",
              "\n",
              "    [theme=dark] .colab-df-convert:hover {\n",
              "      background-color: #434B5C;\n",
              "      box-shadow: 0px 1px 3px 1px rgba(0, 0, 0, 0.15);\n",
              "      filter: drop-shadow(0px 1px 2px rgba(0, 0, 0, 0.3));\n",
              "      fill: #FFFFFF;\n",
              "    }\n",
              "  </style>\n",
              "\n",
              "    <script>\n",
              "      const buttonEl =\n",
              "        document.querySelector('#df-aa50446c-6073-45ca-85ef-9419a61c2835 button.colab-df-convert');\n",
              "      buttonEl.style.display =\n",
              "        google.colab.kernel.accessAllowed ? 'block' : 'none';\n",
              "\n",
              "      async function convertToInteractive(key) {\n",
              "        const element = document.querySelector('#df-aa50446c-6073-45ca-85ef-9419a61c2835');\n",
              "        const dataTable =\n",
              "          await google.colab.kernel.invokeFunction('convertToInteractive',\n",
              "                                                    [key], {});\n",
              "        if (!dataTable) return;\n",
              "\n",
              "        const docLinkHtml = 'Like what you see? Visit the ' +\n",
              "          '<a target=\"_blank\" href=https://colab.research.google.com/notebooks/data_table.ipynb>data table notebook</a>'\n",
              "          + ' to learn more about interactive tables.';\n",
              "        element.innerHTML = '';\n",
              "        dataTable['output_type'] = 'display_data';\n",
              "        await google.colab.output.renderOutput(dataTable, element);\n",
              "        const docLink = document.createElement('div');\n",
              "        docLink.innerHTML = docLinkHtml;\n",
              "        element.appendChild(docLink);\n",
              "      }\n",
              "    </script>\n",
              "  </div>\n",
              "\n",
              "\n",
              "<div id=\"df-230a55e1-2fb9-453e-b21a-9eaef261c896\">\n",
              "  <button class=\"colab-df-quickchart\" onclick=\"quickchart('df-230a55e1-2fb9-453e-b21a-9eaef261c896')\"\n",
              "            title=\"Suggest charts.\"\n",
              "            style=\"display:none;\">\n",
              "\n",
              "<svg xmlns=\"http://www.w3.org/2000/svg\" height=\"24px\"viewBox=\"0 0 24 24\"\n",
              "     width=\"24px\">\n",
              "    <g>\n",
              "        <path d=\"M19 3H5c-1.1 0-2 .9-2 2v14c0 1.1.9 2 2 2h14c1.1 0 2-.9 2-2V5c0-1.1-.9-2-2-2zM9 17H7v-7h2v7zm4 0h-2V7h2v10zm4 0h-2v-4h2v4z\"/>\n",
              "    </g>\n",
              "</svg>\n",
              "  </button>\n",
              "\n",
              "<style>\n",
              "  .colab-df-quickchart {\n",
              "      --bg-color: #E8F0FE;\n",
              "      --fill-color: #1967D2;\n",
              "      --hover-bg-color: #E2EBFA;\n",
              "      --hover-fill-color: #174EA6;\n",
              "      --disabled-fill-color: #AAA;\n",
              "      --disabled-bg-color: #DDD;\n",
              "  }\n",
              "\n",
              "  [theme=dark] .colab-df-quickchart {\n",
              "      --bg-color: #3B4455;\n",
              "      --fill-color: #D2E3FC;\n",
              "      --hover-bg-color: #434B5C;\n",
              "      --hover-fill-color: #FFFFFF;\n",
              "      --disabled-bg-color: #3B4455;\n",
              "      --disabled-fill-color: #666;\n",
              "  }\n",
              "\n",
              "  .colab-df-quickchart {\n",
              "    background-color: var(--bg-color);\n",
              "    border: none;\n",
              "    border-radius: 50%;\n",
              "    cursor: pointer;\n",
              "    display: none;\n",
              "    fill: var(--fill-color);\n",
              "    height: 32px;\n",
              "    padding: 0;\n",
              "    width: 32px;\n",
              "  }\n",
              "\n",
              "  .colab-df-quickchart:hover {\n",
              "    background-color: var(--hover-bg-color);\n",
              "    box-shadow: 0 1px 2px rgba(60, 64, 67, 0.3), 0 1px 3px 1px rgba(60, 64, 67, 0.15);\n",
              "    fill: var(--button-hover-fill-color);\n",
              "  }\n",
              "\n",
              "  .colab-df-quickchart-complete:disabled,\n",
              "  .colab-df-quickchart-complete:disabled:hover {\n",
              "    background-color: var(--disabled-bg-color);\n",
              "    fill: var(--disabled-fill-color);\n",
              "    box-shadow: none;\n",
              "  }\n",
              "\n",
              "  .colab-df-spinner {\n",
              "    border: 2px solid var(--fill-color);\n",
              "    border-color: transparent;\n",
              "    border-bottom-color: var(--fill-color);\n",
              "    animation:\n",
              "      spin 1s steps(1) infinite;\n",
              "  }\n",
              "\n",
              "  @keyframes spin {\n",
              "    0% {\n",
              "      border-color: transparent;\n",
              "      border-bottom-color: var(--fill-color);\n",
              "      border-left-color: var(--fill-color);\n",
              "    }\n",
              "    20% {\n",
              "      border-color: transparent;\n",
              "      border-left-color: var(--fill-color);\n",
              "      border-top-color: var(--fill-color);\n",
              "    }\n",
              "    30% {\n",
              "      border-color: transparent;\n",
              "      border-left-color: var(--fill-color);\n",
              "      border-top-color: var(--fill-color);\n",
              "      border-right-color: var(--fill-color);\n",
              "    }\n",
              "    40% {\n",
              "      border-color: transparent;\n",
              "      border-right-color: var(--fill-color);\n",
              "      border-top-color: var(--fill-color);\n",
              "    }\n",
              "    60% {\n",
              "      border-color: transparent;\n",
              "      border-right-color: var(--fill-color);\n",
              "    }\n",
              "    80% {\n",
              "      border-color: transparent;\n",
              "      border-right-color: var(--fill-color);\n",
              "      border-bottom-color: var(--fill-color);\n",
              "    }\n",
              "    90% {\n",
              "      border-color: transparent;\n",
              "      border-bottom-color: var(--fill-color);\n",
              "    }\n",
              "  }\n",
              "</style>\n",
              "\n",
              "  <script>\n",
              "    async function quickchart(key) {\n",
              "      const quickchartButtonEl =\n",
              "        document.querySelector('#' + key + ' button');\n",
              "      quickchartButtonEl.disabled = true;  // To prevent multiple clicks.\n",
              "      quickchartButtonEl.classList.add('colab-df-spinner');\n",
              "      try {\n",
              "        const charts = await google.colab.kernel.invokeFunction(\n",
              "            'suggestCharts', [key], {});\n",
              "      } catch (error) {\n",
              "        console.error('Error during call to suggestCharts:', error);\n",
              "      }\n",
              "      quickchartButtonEl.classList.remove('colab-df-spinner');\n",
              "      quickchartButtonEl.classList.add('colab-df-quickchart-complete');\n",
              "    }\n",
              "    (() => {\n",
              "      let quickchartButtonEl =\n",
              "        document.querySelector('#df-230a55e1-2fb9-453e-b21a-9eaef261c896 button');\n",
              "      quickchartButtonEl.style.display =\n",
              "        google.colab.kernel.accessAllowed ? 'block' : 'none';\n",
              "    })();\n",
              "  </script>\n",
              "</div>\n",
              "    </div>\n",
              "  </div>\n"
            ]
          },
          "metadata": {},
          "execution_count": 30
        }
      ]
    },
    {
      "cell_type": "markdown",
      "id": "f23727eb",
      "metadata": {
        "id": "f23727eb"
      },
      "source": [
        "# Fill in the gaps"
      ]
    },
    {
      "cell_type": "code",
      "execution_count": 31,
      "id": "110dacfa",
      "metadata": {
        "colab": {
          "base_uri": "https://localhost:8080/"
        },
        "id": "110dacfa",
        "outputId": "46501daf-176a-4910-8179-b2607f2a354c"
      },
      "outputs": [
        {
          "output_type": "execute_result",
          "data": {
            "text/plain": [
              "Price (in rupees)    17665\n",
              "location                 0\n",
              "Status                   0\n",
              "Transaction              0\n",
              "Furnishing               0\n",
              "facing               14329\n",
              "Bathroom               168\n",
              "Balcony                  0\n",
              "Ownership            12997\n",
              "Flat_or_Apartment        0\n",
              "Rooms_count            643\n",
              "Amount                9684\n",
              "Carpet_area              0\n",
              "Floor                  920\n",
              "Floors                 934\n",
              "dtype: int64"
            ]
          },
          "metadata": {},
          "execution_count": 31
        }
      ],
      "source": [
        "df.isna().sum()"
      ]
    },
    {
      "cell_type": "code",
      "execution_count": 32,
      "id": "e6bb6403",
      "metadata": {
        "colab": {
          "base_uri": "https://localhost:8080/"
        },
        "id": "e6bb6403",
        "outputId": "ee5cfbd1-cd34-45a8-987b-d9546aa7beb9"
      },
      "outputs": [
        {
          "output_type": "stream",
          "name": "stdout",
          "text": [
            "CPU times: user 4 µs, sys: 0 ns, total: 4 µs\n",
            "Wall time: 7.87 µs\n"
          ]
        }
      ],
      "source": [
        "%time\n",
        "imp = IterativeImputer(max_iter=10, random_state=0)\n",
        "imp.fit(df_g.iloc[:,1:].values)\n",
        "df_g_it = imp.transform(df_g.iloc[:,1:].values)"
      ]
    },
    {
      "cell_type": "code",
      "execution_count": 33,
      "id": "004d09f9",
      "metadata": {
        "colab": {
          "base_uri": "https://localhost:8080/"
        },
        "id": "004d09f9",
        "outputId": "7b6a0604-8e39-42d3-d59e-4b136f7752cb"
      },
      "outputs": [
        {
          "output_type": "execute_result",
          "data": {
            "text/plain": [
              "array([[2.        , 0.        , 2.        , ..., 0.        , 0.        ,\n",
              "        1.        ],\n",
              "       [2.        , 3.        , 2.        , ..., 0.        , 0.        ,\n",
              "        1.        ],\n",
              "       [2.        , 2.        , 2.        , ..., 0.        , 0.        ,\n",
              "        1.        ],\n",
              "       ...,\n",
              "       [3.        , 2.        , 3.        , ..., 0.        , 0.        ,\n",
              "        1.        ],\n",
              "       [4.        , 4.        , 4.        , ..., 0.        , 0.        ,\n",
              "        1.        ],\n",
              "       [2.70322745, 0.        , 3.        , ..., 0.        , 0.        ,\n",
              "        1.        ]])"
            ]
          },
          "metadata": {},
          "execution_count": 33
        }
      ],
      "source": [
        "df_g_it"
      ]
    },
    {
      "cell_type": "code",
      "execution_count": 34,
      "id": "a2c0dc8d",
      "metadata": {
        "id": "a2c0dc8d"
      },
      "outputs": [],
      "source": [
        "df2 = df_g_it"
      ]
    },
    {
      "cell_type": "code",
      "execution_count": 35,
      "id": "1f698311",
      "metadata": {
        "colab": {
          "base_uri": "https://localhost:8080/",
          "height": 273
        },
        "id": "1f698311",
        "outputId": "e6aefc81-e980-43ed-fc01-38dbbee62270"
      },
      "outputs": [
        {
          "output_type": "execute_result",
          "data": {
            "text/plain": [
              "   Bathroom  Balcony  Rooms_count  Amount  Carpet_area  Floor  Floors  \\\n",
              "0       2.0      0.0          2.0    96.0          0.0    5.0    10.0   \n",
              "1       2.0      3.0          2.0    36.0        800.0    5.0    25.0   \n",
              "2       2.0      2.0          2.0    72.0        900.0    2.0    18.0   \n",
              "3       1.0      1.0          1.0    23.0        498.0    1.0     5.0   \n",
              "4       3.0      3.0          3.0   225.0       1790.0   11.0    22.0   \n",
              "\n",
              "   location_ahmadnagar  location_ahmedabad  location_allahabad  ...  \\\n",
              "0                  0.0                 0.0                 0.0  ...   \n",
              "1                  0.0                 0.0                 0.0  ...   \n",
              "2                  0.0                 0.0                 0.0  ...   \n",
              "3                  0.0                 1.0                 0.0  ...   \n",
              "4                  0.0                 0.0                 0.0  ...   \n",
              "\n",
              "   facing_South - East  facing_South -West  facing_West  Ownership_Freehold  \\\n",
              "0                  0.0                 0.0          0.0                 0.0   \n",
              "1                  0.0                 0.0          0.0                 0.0   \n",
              "2                  0.0                 0.0          0.0                 0.0   \n",
              "3                  0.0                 0.0          0.0                 1.0   \n",
              "4                  0.0                 0.0          0.0                 1.0   \n",
              "\n",
              "   Ownership_Leasehold  Ownership_Power Of Attorney  \\\n",
              "0                  0.0                          0.0   \n",
              "1                  1.0                          0.0   \n",
              "2                  0.0                          0.0   \n",
              "3                  0.0                          0.0   \n",
              "4                  0.0                          0.0   \n",
              "\n",
              "   Flat_or_Apartment_ Builder Floor  Flat_or_Apartment_ Studio Apartment  \\\n",
              "0                               0.0                                  0.0   \n",
              "1                               0.0                                  0.0   \n",
              "2                               0.0                                  0.0   \n",
              "3                               0.0                                  0.0   \n",
              "4                               0.0                                  0.0   \n",
              "\n",
              "   Flat_or_Apartment_Flat    Price  \n",
              "0                     1.0   7207.0  \n",
              "1                     1.0   3600.0  \n",
              "2                     1.0   5728.0  \n",
              "3                     1.0   3007.0  \n",
              "4                     1.0  12103.0  \n",
              "\n",
              "[5 rows x 106 columns]"
            ],
            "text/html": [
              "\n",
              "  <div id=\"df-24b81147-3457-4fbc-b66a-2ad6067918d7\" class=\"colab-df-container\">\n",
              "    <div>\n",
              "<style scoped>\n",
              "    .dataframe tbody tr th:only-of-type {\n",
              "        vertical-align: middle;\n",
              "    }\n",
              "\n",
              "    .dataframe tbody tr th {\n",
              "        vertical-align: top;\n",
              "    }\n",
              "\n",
              "    .dataframe thead th {\n",
              "        text-align: right;\n",
              "    }\n",
              "</style>\n",
              "<table border=\"1\" class=\"dataframe\">\n",
              "  <thead>\n",
              "    <tr style=\"text-align: right;\">\n",
              "      <th></th>\n",
              "      <th>Bathroom</th>\n",
              "      <th>Balcony</th>\n",
              "      <th>Rooms_count</th>\n",
              "      <th>Amount</th>\n",
              "      <th>Carpet_area</th>\n",
              "      <th>Floor</th>\n",
              "      <th>Floors</th>\n",
              "      <th>location_ahmadnagar</th>\n",
              "      <th>location_ahmedabad</th>\n",
              "      <th>location_allahabad</th>\n",
              "      <th>...</th>\n",
              "      <th>facing_South - East</th>\n",
              "      <th>facing_South -West</th>\n",
              "      <th>facing_West</th>\n",
              "      <th>Ownership_Freehold</th>\n",
              "      <th>Ownership_Leasehold</th>\n",
              "      <th>Ownership_Power Of Attorney</th>\n",
              "      <th>Flat_or_Apartment_ Builder Floor</th>\n",
              "      <th>Flat_or_Apartment_ Studio Apartment</th>\n",
              "      <th>Flat_or_Apartment_Flat</th>\n",
              "      <th>Price</th>\n",
              "    </tr>\n",
              "  </thead>\n",
              "  <tbody>\n",
              "    <tr>\n",
              "      <th>0</th>\n",
              "      <td>2.0</td>\n",
              "      <td>0.0</td>\n",
              "      <td>2.0</td>\n",
              "      <td>96.0</td>\n",
              "      <td>0.0</td>\n",
              "      <td>5.0</td>\n",
              "      <td>10.0</td>\n",
              "      <td>0.0</td>\n",
              "      <td>0.0</td>\n",
              "      <td>0.0</td>\n",
              "      <td>...</td>\n",
              "      <td>0.0</td>\n",
              "      <td>0.0</td>\n",
              "      <td>0.0</td>\n",
              "      <td>0.0</td>\n",
              "      <td>0.0</td>\n",
              "      <td>0.0</td>\n",
              "      <td>0.0</td>\n",
              "      <td>0.0</td>\n",
              "      <td>1.0</td>\n",
              "      <td>7207.0</td>\n",
              "    </tr>\n",
              "    <tr>\n",
              "      <th>1</th>\n",
              "      <td>2.0</td>\n",
              "      <td>3.0</td>\n",
              "      <td>2.0</td>\n",
              "      <td>36.0</td>\n",
              "      <td>800.0</td>\n",
              "      <td>5.0</td>\n",
              "      <td>25.0</td>\n",
              "      <td>0.0</td>\n",
              "      <td>0.0</td>\n",
              "      <td>0.0</td>\n",
              "      <td>...</td>\n",
              "      <td>0.0</td>\n",
              "      <td>0.0</td>\n",
              "      <td>0.0</td>\n",
              "      <td>0.0</td>\n",
              "      <td>1.0</td>\n",
              "      <td>0.0</td>\n",
              "      <td>0.0</td>\n",
              "      <td>0.0</td>\n",
              "      <td>1.0</td>\n",
              "      <td>3600.0</td>\n",
              "    </tr>\n",
              "    <tr>\n",
              "      <th>2</th>\n",
              "      <td>2.0</td>\n",
              "      <td>2.0</td>\n",
              "      <td>2.0</td>\n",
              "      <td>72.0</td>\n",
              "      <td>900.0</td>\n",
              "      <td>2.0</td>\n",
              "      <td>18.0</td>\n",
              "      <td>0.0</td>\n",
              "      <td>0.0</td>\n",
              "      <td>0.0</td>\n",
              "      <td>...</td>\n",
              "      <td>0.0</td>\n",
              "      <td>0.0</td>\n",
              "      <td>0.0</td>\n",
              "      <td>0.0</td>\n",
              "      <td>0.0</td>\n",
              "      <td>0.0</td>\n",
              "      <td>0.0</td>\n",
              "      <td>0.0</td>\n",
              "      <td>1.0</td>\n",
              "      <td>5728.0</td>\n",
              "    </tr>\n",
              "    <tr>\n",
              "      <th>3</th>\n",
              "      <td>1.0</td>\n",
              "      <td>1.0</td>\n",
              "      <td>1.0</td>\n",
              "      <td>23.0</td>\n",
              "      <td>498.0</td>\n",
              "      <td>1.0</td>\n",
              "      <td>5.0</td>\n",
              "      <td>0.0</td>\n",
              "      <td>1.0</td>\n",
              "      <td>0.0</td>\n",
              "      <td>...</td>\n",
              "      <td>0.0</td>\n",
              "      <td>0.0</td>\n",
              "      <td>0.0</td>\n",
              "      <td>1.0</td>\n",
              "      <td>0.0</td>\n",
              "      <td>0.0</td>\n",
              "      <td>0.0</td>\n",
              "      <td>0.0</td>\n",
              "      <td>1.0</td>\n",
              "      <td>3007.0</td>\n",
              "    </tr>\n",
              "    <tr>\n",
              "      <th>4</th>\n",
              "      <td>3.0</td>\n",
              "      <td>3.0</td>\n",
              "      <td>3.0</td>\n",
              "      <td>225.0</td>\n",
              "      <td>1790.0</td>\n",
              "      <td>11.0</td>\n",
              "      <td>22.0</td>\n",
              "      <td>0.0</td>\n",
              "      <td>0.0</td>\n",
              "      <td>0.0</td>\n",
              "      <td>...</td>\n",
              "      <td>0.0</td>\n",
              "      <td>0.0</td>\n",
              "      <td>0.0</td>\n",
              "      <td>1.0</td>\n",
              "      <td>0.0</td>\n",
              "      <td>0.0</td>\n",
              "      <td>0.0</td>\n",
              "      <td>0.0</td>\n",
              "      <td>1.0</td>\n",
              "      <td>12103.0</td>\n",
              "    </tr>\n",
              "  </tbody>\n",
              "</table>\n",
              "<p>5 rows × 106 columns</p>\n",
              "</div>\n",
              "    <div class=\"colab-df-buttons\">\n",
              "\n",
              "  <div class=\"colab-df-container\">\n",
              "    <button class=\"colab-df-convert\" onclick=\"convertToInteractive('df-24b81147-3457-4fbc-b66a-2ad6067918d7')\"\n",
              "            title=\"Convert this dataframe to an interactive table.\"\n",
              "            style=\"display:none;\">\n",
              "\n",
              "  <svg xmlns=\"http://www.w3.org/2000/svg\" height=\"24px\" viewBox=\"0 -960 960 960\">\n",
              "    <path d=\"M120-120v-720h720v720H120Zm60-500h600v-160H180v160Zm220 220h160v-160H400v160Zm0 220h160v-160H400v160ZM180-400h160v-160H180v160Zm440 0h160v-160H620v160ZM180-180h160v-160H180v160Zm440 0h160v-160H620v160Z\"/>\n",
              "  </svg>\n",
              "    </button>\n",
              "\n",
              "  <style>\n",
              "    .colab-df-container {\n",
              "      display:flex;\n",
              "      gap: 12px;\n",
              "    }\n",
              "\n",
              "    .colab-df-convert {\n",
              "      background-color: #E8F0FE;\n",
              "      border: none;\n",
              "      border-radius: 50%;\n",
              "      cursor: pointer;\n",
              "      display: none;\n",
              "      fill: #1967D2;\n",
              "      height: 32px;\n",
              "      padding: 0 0 0 0;\n",
              "      width: 32px;\n",
              "    }\n",
              "\n",
              "    .colab-df-convert:hover {\n",
              "      background-color: #E2EBFA;\n",
              "      box-shadow: 0px 1px 2px rgba(60, 64, 67, 0.3), 0px 1px 3px 1px rgba(60, 64, 67, 0.15);\n",
              "      fill: #174EA6;\n",
              "    }\n",
              "\n",
              "    .colab-df-buttons div {\n",
              "      margin-bottom: 4px;\n",
              "    }\n",
              "\n",
              "    [theme=dark] .colab-df-convert {\n",
              "      background-color: #3B4455;\n",
              "      fill: #D2E3FC;\n",
              "    }\n",
              "\n",
              "    [theme=dark] .colab-df-convert:hover {\n",
              "      background-color: #434B5C;\n",
              "      box-shadow: 0px 1px 3px 1px rgba(0, 0, 0, 0.15);\n",
              "      filter: drop-shadow(0px 1px 2px rgba(0, 0, 0, 0.3));\n",
              "      fill: #FFFFFF;\n",
              "    }\n",
              "  </style>\n",
              "\n",
              "    <script>\n",
              "      const buttonEl =\n",
              "        document.querySelector('#df-24b81147-3457-4fbc-b66a-2ad6067918d7 button.colab-df-convert');\n",
              "      buttonEl.style.display =\n",
              "        google.colab.kernel.accessAllowed ? 'block' : 'none';\n",
              "\n",
              "      async function convertToInteractive(key) {\n",
              "        const element = document.querySelector('#df-24b81147-3457-4fbc-b66a-2ad6067918d7');\n",
              "        const dataTable =\n",
              "          await google.colab.kernel.invokeFunction('convertToInteractive',\n",
              "                                                    [key], {});\n",
              "        if (!dataTable) return;\n",
              "\n",
              "        const docLinkHtml = 'Like what you see? Visit the ' +\n",
              "          '<a target=\"_blank\" href=https://colab.research.google.com/notebooks/data_table.ipynb>data table notebook</a>'\n",
              "          + ' to learn more about interactive tables.';\n",
              "        element.innerHTML = '';\n",
              "        dataTable['output_type'] = 'display_data';\n",
              "        await google.colab.output.renderOutput(dataTable, element);\n",
              "        const docLink = document.createElement('div');\n",
              "        docLink.innerHTML = docLinkHtml;\n",
              "        element.appendChild(docLink);\n",
              "      }\n",
              "    </script>\n",
              "  </div>\n",
              "\n",
              "\n",
              "<div id=\"df-0a51d3bc-89c7-4aeb-bb43-7992d3529054\">\n",
              "  <button class=\"colab-df-quickchart\" onclick=\"quickchart('df-0a51d3bc-89c7-4aeb-bb43-7992d3529054')\"\n",
              "            title=\"Suggest charts.\"\n",
              "            style=\"display:none;\">\n",
              "\n",
              "<svg xmlns=\"http://www.w3.org/2000/svg\" height=\"24px\"viewBox=\"0 0 24 24\"\n",
              "     width=\"24px\">\n",
              "    <g>\n",
              "        <path d=\"M19 3H5c-1.1 0-2 .9-2 2v14c0 1.1.9 2 2 2h14c1.1 0 2-.9 2-2V5c0-1.1-.9-2-2-2zM9 17H7v-7h2v7zm4 0h-2V7h2v10zm4 0h-2v-4h2v4z\"/>\n",
              "    </g>\n",
              "</svg>\n",
              "  </button>\n",
              "\n",
              "<style>\n",
              "  .colab-df-quickchart {\n",
              "      --bg-color: #E8F0FE;\n",
              "      --fill-color: #1967D2;\n",
              "      --hover-bg-color: #E2EBFA;\n",
              "      --hover-fill-color: #174EA6;\n",
              "      --disabled-fill-color: #AAA;\n",
              "      --disabled-bg-color: #DDD;\n",
              "  }\n",
              "\n",
              "  [theme=dark] .colab-df-quickchart {\n",
              "      --bg-color: #3B4455;\n",
              "      --fill-color: #D2E3FC;\n",
              "      --hover-bg-color: #434B5C;\n",
              "      --hover-fill-color: #FFFFFF;\n",
              "      --disabled-bg-color: #3B4455;\n",
              "      --disabled-fill-color: #666;\n",
              "  }\n",
              "\n",
              "  .colab-df-quickchart {\n",
              "    background-color: var(--bg-color);\n",
              "    border: none;\n",
              "    border-radius: 50%;\n",
              "    cursor: pointer;\n",
              "    display: none;\n",
              "    fill: var(--fill-color);\n",
              "    height: 32px;\n",
              "    padding: 0;\n",
              "    width: 32px;\n",
              "  }\n",
              "\n",
              "  .colab-df-quickchart:hover {\n",
              "    background-color: var(--hover-bg-color);\n",
              "    box-shadow: 0 1px 2px rgba(60, 64, 67, 0.3), 0 1px 3px 1px rgba(60, 64, 67, 0.15);\n",
              "    fill: var(--button-hover-fill-color);\n",
              "  }\n",
              "\n",
              "  .colab-df-quickchart-complete:disabled,\n",
              "  .colab-df-quickchart-complete:disabled:hover {\n",
              "    background-color: var(--disabled-bg-color);\n",
              "    fill: var(--disabled-fill-color);\n",
              "    box-shadow: none;\n",
              "  }\n",
              "\n",
              "  .colab-df-spinner {\n",
              "    border: 2px solid var(--fill-color);\n",
              "    border-color: transparent;\n",
              "    border-bottom-color: var(--fill-color);\n",
              "    animation:\n",
              "      spin 1s steps(1) infinite;\n",
              "  }\n",
              "\n",
              "  @keyframes spin {\n",
              "    0% {\n",
              "      border-color: transparent;\n",
              "      border-bottom-color: var(--fill-color);\n",
              "      border-left-color: var(--fill-color);\n",
              "    }\n",
              "    20% {\n",
              "      border-color: transparent;\n",
              "      border-left-color: var(--fill-color);\n",
              "      border-top-color: var(--fill-color);\n",
              "    }\n",
              "    30% {\n",
              "      border-color: transparent;\n",
              "      border-left-color: var(--fill-color);\n",
              "      border-top-color: var(--fill-color);\n",
              "      border-right-color: var(--fill-color);\n",
              "    }\n",
              "    40% {\n",
              "      border-color: transparent;\n",
              "      border-right-color: var(--fill-color);\n",
              "      border-top-color: var(--fill-color);\n",
              "    }\n",
              "    60% {\n",
              "      border-color: transparent;\n",
              "      border-right-color: var(--fill-color);\n",
              "    }\n",
              "    80% {\n",
              "      border-color: transparent;\n",
              "      border-right-color: var(--fill-color);\n",
              "      border-bottom-color: var(--fill-color);\n",
              "    }\n",
              "    90% {\n",
              "      border-color: transparent;\n",
              "      border-bottom-color: var(--fill-color);\n",
              "    }\n",
              "  }\n",
              "</style>\n",
              "\n",
              "  <script>\n",
              "    async function quickchart(key) {\n",
              "      const quickchartButtonEl =\n",
              "        document.querySelector('#' + key + ' button');\n",
              "      quickchartButtonEl.disabled = true;  // To prevent multiple clicks.\n",
              "      quickchartButtonEl.classList.add('colab-df-spinner');\n",
              "      try {\n",
              "        const charts = await google.colab.kernel.invokeFunction(\n",
              "            'suggestCharts', [key], {});\n",
              "      } catch (error) {\n",
              "        console.error('Error during call to suggestCharts:', error);\n",
              "      }\n",
              "      quickchartButtonEl.classList.remove('colab-df-spinner');\n",
              "      quickchartButtonEl.classList.add('colab-df-quickchart-complete');\n",
              "    }\n",
              "    (() => {\n",
              "      let quickchartButtonEl =\n",
              "        document.querySelector('#df-0a51d3bc-89c7-4aeb-bb43-7992d3529054 button');\n",
              "      quickchartButtonEl.style.display =\n",
              "        google.colab.kernel.accessAllowed ? 'block' : 'none';\n",
              "    })();\n",
              "  </script>\n",
              "</div>\n",
              "    </div>\n",
              "  </div>\n"
            ]
          },
          "metadata": {},
          "execution_count": 35
        }
      ],
      "source": [
        "df3 = pd.DataFrame(data=df2, columns=df_g.iloc[:,1:].columns)\n",
        "df3['Price'] = df_g['Price (in rupees)']\n",
        "\n",
        "df3.head()"
      ]
    },
    {
      "cell_type": "markdown",
      "id": "d6f1f73e",
      "metadata": {
        "id": "d6f1f73e"
      },
      "source": [
        "# Future selection"
      ]
    },
    {
      "cell_type": "code",
      "execution_count": 36,
      "id": "af038a46",
      "metadata": {
        "colab": {
          "base_uri": "https://localhost:8080/",
          "height": 983
        },
        "id": "af038a46",
        "outputId": "eb838b3d-9850-44f8-b0c5-e07e583010cf"
      },
      "outputs": [
        {
          "output_type": "execute_result",
          "data": {
            "text/plain": [
              "<Axes: >"
            ]
          },
          "metadata": {},
          "execution_count": 36
        },
        {
          "output_type": "display_data",
          "data": {
            "text/plain": [
              "<Figure size 1500x1200 with 2 Axes>"
            ],
            "image/png": "[encoded data removed]"
          },
          "metadata": {}
        }
      ],
      "source": [
        "cor = df3.corr()\n",
        "\n",
        "plt.figure(figsize=(15,12))\n",
        "sns.heatmap(cor, xticklabels=False, yticklabels=False, cmap='coolwarm')"
      ]
    },
    {
      "cell_type": "code",
      "execution_count": 37,
      "id": "1129882e",
      "metadata": {
        "id": "1129882e"
      },
      "outputs": [],
      "source": [
        "all_features = list(cor.columns)\n",
        "f_to_del = []\n",
        "\n",
        "for i in cor.columns:\n",
        "    if i == 'Price':\n",
        "        continue\n",
        "    for j in cor.index:\n",
        "        if all_features.index(j) >= all_features.index(i) or j == 'Price':\n",
        "            continue\n",
        "        else:\n",
        "            if abs(cor.loc[i,j]) > 0.8:\n",
        "                if abs(cor.loc['Price', i]) > abs(cor.loc['Price', j]):\n",
        "                    f_to_del.append(j)\n",
        "                else:\n",
        "                    f_to_del.append(i)"
      ]
    },
    {
      "cell_type": "code",
      "execution_count": 38,
      "id": "49508c25",
      "metadata": {
        "colab": {
          "base_uri": "https://localhost:8080/"
        },
        "id": "49508c25",
        "outputId": "f6e53a63-1de7-4fb7-ce85-65bb1fc7387e"
      },
      "outputs": [
        {
          "output_type": "stream",
          "name": "stdout",
          "text": [
            "2\n"
          ]
        },
        {
          "output_type": "execute_result",
          "data": {
            "text/plain": [
              "{'Flat_or_Apartment_ Studio Apartment', 'Rooms_count'}"
            ]
          },
          "metadata": {},
          "execution_count": 38
        }
      ],
      "source": [
        "f_to_del = set(f_to_del)\n",
        "print(len(f_to_del))\n",
        "f_to_del"
      ]
    },
    {
      "cell_type": "code",
      "execution_count": 39,
      "id": "8293f6bc",
      "metadata": {
        "id": "8293f6bc"
      },
      "outputs": [],
      "source": [
        "for i in f_to_del:\n",
        "    del df3[i]"
      ]
    },
    {
      "cell_type": "code",
      "execution_count": 40,
      "id": "f1544f0b",
      "metadata": {
        "colab": {
          "base_uri": "https://localhost:8080/"
        },
        "id": "f1544f0b",
        "outputId": "5b9fa0a2-a1c3-4df7-82bc-ef44e52a53de"
      },
      "outputs": [
        {
          "output_type": "execute_result",
          "data": {
            "text/plain": [
              "(34652, 104)"
            ]
          },
          "metadata": {},
          "execution_count": 40
        }
      ],
      "source": [
        "df3.shape"
      ]
    },
    {
      "cell_type": "markdown",
      "source": [
        "# Text category"
      ],
      "metadata": {
        "id": "xZmQywXuIYjX"
      },
      "id": "xZmQywXuIYjX"
    },
    {
      "cell_type": "code",
      "source": [
        "import re\n",
        "import nltk\n",
        "from nltk.stem.porter import PorterStemmer\n",
        "from nltk.corpus import stopwords"
      ],
      "metadata": {
        "id": "5L0bNHUiIPhP"
      },
      "id": "5L0bNHUiIPhP",
      "execution_count": 41,
      "outputs": []
    },
    {
      "cell_type": "code",
      "source": [
        "def clean_text(text):\n",
        "    text = str(text)\n",
        "    text = re.sub(r'[^\\w\\s]','',text)\n",
        "    text = text.lower()\n",
        "    text_words_list = text.split(' ')\n",
        "    ps = PorterStemmer()\n",
        "    stemmed_words=[]\n",
        "    for w in text_words_list:\n",
        "        if len(w)>0:\n",
        "            if w not in stopwords.words('english'):\n",
        "                stemmed_words.append(ps.stem(w))\n",
        "    #return stemmed_words\n",
        "    return ' '.join(stemmed_words)"
      ],
      "metadata": {
        "id": "hyDJYotZIDqp"
      },
      "id": "hyDJYotZIDqp",
      "execution_count": 42,
      "outputs": []
    },
    {
      "cell_type": "code",
      "source": [
        "import nltk\n",
        "nltk.download('stopwords')"
      ],
      "metadata": {
        "colab": {
          "base_uri": "https://localhost:8080/"
        },
        "id": "C8g7ATE8I1LS",
        "outputId": "7435fd8c-e6be-4bff-a11d-97207a06b42c"
      },
      "id": "C8g7ATE8I1LS",
      "execution_count": 43,
      "outputs": [
        {
          "output_type": "stream",
          "name": "stderr",
          "text": [
            "[nltk_data] Downloading package stopwords to /root/nltk_data...\n",
            "[nltk_data]   Package stopwords is already up-to-date!\n"
          ]
        },
        {
          "output_type": "execute_result",
          "data": {
            "text/plain": [
              "True"
            ]
          },
          "metadata": {},
          "execution_count": 43
        }
      ]
    },
    {
      "cell_type": "code",
      "source": [
        "df_text"
      ],
      "metadata": {
        "colab": {
          "base_uri": "https://localhost:8080/"
        },
        "id": "T8OKn62jOtKe",
        "outputId": "8baba920-ba1b-4908-c568-98a658860c1c"
      },
      "id": "T8OKn62jOtKe",
      "execution_count": 45,
      "outputs": [
        {
          "output_type": "execute_result",
          "data": {
            "text/plain": [
              "0         Sarjapur Road, Bangalore has an attractive 2 B...\n",
              "1         Discover this immaculate 2 BHK flat for sale a...\n",
              "2         2 BHK, Multistorey Apartment is available for ...\n",
              "3         Vastral, Ahmedabad has an attractive 1 BHK Fla...\n",
              "4         Discover this immaculate 3 BHK flat for sale a...\n",
              "                                ...                        \n",
              "187404    This gorgeous 3 BHK Flat is available for sale...\n",
              "187442    Have a look at this immaculate 3 BHK flat for ...\n",
              "187503    Up for immediate sale is a 3 BHK apartment in ...\n",
              "187506    Carefully laid out in the prime location of Pe...\n",
              "187513    This ready to move-in 3 BHK flat is available ...\n",
              "Name: Description, Length: 34652, dtype: object"
            ]
          },
          "metadata": {},
          "execution_count": 45
        }
      ]
    },
    {
      "cell_type": "code",
      "source": [
        "print(df_text[0])\n",
        "print()\n",
        "print(clean_text(df_text[0]))\n",
        "\n",
        "df_text = df_text.apply(clean_text)"
      ],
      "metadata": {
        "colab": {
          "base_uri": "https://localhost:8080/"
        },
        "id": "DZlGW6KAI-j0",
        "outputId": "50f9d2f8-962b-45af-b63e-88843f17ccf6"
      },
      "id": "DZlGW6KAI-j0",
      "execution_count": 52,
      "outputs": [
        {
          "output_type": "stream",
          "name": "stdout",
          "text": [
            "Sarjapur Road, Bangalore has an attractive 2 BHK Flat for sale. The property is ideally located in a strategic location in Divyasree Elan township. This flat for resale is just the type of property you have been searching for! This ready to move flat in Sarjapur Road can be taken at a very economical pricing of INR 96 Lac. The flat is semi-furnished and makes for an ideal choice for any family.\n",
            "\n",
            "sarjapur road bangalor attract 2 bhk flat sale properti ideal locat strateg locat divyasre elan township flat resal type properti search readi move flat sarjapur road taken econom price inr 96 lac flat semifurnish make ideal choic famili\n"
          ]
        }
      ]
    },
    {
      "cell_type": "code",
      "source": [
        "%time\n",
        "print(df_text.apply(len).min())\n",
        "print(df_text.apply(len).mean())\n",
        "print(df_text.apply(len).max())"
      ],
      "metadata": {
        "colab": {
          "base_uri": "https://localhost:8080/"
        },
        "id": "x7pI2UkLI-pO",
        "outputId": "31b3f260-7e85-4260-8223-5c9a9ba88bd3"
      },
      "id": "x7pI2UkLI-pO",
      "execution_count": 54,
      "outputs": [
        {
          "output_type": "stream",
          "name": "stdout",
          "text": [
            "CPU times: user 3 µs, sys: 0 ns, total: 3 µs\n",
            "Wall time: 7.63 µs\n",
            "3\n",
            "225.55699526722844\n",
            "1935\n"
          ]
        }
      ]
    },
    {
      "cell_type": "code",
      "source": [
        "word_embeddings = {}\n",
        "\n",
        "with open(\"glove.6B.100d.txt\", 'r', encoding=\"utf-8\") as f: #word2vec fasttext\n",
        "    for line in f:\n",
        "        values = line.split()\n",
        "        word = values[0]\n",
        "        coefs = np.asarray(values[1:], dtype='float32')\n",
        "        word_embeddings[word] = coefs\n",
        "    f.close()"
      ],
      "metadata": {
        "id": "nMM65nxNI-tM"
      },
      "id": "nMM65nxNI-tM",
      "execution_count": 55,
      "outputs": []
    },
    {
      "cell_type": "code",
      "source": [
        "sum([word_embeddings.get(w, np.zeros((100,))) for w in df_text[0].split()])/(len(df_text[0].split())+0.001)"
      ],
      "metadata": {
        "colab": {
          "base_uri": "https://localhost:8080/"
        },
        "id": "-qqn8_lEI-wC",
        "outputId": "cba86a0a-cdbc-449e-ea88-ec643fb56212"
      },
      "id": "-qqn8_lEI-wC",
      "execution_count": 56,
      "outputs": [
        {
          "output_type": "execute_result",
          "data": {
            "text/plain": [
              "array([-0.06698653,  0.09449562,  0.09837556,  0.15524321, -0.01706325,\n",
              "       -0.07497655,  0.07489421,  0.22194582, -0.07415224, -0.08628691,\n",
              "        0.05126076,  0.06295719,  0.02125568, -0.10898513,  0.11678733,\n",
              "       -0.074057  ,  0.06434652,  0.00239586,  0.08496127,  0.14710434,\n",
              "        0.23235181,  0.02677358,  0.04929053,  0.03074816,  0.03149073,\n",
              "       -0.04159957,  0.02884806, -0.14566872, -0.18880208, -0.08598018,\n",
              "       -0.05755554,  0.17482216,  0.02199455, -0.08454304,  0.14913989,\n",
              "        0.17350338,  0.10161454,  0.04432978,  0.087886  , -0.04355596,\n",
              "       -0.02218205, -0.28727378, -0.03604249, -0.19386595,  0.02271406,\n",
              "        0.03636739, -0.00475893,  0.01576334, -0.0112802 , -0.24226684,\n",
              "       -0.00296965, -0.07040553,  0.1192849 ,  0.3758981 , -0.16078942,\n",
              "       -0.95287132, -0.07601432, -0.05468193,  0.77681195, -0.00531476,\n",
              "       -0.08101611,  0.10720907, -0.08184269,  0.14602432,  0.24506408,\n",
              "        0.00132423,  0.16434875,  0.0566373 ,  0.12157007, -0.15908474,\n",
              "       -0.11491095, -0.07086422,  0.0732056 , -0.05769072,  0.0996578 ,\n",
              "       -0.12488267,  0.10219426,  0.14316768, -0.17092287, -0.04981306,\n",
              "        0.16249071,  0.14327368, -0.19930139, -0.0274338 , -0.33438357,\n",
              "       -0.04812131,  0.05025662, -0.09783627,  0.097805  ,  0.10822476,\n",
              "       -0.1533482 ,  0.11222441, -0.03470139,  0.00444631, -0.23069093,\n",
              "       -0.03144496, -0.05810202, -0.07285334,  0.34834066, -0.01193793])"
            ]
          },
          "metadata": {},
          "execution_count": 56
        }
      ]
    },
    {
      "cell_type": "code",
      "source": [
        "def name_to_vect(name):\n",
        "    if len(name) != 0:\n",
        "        v = sum([word_embeddings.get(w, np.zeros((100,))) for w in name.split()])/(len(name.split())+0.001)\n",
        "    else:\n",
        "        v = np.zeros((100,))\n",
        "    return v"
      ],
      "metadata": {
        "id": "Y3J6llk6I-zb"
      },
      "id": "Y3J6llk6I-zb",
      "execution_count": 57,
      "outputs": []
    },
    {
      "cell_type": "code",
      "source": [
        "df_text = df_text.apply(name_to_vect)"
      ],
      "metadata": {
        "id": "wT9toyROI-2M"
      },
      "id": "wT9toyROI-2M",
      "execution_count": 58,
      "outputs": []
    },
    {
      "cell_type": "code",
      "source": [
        "df = df.join(pd.DataFrame(df_text.tolist(), index = df.index))"
      ],
      "metadata": {
        "id": "2GPfo_iAI-5F"
      },
      "id": "2GPfo_iAI-5F",
      "execution_count": 59,
      "outputs": []
    },
    {
      "cell_type": "code",
      "source": [
        "df.head(2)"
      ],
      "metadata": {
        "colab": {
          "base_uri": "https://localhost:8080/",
          "height": 265
        },
        "id": "w_SiUWB8I1OM",
        "outputId": "0bdd5933-e4c6-4e1b-a0ba-185003332d9f"
      },
      "id": "w_SiUWB8I1OM",
      "execution_count": 60,
      "outputs": [
        {
          "output_type": "execute_result",
          "data": {
            "text/plain": [
              "   Price (in rupees)       location         Status Transaction  \\\n",
              "0             7207.0      bangalore  Ready to Move      Resale   \n",
              "1             3600.0  greater-noida  Ready to Move      Resale   \n",
              "\n",
              "       Furnishing        facing  Bathroom  Balcony  Ownership  \\\n",
              "0  Semi-Furnished           NaN       2.0        0        NaN   \n",
              "1  Semi-Furnished  North - East       2.0        3  Leasehold   \n",
              "\n",
              "  Flat_or_Apartment  ...        90        91        92        93        94  \\\n",
              "0              Flat  ... -0.153348  0.112224 -0.034701  0.004446 -0.230691   \n",
              "1              Flat  ... -0.048425  0.013645 -0.142342 -0.085870 -0.296616   \n",
              "\n",
              "         95        96        97        98        99  \n",
              "0 -0.031445 -0.058102 -0.072853  0.348341 -0.011938  \n",
              "1  0.023683 -0.044761 -0.096470  0.382606  0.039582  \n",
              "\n",
              "[2 rows x 115 columns]"
            ],
            "text/html": [
              "\n",
              "  <div id=\"df-af5dda50-e82c-4d93-b98b-14df7f360bb0\" class=\"colab-df-container\">\n",
              "    <div>\n",
              "<style scoped>\n",
              "    .dataframe tbody tr th:only-of-type {\n",
              "        vertical-align: middle;\n",
              "    }\n",
              "\n",
              "    .dataframe tbody tr th {\n",
              "        vertical-align: top;\n",
              "    }\n",
              "\n",
              "    .dataframe thead th {\n",
              "        text-align: right;\n",
              "    }\n",
              "</style>\n",
              "<table border=\"1\" class=\"dataframe\">\n",
              "  <thead>\n",
              "    <tr style=\"text-align: right;\">\n",
              "      <th></th>\n",
              "      <th>Price (in rupees)</th>\n",
              "      <th>location</th>\n",
              "      <th>Status</th>\n",
              "      <th>Transaction</th>\n",
              "      <th>Furnishing</th>\n",
              "      <th>facing</th>\n",
              "      <th>Bathroom</th>\n",
              "      <th>Balcony</th>\n",
              "      <th>Ownership</th>\n",
              "      <th>Flat_or_Apartment</th>\n",
              "      <th>...</th>\n",
              "      <th>90</th>\n",
              "      <th>91</th>\n",
              "      <th>92</th>\n",
              "      <th>93</th>\n",
              "      <th>94</th>\n",
              "      <th>95</th>\n",
              "      <th>96</th>\n",
              "      <th>97</th>\n",
              "      <th>98</th>\n",
              "      <th>99</th>\n",
              "    </tr>\n",
              "  </thead>\n",
              "  <tbody>\n",
              "    <tr>\n",
              "      <th>0</th>\n",
              "      <td>7207.0</td>\n",
              "      <td>bangalore</td>\n",
              "      <td>Ready to Move</td>\n",
              "      <td>Resale</td>\n",
              "      <td>Semi-Furnished</td>\n",
              "      <td>NaN</td>\n",
              "      <td>2.0</td>\n",
              "      <td>0</td>\n",
              "      <td>NaN</td>\n",
              "      <td>Flat</td>\n",
              "      <td>...</td>\n",
              "      <td>-0.153348</td>\n",
              "      <td>0.112224</td>\n",
              "      <td>-0.034701</td>\n",
              "      <td>0.004446</td>\n",
              "      <td>-0.230691</td>\n",
              "      <td>-0.031445</td>\n",
              "      <td>-0.058102</td>\n",
              "      <td>-0.072853</td>\n",
              "      <td>0.348341</td>\n",
              "      <td>-0.011938</td>\n",
              "    </tr>\n",
              "    <tr>\n",
              "      <th>1</th>\n",
              "      <td>3600.0</td>\n",
              "      <td>greater-noida</td>\n",
              "      <td>Ready to Move</td>\n",
              "      <td>Resale</td>\n",
              "      <td>Semi-Furnished</td>\n",
              "      <td>North - East</td>\n",
              "      <td>2.0</td>\n",
              "      <td>3</td>\n",
              "      <td>Leasehold</td>\n",
              "      <td>Flat</td>\n",
              "      <td>...</td>\n",
              "      <td>-0.048425</td>\n",
              "      <td>0.013645</td>\n",
              "      <td>-0.142342</td>\n",
              "      <td>-0.085870</td>\n",
              "      <td>-0.296616</td>\n",
              "      <td>0.023683</td>\n",
              "      <td>-0.044761</td>\n",
              "      <td>-0.096470</td>\n",
              "      <td>0.382606</td>\n",
              "      <td>0.039582</td>\n",
              "    </tr>\n",
              "  </tbody>\n",
              "</table>\n",
              "<p>2 rows × 115 columns</p>\n",
              "</div>\n",
              "    <div class=\"colab-df-buttons\">\n",
              "\n",
              "  <div class=\"colab-df-container\">\n",
              "    <button class=\"colab-df-convert\" onclick=\"convertToInteractive('df-af5dda50-e82c-4d93-b98b-14df7f360bb0')\"\n",
              "            title=\"Convert this dataframe to an interactive table.\"\n",
              "            style=\"display:none;\">\n",
              "\n",
              "  <svg xmlns=\"http://www.w3.org/2000/svg\" height=\"24px\" viewBox=\"0 -960 960 960\">\n",
              "    <path d=\"M120-120v-720h720v720H120Zm60-500h600v-160H180v160Zm220 220h160v-160H400v160Zm0 220h160v-160H400v160ZM180-400h160v-160H180v160Zm440 0h160v-160H620v160ZM180-180h160v-160H180v160Zm440 0h160v-160H620v160Z\"/>\n",
              "  </svg>\n",
              "    </button>\n",
              "\n",
              "  <style>\n",
              "    .colab-df-container {\n",
              "      display:flex;\n",
              "      gap: 12px;\n",
              "    }\n",
              "\n",
              "    .colab-df-convert {\n",
              "      background-color: #E8F0FE;\n",
              "      border: none;\n",
              "      border-radius: 50%;\n",
              "      cursor: pointer;\n",
              "      display: none;\n",
              "      fill: #1967D2;\n",
              "      height: 32px;\n",
              "      padding: 0 0 0 0;\n",
              "      width: 32px;\n",
              "    }\n",
              "\n",
              "    .colab-df-convert:hover {\n",
              "      background-color: #E2EBFA;\n",
              "      box-shadow: 0px 1px 2px rgba(60, 64, 67, 0.3), 0px 1px 3px 1px rgba(60, 64, 67, 0.15);\n",
              "      fill: #174EA6;\n",
              "    }\n",
              "\n",
              "    .colab-df-buttons div {\n",
              "      margin-bottom: 4px;\n",
              "    }\n",
              "\n",
              "    [theme=dark] .colab-df-convert {\n",
              "      background-color: #3B4455;\n",
              "      fill: #D2E3FC;\n",
              "    }\n",
              "\n",
              "    [theme=dark] .colab-df-convert:hover {\n",
              "      background-color: #434B5C;\n",
              "      box-shadow: 0px 1px 3px 1px rgba(0, 0, 0, 0.15);\n",
              "      filter: drop-shadow(0px 1px 2px rgba(0, 0, 0, 0.3));\n",
              "      fill: #FFFFFF;\n",
              "    }\n",
              "  </style>\n",
              "\n",
              "    <script>\n",
              "      const buttonEl =\n",
              "        document.querySelector('#df-af5dda50-e82c-4d93-b98b-14df7f360bb0 button.colab-df-convert');\n",
              "      buttonEl.style.display =\n",
              "        google.colab.kernel.accessAllowed ? 'block' : 'none';\n",
              "\n",
              "      async function convertToInteractive(key) {\n",
              "        const element = document.querySelector('#df-af5dda50-e82c-4d93-b98b-14df7f360bb0');\n",
              "        const dataTable =\n",
              "          await google.colab.kernel.invokeFunction('convertToInteractive',\n",
              "                                                    [key], {});\n",
              "        if (!dataTable) return;\n",
              "\n",
              "        const docLinkHtml = 'Like what you see? Visit the ' +\n",
              "          '<a target=\"_blank\" href=https://colab.research.google.com/notebooks/data_table.ipynb>data table notebook</a>'\n",
              "          + ' to learn more about interactive tables.';\n",
              "        element.innerHTML = '';\n",
              "        dataTable['output_type'] = 'display_data';\n",
              "        await google.colab.output.renderOutput(dataTable, element);\n",
              "        const docLink = document.createElement('div');\n",
              "        docLink.innerHTML = docLinkHtml;\n",
              "        element.appendChild(docLink);\n",
              "      }\n",
              "    </script>\n",
              "  </div>\n",
              "\n",
              "\n",
              "<div id=\"df-e2fef128-2b7b-47ca-87c0-af66fa0a57ce\">\n",
              "  <button class=\"colab-df-quickchart\" onclick=\"quickchart('df-e2fef128-2b7b-47ca-87c0-af66fa0a57ce')\"\n",
              "            title=\"Suggest charts.\"\n",
              "            style=\"display:none;\">\n",
              "\n",
              "<svg xmlns=\"http://www.w3.org/2000/svg\" height=\"24px\"viewBox=\"0 0 24 24\"\n",
              "     width=\"24px\">\n",
              "    <g>\n",
              "        <path d=\"M19 3H5c-1.1 0-2 .9-2 2v14c0 1.1.9 2 2 2h14c1.1 0 2-.9 2-2V5c0-1.1-.9-2-2-2zM9 17H7v-7h2v7zm4 0h-2V7h2v10zm4 0h-2v-4h2v4z\"/>\n",
              "    </g>\n",
              "</svg>\n",
              "  </button>\n",
              "\n",
              "<style>\n",
              "  .colab-df-quickchart {\n",
              "      --bg-color: #E8F0FE;\n",
              "      --fill-color: #1967D2;\n",
              "      --hover-bg-color: #E2EBFA;\n",
              "      --hover-fill-color: #174EA6;\n",
              "      --disabled-fill-color: #AAA;\n",
              "      --disabled-bg-color: #DDD;\n",
              "  }\n",
              "\n",
              "  [theme=dark] .colab-df-quickchart {\n",
              "      --bg-color: #3B4455;\n",
              "      --fill-color: #D2E3FC;\n",
              "      --hover-bg-color: #434B5C;\n",
              "      --hover-fill-color: #FFFFFF;\n",
              "      --disabled-bg-color: #3B4455;\n",
              "      --disabled-fill-color: #666;\n",
              "  }\n",
              "\n",
              "  .colab-df-quickchart {\n",
              "    background-color: var(--bg-color);\n",
              "    border: none;\n",
              "    border-radius: 50%;\n",
              "    cursor: pointer;\n",
              "    display: none;\n",
              "    fill: var(--fill-color);\n",
              "    height: 32px;\n",
              "    padding: 0;\n",
              "    width: 32px;\n",
              "  }\n",
              "\n",
              "  .colab-df-quickchart:hover {\n",
              "    background-color: var(--hover-bg-color);\n",
              "    box-shadow: 0 1px 2px rgba(60, 64, 67, 0.3), 0 1px 3px 1px rgba(60, 64, 67, 0.15);\n",
              "    fill: var(--button-hover-fill-color);\n",
              "  }\n",
              "\n",
              "  .colab-df-quickchart-complete:disabled,\n",
              "  .colab-df-quickchart-complete:disabled:hover {\n",
              "    background-color: var(--disabled-bg-color);\n",
              "    fill: var(--disabled-fill-color);\n",
              "    box-shadow: none;\n",
              "  }\n",
              "\n",
              "  .colab-df-spinner {\n",
              "    border: 2px solid var(--fill-color);\n",
              "    border-color: transparent;\n",
              "    border-bottom-color: var(--fill-color);\n",
              "    animation:\n",
              "      spin 1s steps(1) infinite;\n",
              "  }\n",
              "\n",
              "  @keyframes spin {\n",
              "    0% {\n",
              "      border-color: transparent;\n",
              "      border-bottom-color: var(--fill-color);\n",
              "      border-left-color: var(--fill-color);\n",
              "    }\n",
              "    20% {\n",
              "      border-color: transparent;\n",
              "      border-left-color: var(--fill-color);\n",
              "      border-top-color: var(--fill-color);\n",
              "    }\n",
              "    30% {\n",
              "      border-color: transparent;\n",
              "      border-left-color: var(--fill-color);\n",
              "      border-top-color: var(--fill-color);\n",
              "      border-right-color: var(--fill-color);\n",
              "    }\n",
              "    40% {\n",
              "      border-color: transparent;\n",
              "      border-right-color: var(--fill-color);\n",
              "      border-top-color: var(--fill-color);\n",
              "    }\n",
              "    60% {\n",
              "      border-color: transparent;\n",
              "      border-right-color: var(--fill-color);\n",
              "    }\n",
              "    80% {\n",
              "      border-color: transparent;\n",
              "      border-right-color: var(--fill-color);\n",
              "      border-bottom-color: var(--fill-color);\n",
              "    }\n",
              "    90% {\n",
              "      border-color: transparent;\n",
              "      border-bottom-color: var(--fill-color);\n",
              "    }\n",
              "  }\n",
              "</style>\n",
              "\n",
              "  <script>\n",
              "    async function quickchart(key) {\n",
              "      const quickchartButtonEl =\n",
              "        document.querySelector('#' + key + ' button');\n",
              "      quickchartButtonEl.disabled = true;  // To prevent multiple clicks.\n",
              "      quickchartButtonEl.classList.add('colab-df-spinner');\n",
              "      try {\n",
              "        const charts = await google.colab.kernel.invokeFunction(\n",
              "            'suggestCharts', [key], {});\n",
              "      } catch (error) {\n",
              "        console.error('Error during call to suggestCharts:', error);\n",
              "      }\n",
              "      quickchartButtonEl.classList.remove('colab-df-spinner');\n",
              "      quickchartButtonEl.classList.add('colab-df-quickchart-complete');\n",
              "    }\n",
              "    (() => {\n",
              "      let quickchartButtonEl =\n",
              "        document.querySelector('#df-e2fef128-2b7b-47ca-87c0-af66fa0a57ce button');\n",
              "      quickchartButtonEl.style.display =\n",
              "        google.colab.kernel.accessAllowed ? 'block' : 'none';\n",
              "    })();\n",
              "  </script>\n",
              "</div>\n",
              "    </div>\n",
              "  </div>\n"
            ]
          },
          "metadata": {},
          "execution_count": 60
        }
      ]
    },
    {
      "cell_type": "markdown",
      "id": "373208b6",
      "metadata": {
        "id": "373208b6"
      },
      "source": [
        "# Splitting into train and test samples"
      ]
    },
    {
      "cell_type": "code",
      "execution_count": 63,
      "id": "60fcb6da",
      "metadata": {
        "id": "60fcb6da"
      },
      "outputs": [],
      "source": [
        "train = df3[:16987]\n",
        "test = df3[16987:]\n",
        "test.drop(['Price'], axis=1, inplace=True)"
      ]
    },
    {
      "cell_type": "code",
      "execution_count": 64,
      "id": "70967d51",
      "metadata": {
        "colab": {
          "base_uri": "https://localhost:8080/"
        },
        "id": "70967d51",
        "outputId": "f0195cad-501f-416e-a71f-c8341ae5939c"
      },
      "outputs": [
        {
          "output_type": "execute_result",
          "data": {
            "text/plain": [
              "count    1.698700e+04\n",
              "mean     7.593797e+03\n",
              "std      2.097870e+04\n",
              "min      0.000000e+00\n",
              "25%      4.365500e+03\n",
              "50%      6.070000e+03\n",
              "75%      9.560000e+03\n",
              "max      2.669100e+06\n",
              "Name: Price, dtype: float64"
            ]
          },
          "metadata": {},
          "execution_count": 64
        }
      ],
      "source": [
        "train['Price'].describe()"
      ]
    },
    {
      "cell_type": "code",
      "execution_count": 65,
      "id": "b8fbe50d",
      "metadata": {
        "id": "b8fbe50d"
      },
      "outputs": [],
      "source": [
        "X = train.iloc[:,:-1].values\n",
        "y = train.iloc[:, -1].values\n",
        "X = pd.DataFrame(X)\n",
        "y = pd.DataFrame(y)\n",
        "y = y + 0.001"
      ]
    },
    {
      "cell_type": "code",
      "execution_count": 66,
      "id": "a2b273ae",
      "metadata": {
        "id": "a2b273ae"
      },
      "outputs": [],
      "source": [
        "X_train, X_test, y_train, y_test = train_test_split(X, y, test_size=0.2, random_state=0)"
      ]
    },
    {
      "cell_type": "markdown",
      "id": "8e215e81",
      "metadata": {
        "id": "8e215e81"
      },
      "source": [
        "# Normalizing"
      ]
    },
    {
      "cell_type": "code",
      "execution_count": 68,
      "id": "104b5b46",
      "metadata": {
        "id": "104b5b46"
      },
      "outputs": [],
      "source": [
        "scaler = StandardScaler()\n",
        "list_to_norm = list(X_train.columns[:5].values)\n",
        "list_binary_features = list(X_train.columns[5:].values)\n",
        "\n",
        "X_train_to_norm = X_train[list_to_norm]\n",
        "X_test_to_norm = X_test[list_to_norm]\n",
        "\n",
        "X_train_to_norm = scaler.fit_transform(X_train_to_norm)\n",
        "X_test_to_norm = scaler.transform(X_test_to_norm)\n",
        "\n",
        "X_train_final = np.c_[ X_train_to_norm, np.array(X_train[list_binary_features]), np.array(X_train[range(0,100)]) ]\n",
        "X_test_final  = np.c_[ X_test_to_norm, np.array(X_test[list_binary_features]),  np.array(X_test[range(0,100)]) ]\n",
        "\n",
        "y_train_log = np.array(np.log(y_train))\n",
        "y_test_log = np.array(np.log(y_test))"
      ]
    },
    {
      "cell_type": "code",
      "execution_count": 69,
      "id": "587aeda2",
      "metadata": {
        "colab": {
          "base_uri": "https://localhost:8080/"
        },
        "id": "587aeda2",
        "outputId": "c41f247a-572c-42ff-be39-9599b0e12a62"
      },
      "outputs": [
        {
          "output_type": "stream",
          "name": "stdout",
          "text": [
            "(13589, 203) (3398, 203) (13589, 1) (3398, 1)\n"
          ]
        }
      ],
      "source": [
        "print(X_train_final.shape,X_test_final.shape, y_train_log.shape,y_test_log.shape)"
      ]
    },
    {
      "cell_type": "markdown",
      "id": "e921a0eb",
      "metadata": {
        "id": "e921a0eb"
      },
      "source": [
        "#  Linear Regression"
      ]
    },
    {
      "cell_type": "code",
      "execution_count": 72,
      "id": "c7955c10",
      "metadata": {
        "id": "c7955c10"
      },
      "outputs": [],
      "source": [
        "reg = LinearRegression().fit(X_train_final, y_train_log)"
      ]
    },
    {
      "cell_type": "code",
      "execution_count": 73,
      "id": "320c0071",
      "metadata": {
        "id": "320c0071"
      },
      "outputs": [],
      "source": [
        "y_predict = reg.predict(X_test_final)"
      ]
    },
    {
      "cell_type": "code",
      "execution_count": 74,
      "id": "957a701c",
      "metadata": {
        "id": "957a701c"
      },
      "outputs": [],
      "source": [
        "y_predict_exp = np.exp(y_predict).reshape((y_predict.shape[0],))"
      ]
    },
    {
      "cell_type": "code",
      "execution_count": 75,
      "id": "f3716ea5",
      "metadata": {
        "id": "f3716ea5"
      },
      "outputs": [],
      "source": [
        "np.set_printoptions(formatter={'float': lambda x: \"{0:0.3f}\".format(x)})\n",
        "y_test_numpy = np.array(y_test)"
      ]
    },
    {
      "cell_type": "code",
      "execution_count": 76,
      "id": "5e012a73",
      "metadata": {
        "colab": {
          "base_uri": "https://localhost:8080/"
        },
        "id": "5e012a73",
        "outputId": "3840716b-63eb-437f-f7af-b99012f6d3a1"
      },
      "outputs": [
        {
          "output_type": "stream",
          "name": "stdout",
          "text": [
            "[[2280.385 2788.001]\n",
            " [9735.668 9875.001]\n",
            " [9743.405 11240.001]\n",
            " [11307.127 16781.001]\n",
            " [6675.380 3877.001]\n",
            " [4637.517 6140.001]\n",
            " [7376.419 5967.001]\n",
            " [5664.167 5698.001]\n",
            " [11192.611 13514.001]\n",
            " [2411.835 1986.001]]\n"
          ]
        }
      ],
      "source": [
        "N1, N2 = 0, 10\n",
        "print(np.c_[y_predict_exp[N1:N2], y_test_numpy[N1:N2]])"
      ]
    },
    {
      "cell_type": "code",
      "execution_count": 77,
      "id": "7e42a29e",
      "metadata": {
        "colab": {
          "base_uri": "https://localhost:8080/"
        },
        "id": "7e42a29e",
        "outputId": "702c6bb2-8667-45f5-de53-ab7a7c86ffb6"
      },
      "outputs": [
        {
          "output_type": "stream",
          "name": "stdout",
          "text": [
            "MAE: 2003.847270310554\n"
          ]
        }
      ],
      "source": [
        "print(f'MAE: {mean_absolute_error(y_predict_exp, y_test_numpy)}')"
      ]
    },
    {
      "cell_type": "markdown",
      "source": [
        "# CatBoost"
      ],
      "metadata": {
        "id": "tsfmZUP-TUvd"
      },
      "id": "tsfmZUP-TUvd"
    },
    {
      "cell_type": "code",
      "source": [
        "from catboost import CatBoostRegressor, Pool\n",
        "text_cols = ['name']"
      ],
      "metadata": {
        "id": "zuBzpypErf6T"
      },
      "id": "zuBzpypErf6T",
      "execution_count": null,
      "outputs": []
    },
    {
      "cell_type": "code",
      "source": [
        "X_train_final['name']=X_train_final['name'].astype(\"string\")\n",
        "X_test_final['name']=X_test_final['name'].astype(\"string\")"
      ],
      "metadata": {
        "id": "uYrT4Rahrf9P"
      },
      "id": "uYrT4Rahrf9P",
      "execution_count": null,
      "outputs": []
    },
    {
      "cell_type": "code",
      "source": [
        "X_train_final.columns"
      ],
      "metadata": {
        "id": "QnGOOVggrf_w"
      },
      "id": "QnGOOVggrf_w",
      "execution_count": null,
      "outputs": []
    },
    {
      "cell_type": "code",
      "source": [
        "X_train_final.info()"
      ],
      "metadata": {
        "id": "mFod16B8rgBX"
      },
      "id": "mFod16B8rgBX",
      "execution_count": 1,
      "outputs": []
    },
    {
      "cell_type": "code",
      "source": [
        "train_pool = Pool(\n",
        "        X_train_final,\n",
        "        y_train_log,\n",
        "        text_features=text_cols,\n",
        "        feature_names=list(X_train_final.columns)\n",
        "    )\n",
        "test_pool = Pool(\n",
        "        X_test_final,\n",
        "        y_test_log,\n",
        "        text_features=text_cols,\n",
        "        feature_names=list(X_test_final.columns)\n",
        "    )"
      ],
      "metadata": {
        "id": "DHE3FaQ1rgE8"
      },
      "id": "DHE3FaQ1rgE8",
      "execution_count": 1,
      "outputs": []
    },
    {
      "cell_type": "code",
      "source": [
        "catboost_params = {\n",
        "    'iterations': 1000,\n",
        "    'learning_rate': 0.1,\n",
        "    #'eval_metric': 'Logloss',\n",
        "    #'task_type': 'GPU',\n",
        "    'early_stopping_rounds': 10,\n",
        "    'use_best_model': True,\n",
        "    'verbose': 100\n",
        "}"
      ],
      "metadata": {
        "id": "cVjFpYA0rgHC"
      },
      "id": "cVjFpYA0rgHC",
      "execution_count": 1,
      "outputs": []
    },
    {
      "cell_type": "code",
      "source": [
        "model.fit(train_pool, eval_set=valid_pool)"
      ],
      "metadata": {
        "id": "NZw4GhCDrgJT"
      },
      "id": "NZw4GhCDrgJT",
      "execution_count": null,
      "outputs": []
    }
  ],
  "metadata": {
    "kernelspec": {
      "display_name": "Python 3 (ipykernel)",
      "language": "python",
      "name": "python3"
    },
    "language_info": {
      "codemirror_mode": {
        "name": "ipython",
        "version": 3
      },
      "file_extension": ".py",
      "mimetype": "text/x-python",
      "name": "python",
      "nbconvert_exporter": "python",
      "pygments_lexer": "ipython3",
      "version": "3.9.13"
    },
    "colab": {
      "provenance": []
    }
  },
  "nbformat": 4,
  "nbformat_minor": 5
}