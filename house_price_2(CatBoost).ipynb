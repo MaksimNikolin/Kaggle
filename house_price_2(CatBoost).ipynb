{
  "cells": [
    {
      "cell_type": "markdown",
      "id": "7KJjnZJwLeOE",
      "metadata": {
        "id": "7KJjnZJwLeOE"
      },
      "source": [
        "# Import"
      ]
    },
    {
      "cell_type": "code",
      "execution_count": 150,
      "id": "bb2cd574",
      "metadata": {
        "id": "bb2cd574"
      },
      "outputs": [],
      "source": [
        "import warnings                                                                                                #import libraries\n",
        "warnings.filterwarnings('ignore')\n",
        "\n",
        "import pandas as pd\n",
        "import numpy as np\n",
        "from matplotlib import pyplot as plt\n",
        "import seaborn as sns\n",
        "\n",
        "from time import process_time\n",
        "from sklearn.experimental import enable_iterative_imputer\n",
        "from sklearn.impute import IterativeImputer\n",
        "\n",
        "from sklearn import metrics\n",
        "from sklearn.metrics import mean_absolute_error, mean_squared_error, mean_absolute_percentage_error\n",
        "from sklearn import preprocessing\n",
        "from sklearn.preprocessing import StandardScaler\n",
        "from sklearn.feature_selection import SelectFromModel, SelectKBest, f_classif, VarianceThreshold\n",
        "from sklearn.model_selection import cross_val_score, GridSearchCV, train_test_split\n",
        "\n",
        "%matplotlib inline"
      ]
    },
    {
      "cell_type": "code",
      "execution_count": 151,
      "id": "84771c63",
      "metadata": {
        "id": "84771c63"
      },
      "outputs": [],
      "source": [
        "df = pd.read_csv('house_price_2.csv')"
      ]
    },
    {
      "cell_type": "code",
      "execution_count": 152,
      "id": "17f9299b",
      "metadata": {
        "colab": {
          "base_uri": "https://localhost:8080/",
          "height": 0
        },
        "id": "17f9299b",
        "outputId": "bd8913af-f826-40a3-a3ec-b491eaa974c8"
      },
      "outputs": [
        {
          "output_type": "execute_result",
          "data": {
            "text/plain": [
              "   Index                                              Title  \\\n",
              "0      0  1 BHK Ready to Occupy Flat for sale in Srushti...   \n",
              "1      1  2 BHK Ready to Occupy Flat for sale in Dosti V...   \n",
              "\n",
              "                                         Description Amount(in rupees)  \\\n",
              "0  Bhiwandi, Thane has an attractive 1 BHK Flat f...           42 Lac    \n",
              "1  One can find this stunning 2 BHK flat for sale...           98 Lac    \n",
              "\n",
              "   Price (in rupees) location Carpet Area         Status         Floor  \\\n",
              "0             6000.0    thane    500 sqft  Ready to Move  10 out of 11   \n",
              "1            13799.0    thane    473 sqft  Ready to Move   3 out of 22   \n",
              "\n",
              "  Transaction  ... facing  overlooking                              Society  \\\n",
              "0      Resale  ...    NaN          NaN  Srushti Siddhi Mangal Murti Complex   \n",
              "1      Resale  ...   East  Garden/Park                          Dosti Vihar   \n",
              "\n",
              "  Bathroom Balcony Car Parking Ownership Super Area Dimensions  Plot Area  \n",
              "0        1       2         NaN       NaN        NaN        NaN        NaN  \n",
              "1        2     NaN      1 Open  Freehold        NaN        NaN        NaN  \n",
              "\n",
              "[2 rows x 21 columns]"
            ],
            "text/html": [
              "\n",
              "  <div id=\"df-9d254a31-9418-4c74-a46d-1464dbb6e7a8\" class=\"colab-df-container\">\n",
              "    <div>\n",
              "<style scoped>\n",
              "    .dataframe tbody tr th:only-of-type {\n",
              "        vertical-align: middle;\n",
              "    }\n",
              "\n",
              "    .dataframe tbody tr th {\n",
              "        vertical-align: top;\n",
              "    }\n",
              "\n",
              "    .dataframe thead th {\n",
              "        text-align: right;\n",
              "    }\n",
              "</style>\n",
              "<table border=\"1\" class=\"dataframe\">\n",
              "  <thead>\n",
              "    <tr style=\"text-align: right;\">\n",
              "      <th></th>\n",
              "      <th>Index</th>\n",
              "      <th>Title</th>\n",
              "      <th>Description</th>\n",
              "      <th>Amount(in rupees)</th>\n",
              "      <th>Price (in rupees)</th>\n",
              "      <th>location</th>\n",
              "      <th>Carpet Area</th>\n",
              "      <th>Status</th>\n",
              "      <th>Floor</th>\n",
              "      <th>Transaction</th>\n",
              "      <th>...</th>\n",
              "      <th>facing</th>\n",
              "      <th>overlooking</th>\n",
              "      <th>Society</th>\n",
              "      <th>Bathroom</th>\n",
              "      <th>Balcony</th>\n",
              "      <th>Car Parking</th>\n",
              "      <th>Ownership</th>\n",
              "      <th>Super Area</th>\n",
              "      <th>Dimensions</th>\n",
              "      <th>Plot Area</th>\n",
              "    </tr>\n",
              "  </thead>\n",
              "  <tbody>\n",
              "    <tr>\n",
              "      <th>0</th>\n",
              "      <td>0</td>\n",
              "      <td>1 BHK Ready to Occupy Flat for sale in Srushti...</td>\n",
              "      <td>Bhiwandi, Thane has an attractive 1 BHK Flat f...</td>\n",
              "      <td>42 Lac</td>\n",
              "      <td>6000.0</td>\n",
              "      <td>thane</td>\n",
              "      <td>500 sqft</td>\n",
              "      <td>Ready to Move</td>\n",
              "      <td>10 out of 11</td>\n",
              "      <td>Resale</td>\n",
              "      <td>...</td>\n",
              "      <td>NaN</td>\n",
              "      <td>NaN</td>\n",
              "      <td>Srushti Siddhi Mangal Murti Complex</td>\n",
              "      <td>1</td>\n",
              "      <td>2</td>\n",
              "      <td>NaN</td>\n",
              "      <td>NaN</td>\n",
              "      <td>NaN</td>\n",
              "      <td>NaN</td>\n",
              "      <td>NaN</td>\n",
              "    </tr>\n",
              "    <tr>\n",
              "      <th>1</th>\n",
              "      <td>1</td>\n",
              "      <td>2 BHK Ready to Occupy Flat for sale in Dosti V...</td>\n",
              "      <td>One can find this stunning 2 BHK flat for sale...</td>\n",
              "      <td>98 Lac</td>\n",
              "      <td>13799.0</td>\n",
              "      <td>thane</td>\n",
              "      <td>473 sqft</td>\n",
              "      <td>Ready to Move</td>\n",
              "      <td>3 out of 22</td>\n",
              "      <td>Resale</td>\n",
              "      <td>...</td>\n",
              "      <td>East</td>\n",
              "      <td>Garden/Park</td>\n",
              "      <td>Dosti Vihar</td>\n",
              "      <td>2</td>\n",
              "      <td>NaN</td>\n",
              "      <td>1 Open</td>\n",
              "      <td>Freehold</td>\n",
              "      <td>NaN</td>\n",
              "      <td>NaN</td>\n",
              "      <td>NaN</td>\n",
              "    </tr>\n",
              "  </tbody>\n",
              "</table>\n",
              "<p>2 rows × 21 columns</p>\n",
              "</div>\n",
              "    <div class=\"colab-df-buttons\">\n",
              "\n",
              "  <div class=\"colab-df-container\">\n",
              "    <button class=\"colab-df-convert\" onclick=\"convertToInteractive('df-9d254a31-9418-4c74-a46d-1464dbb6e7a8')\"\n",
              "            title=\"Convert this dataframe to an interactive table.\"\n",
              "            style=\"display:none;\">\n",
              "\n",
              "  <svg xmlns=\"http://www.w3.org/2000/svg\" height=\"24px\" viewBox=\"0 -960 960 960\">\n",
              "    <path d=\"M120-120v-720h720v720H120Zm60-500h600v-160H180v160Zm220 220h160v-160H400v160Zm0 220h160v-160H400v160ZM180-400h160v-160H180v160Zm440 0h160v-160H620v160ZM180-180h160v-160H180v160Zm440 0h160v-160H620v160Z\"/>\n",
              "  </svg>\n",
              "    </button>\n",
              "\n",
              "  <style>\n",
              "    .colab-df-container {\n",
              "      display:flex;\n",
              "      gap: 12px;\n",
              "    }\n",
              "\n",
              "    .colab-df-convert {\n",
              "      background-color: #E8F0FE;\n",
              "      border: none;\n",
              "      border-radius: 50%;\n",
              "      cursor: pointer;\n",
              "      display: none;\n",
              "      fill: #1967D2;\n",
              "      height: 32px;\n",
              "      padding: 0 0 0 0;\n",
              "      width: 32px;\n",
              "    }\n",
              "\n",
              "    .colab-df-convert:hover {\n",
              "      background-color: #E2EBFA;\n",
              "      box-shadow: 0px 1px 2px rgba(60, 64, 67, 0.3), 0px 1px 3px 1px rgba(60, 64, 67, 0.15);\n",
              "      fill: #174EA6;\n",
              "    }\n",
              "\n",
              "    .colab-df-buttons div {\n",
              "      margin-bottom: 4px;\n",
              "    }\n",
              "\n",
              "    [theme=dark] .colab-df-convert {\n",
              "      background-color: #3B4455;\n",
              "      fill: #D2E3FC;\n",
              "    }\n",
              "\n",
              "    [theme=dark] .colab-df-convert:hover {\n",
              "      background-color: #434B5C;\n",
              "      box-shadow: 0px 1px 3px 1px rgba(0, 0, 0, 0.15);\n",
              "      filter: drop-shadow(0px 1px 2px rgba(0, 0, 0, 0.3));\n",
              "      fill: #FFFFFF;\n",
              "    }\n",
              "  </style>\n",
              "\n",
              "    <script>\n",
              "      const buttonEl =\n",
              "        document.querySelector('#df-9d254a31-9418-4c74-a46d-1464dbb6e7a8 button.colab-df-convert');\n",
              "      buttonEl.style.display =\n",
              "        google.colab.kernel.accessAllowed ? 'block' : 'none';\n",
              "\n",
              "      async function convertToInteractive(key) {\n",
              "        const element = document.querySelector('#df-9d254a31-9418-4c74-a46d-1464dbb6e7a8');\n",
              "        const dataTable =\n",
              "          await google.colab.kernel.invokeFunction('convertToInteractive',\n",
              "                                                    [key], {});\n",
              "        if (!dataTable) return;\n",
              "\n",
              "        const docLinkHtml = 'Like what you see? Visit the ' +\n",
              "          '<a target=\"_blank\" href=https://colab.research.google.com/notebooks/data_table.ipynb>data table notebook</a>'\n",
              "          + ' to learn more about interactive tables.';\n",
              "        element.innerHTML = '';\n",
              "        dataTable['output_type'] = 'display_data';\n",
              "        await google.colab.output.renderOutput(dataTable, element);\n",
              "        const docLink = document.createElement('div');\n",
              "        docLink.innerHTML = docLinkHtml;\n",
              "        element.appendChild(docLink);\n",
              "      }\n",
              "    </script>\n",
              "  </div>\n",
              "\n",
              "\n",
              "<div id=\"df-ed0da5d9-e412-4fcb-8e91-e41edf32765a\">\n",
              "  <button class=\"colab-df-quickchart\" onclick=\"quickchart('df-ed0da5d9-e412-4fcb-8e91-e41edf32765a')\"\n",
              "            title=\"Suggest charts.\"\n",
              "            style=\"display:none;\">\n",
              "\n",
              "<svg xmlns=\"http://www.w3.org/2000/svg\" height=\"24px\"viewBox=\"0 0 24 24\"\n",
              "     width=\"24px\">\n",
              "    <g>\n",
              "        <path d=\"M19 3H5c-1.1 0-2 .9-2 2v14c0 1.1.9 2 2 2h14c1.1 0 2-.9 2-2V5c0-1.1-.9-2-2-2zM9 17H7v-7h2v7zm4 0h-2V7h2v10zm4 0h-2v-4h2v4z\"/>\n",
              "    </g>\n",
              "</svg>\n",
              "  </button>\n",
              "\n",
              "<style>\n",
              "  .colab-df-quickchart {\n",
              "      --bg-color: #E8F0FE;\n",
              "      --fill-color: #1967D2;\n",
              "      --hover-bg-color: #E2EBFA;\n",
              "      --hover-fill-color: #174EA6;\n",
              "      --disabled-fill-color: #AAA;\n",
              "      --disabled-bg-color: #DDD;\n",
              "  }\n",
              "\n",
              "  [theme=dark] .colab-df-quickchart {\n",
              "      --bg-color: #3B4455;\n",
              "      --fill-color: #D2E3FC;\n",
              "      --hover-bg-color: #434B5C;\n",
              "      --hover-fill-color: #FFFFFF;\n",
              "      --disabled-bg-color: #3B4455;\n",
              "      --disabled-fill-color: #666;\n",
              "  }\n",
              "\n",
              "  .colab-df-quickchart {\n",
              "    background-color: var(--bg-color);\n",
              "    border: none;\n",
              "    border-radius: 50%;\n",
              "    cursor: pointer;\n",
              "    display: none;\n",
              "    fill: var(--fill-color);\n",
              "    height: 32px;\n",
              "    padding: 0;\n",
              "    width: 32px;\n",
              "  }\n",
              "\n",
              "  .colab-df-quickchart:hover {\n",
              "    background-color: var(--hover-bg-color);\n",
              "    box-shadow: 0 1px 2px rgba(60, 64, 67, 0.3), 0 1px 3px 1px rgba(60, 64, 67, 0.15);\n",
              "    fill: var(--button-hover-fill-color);\n",
              "  }\n",
              "\n",
              "  .colab-df-quickchart-complete:disabled,\n",
              "  .colab-df-quickchart-complete:disabled:hover {\n",
              "    background-color: var(--disabled-bg-color);\n",
              "    fill: var(--disabled-fill-color);\n",
              "    box-shadow: none;\n",
              "  }\n",
              "\n",
              "  .colab-df-spinner {\n",
              "    border: 2px solid var(--fill-color);\n",
              "    border-color: transparent;\n",
              "    border-bottom-color: var(--fill-color);\n",
              "    animation:\n",
              "      spin 1s steps(1) infinite;\n",
              "  }\n",
              "\n",
              "  @keyframes spin {\n",
              "    0% {\n",
              "      border-color: transparent;\n",
              "      border-bottom-color: var(--fill-color);\n",
              "      border-left-color: var(--fill-color);\n",
              "    }\n",
              "    20% {\n",
              "      border-color: transparent;\n",
              "      border-left-color: var(--fill-color);\n",
              "      border-top-color: var(--fill-color);\n",
              "    }\n",
              "    30% {\n",
              "      border-color: transparent;\n",
              "      border-left-color: var(--fill-color);\n",
              "      border-top-color: var(--fill-color);\n",
              "      border-right-color: var(--fill-color);\n",
              "    }\n",
              "    40% {\n",
              "      border-color: transparent;\n",
              "      border-right-color: var(--fill-color);\n",
              "      border-top-color: var(--fill-color);\n",
              "    }\n",
              "    60% {\n",
              "      border-color: transparent;\n",
              "      border-right-color: var(--fill-color);\n",
              "    }\n",
              "    80% {\n",
              "      border-color: transparent;\n",
              "      border-right-color: var(--fill-color);\n",
              "      border-bottom-color: var(--fill-color);\n",
              "    }\n",
              "    90% {\n",
              "      border-color: transparent;\n",
              "      border-bottom-color: var(--fill-color);\n",
              "    }\n",
              "  }\n",
              "</style>\n",
              "\n",
              "  <script>\n",
              "    async function quickchart(key) {\n",
              "      const quickchartButtonEl =\n",
              "        document.querySelector('#' + key + ' button');\n",
              "      quickchartButtonEl.disabled = true;  // To prevent multiple clicks.\n",
              "      quickchartButtonEl.classList.add('colab-df-spinner');\n",
              "      try {\n",
              "        const charts = await google.colab.kernel.invokeFunction(\n",
              "            'suggestCharts', [key], {});\n",
              "      } catch (error) {\n",
              "        console.error('Error during call to suggestCharts:', error);\n",
              "      }\n",
              "      quickchartButtonEl.classList.remove('colab-df-spinner');\n",
              "      quickchartButtonEl.classList.add('colab-df-quickchart-complete');\n",
              "    }\n",
              "    (() => {\n",
              "      let quickchartButtonEl =\n",
              "        document.querySelector('#df-ed0da5d9-e412-4fcb-8e91-e41edf32765a button');\n",
              "      quickchartButtonEl.style.display =\n",
              "        google.colab.kernel.accessAllowed ? 'block' : 'none';\n",
              "    })();\n",
              "  </script>\n",
              "</div>\n",
              "    </div>\n",
              "  </div>\n"
            ]
          },
          "metadata": {},
          "execution_count": 152
        }
      ],
      "source": [
        "df.head(2)"
      ]
    },
    {
      "cell_type": "code",
      "execution_count": 153,
      "id": "66ab6e95",
      "metadata": {
        "id": "66ab6e95"
      },
      "outputs": [],
      "source": [
        "df.drop(['Index'], axis=1, inplace=True)\n",
        "df_train = df.loc[df['Price (in rupees)'].notna()]\n",
        "df_test = df.loc[df['Price (in rupees)'].isna()]"
      ]
    },
    {
      "cell_type": "code",
      "execution_count": 154,
      "id": "6c642950",
      "metadata": {
        "colab": {
          "base_uri": "https://localhost:8080/"
        },
        "id": "6c642950",
        "outputId": "6f27adc2-216f-4feb-a840-9d61d1a81733"
      },
      "outputs": [
        {
          "output_type": "stream",
          "name": "stdout",
          "text": [
            "Train dataset shape:  (169866, 20)\n",
            "Test dataset shape:   (17665, 20)\n"
          ]
        }
      ],
      "source": [
        "print('Train dataset shape: ', df_train.shape)\n",
        "print('Test dataset shape:  ', df_test.shape)"
      ]
    },
    {
      "cell_type": "code",
      "execution_count": 155,
      "id": "f7c2a92a",
      "metadata": {
        "id": "f7c2a92a"
      },
      "outputs": [],
      "source": [
        "df_train = df_train.sample(frac=0.1)\n",
        "df_train.reset_index(inplace=True)\n",
        "df_train.drop(['index'], axis=1, inplace=True)"
      ]
    },
    {
      "cell_type": "code",
      "execution_count": 156,
      "id": "4f03b682",
      "metadata": {
        "colab": {
          "base_uri": "https://localhost:8080/"
        },
        "id": "4f03b682",
        "outputId": "559575cb-5557-4889-d6f4-575234e0baf2"
      },
      "outputs": [
        {
          "output_type": "stream",
          "name": "stdout",
          "text": [
            "New train dataset shape:  (16987, 20)\n"
          ]
        }
      ],
      "source": [
        "print('New train dataset shape: ', df_train.shape)"
      ]
    },
    {
      "cell_type": "code",
      "execution_count": 157,
      "id": "b3576527",
      "metadata": {
        "id": "b3576527"
      },
      "outputs": [],
      "source": [
        "df = pd.concat([df_train, df_test])"
      ]
    },
    {
      "cell_type": "code",
      "execution_count": 158,
      "id": "d8c91e0c",
      "metadata": {
        "colab": {
          "base_uri": "https://localhost:8080/"
        },
        "id": "d8c91e0c",
        "outputId": "fab51d11-f699-4cb1-ace4-9796685d990d"
      },
      "outputs": [
        {
          "output_type": "stream",
          "name": "stdout",
          "text": [
            "Full dataset shape:  (34652, 20)\n"
          ]
        }
      ],
      "source": [
        "print('Full dataset shape: ', df.shape)"
      ]
    },
    {
      "cell_type": "markdown",
      "id": "a6n0WTepK4W9",
      "metadata": {
        "id": "a6n0WTepK4W9"
      },
      "source": [
        "# EDA"
      ]
    },
    {
      "cell_type": "code",
      "execution_count": 159,
      "id": "2ebd0220",
      "metadata": {
        "colab": {
          "base_uri": "https://localhost:8080/"
        },
        "id": "2ebd0220",
        "outputId": "75886484-ed30-41cd-8828-27420ef241cb"
      },
      "outputs": [
        {
          "output_type": "execute_result",
          "data": {
            "text/plain": [
              "Title                34652\n",
              "Description          34232\n",
              "Amount(in rupees)    34652\n",
              "Price (in rupees)    16987\n",
              "location             34652\n",
              "Carpet Area          22594\n",
              "Status               34571\n",
              "Floor                33737\n",
              "Transaction          34574\n",
              "Furnishing           33609\n",
              "facing               20358\n",
              "overlooking          16805\n",
              "Society              12634\n",
              "Bathroom             34502\n",
              "Balcony              26242\n",
              "Car Parking          13261\n",
              "Ownership            21561\n",
              "Super Area           11231\n",
              "Dimensions               0\n",
              "Plot Area                0\n",
              "dtype: int64"
            ]
          },
          "metadata": {},
          "execution_count": 159
        }
      ],
      "source": [
        "df_notna = df.notna().sum()\n",
        "df_notna"
      ]
    },
    {
      "cell_type": "code",
      "execution_count": 160,
      "id": "891d7b8c",
      "metadata": {
        "colab": {
          "base_uri": "https://localhost:8080/"
        },
        "id": "891d7b8c",
        "outputId": "0d95f1a3-b388-4fe0-a373-14b0f30f87b6"
      },
      "outputs": [
        {
          "output_type": "execute_result",
          "data": {
            "text/plain": [
              "(array([    0, 11231, 12634, 13261, 16805, 16987, 20358, 21561, 22594,\n",
              "        26242, 33609, 33737, 34232, 34502, 34571, 34574, 34652]),\n",
              " array([2, 1, 1, 1, 1, 1, 1, 1, 1, 1, 1, 1, 1, 1, 1, 1, 3]))"
            ]
          },
          "metadata": {},
          "execution_count": 160
        }
      ],
      "source": [
        "na_col = np.unique(df_notna, return_counts=True)\n",
        "na_col"
      ]
    },
    {
      "cell_type": "code",
      "execution_count": 161,
      "id": "4d4f018a",
      "metadata": {
        "colab": {
          "base_uri": "https://localhost:8080/",
          "height": 0
        },
        "id": "4d4f018a",
        "outputId": "c9b00dbc-c2e6-4a7c-b96c-cb3c305d4e42"
      },
      "outputs": [
        {
          "output_type": "display_data",
          "data": {
            "text/plain": [
              "<Figure size 800x400 with 1 Axes>"
            ],
            "image/png": "[encoded data removed]"
          },
          "metadata": {}
        }
      ],
      "source": [
        "plt.figure(figsize=(8,4))\n",
        "b = sns.barplot(x=na_col[0], y=na_col[1])\n",
        "b.tick_params(labelsize=8)"
      ]
    },
    {
      "cell_type": "code",
      "execution_count": 162,
      "id": "60ad9ec0",
      "metadata": {
        "id": "60ad9ec0"
      },
      "outputs": [],
      "source": [
        "for i in df.columns:\n",
        "    if (df[i].notna().sum() < 0.5*len(df)) and (i != 'Price (in rupees)'):\n",
        "        del(df[i])"
      ]
    },
    {
      "cell_type": "code",
      "execution_count": 163,
      "id": "5a942b2e",
      "metadata": {
        "colab": {
          "base_uri": "https://localhost:8080/"
        },
        "id": "5a942b2e",
        "outputId": "02829cd2-ea22-4f22-a9e1-ee6d0b3abe5f"
      },
      "outputs": [
        {
          "output_type": "execute_result",
          "data": {
            "text/plain": [
              "(34652, 14)"
            ]
          },
          "metadata": {},
          "execution_count": 163
        }
      ],
      "source": [
        "df.shape"
      ]
    },
    {
      "cell_type": "code",
      "execution_count": 164,
      "id": "239b8b1a",
      "metadata": {
        "id": "239b8b1a"
      },
      "outputs": [],
      "source": [
        "df_room_count = df['Title'].str.split(pat = ' BHK', expand = True)\n",
        "df_flat_or_apartment = df['Title'].str.split(pat = ' for sale ', expand = True)\n",
        "df_flat_or_apartment = df_flat_or_apartment[0].str.split(pat = 'Occupy ', expand = True)\n",
        "df_flat_or_apartment[1].fillna(df_flat_or_apartment[0], inplace=True)\n",
        "\n",
        "df_room_count = df_room_count[0]\n",
        "df_flat_or_apartment = df_flat_or_apartment[1]\n",
        "\n",
        "df = pd.concat([df, df_room_count, df_flat_or_apartment], axis=1)\n",
        "df.drop(['Title'], axis=1, inplace=True)\n",
        "df.rename(columns = {0:'Rooms_count', 1:'Flat_or_Apartment'}, inplace=True)"
      ]
    },
    {
      "cell_type": "code",
      "execution_count": 165,
      "id": "6ab064df",
      "metadata": {
        "id": "6ab064df"
      },
      "outputs": [],
      "source": [
        "df.replace({'Rooms_count' : {'1': '1 ','2': '2 ','3': '3 ','4': '4 ','5': '5 ','6': '6 ','7': '7 ',\n",
        "                             '8': '8 ','9': '9 ','10': '10 ','> 10': '11 '}}, inplace=True)\n",
        "df_room_count = df['Rooms_count'].str.split(pat = ' ', expand = True)\n",
        "df_room_count = df_room_count[0]\n",
        "df = pd.concat([df, df_room_count], axis=1)\n",
        "df.drop(['Rooms_count'], axis=1, inplace=True)\n",
        "df.rename(columns = {0:'Rooms_count'}, inplace=True)\n",
        "df[['Rooms_count']] = df[['Rooms_count']].apply(pd.to_numeric)"
      ]
    },
    {
      "cell_type": "code",
      "execution_count": 166,
      "id": "04f77d20",
      "metadata": {
        "id": "04f77d20"
      },
      "outputs": [],
      "source": [
        "df_amount = df['Amount(in rupees)'].str.split(pat = ' ', expand = True)\n",
        "df_amount_number = df_amount[0]\n",
        "df_lac_or_cr = df_amount[1]\n",
        "df = pd.concat([df, df_amount_number, df_lac_or_cr], axis=1)\n",
        "df.drop(['Amount(in rupees)'], axis=1, inplace=True)\n",
        "df.rename(columns = {0:'Amount'}, inplace=True)"
      ]
    },
    {
      "cell_type": "code",
      "execution_count": 167,
      "id": "ed4ba0a5",
      "metadata": {
        "id": "ed4ba0a5"
      },
      "outputs": [],
      "source": [
        "df.replace({'Amount' : {'Call': 0}}, inplace=True)\n",
        "df[['Amount']] = df[['Amount']].apply(pd.to_numeric)\n",
        "df.replace({1 : {'Cr': 100, 'Lac': 1, 'for': 0}}, inplace=True)\n",
        "df[[1]] = df[[1]].apply(pd.to_numeric)\n",
        "df['Amount'] = df['Amount']*df[1]\n",
        "df.drop([1], axis=1, inplace=True)\n",
        "df.replace({'Amount' : {0 : np.NaN}}, inplace=True)"
      ]
    },
    {
      "cell_type": "code",
      "execution_count": 168,
      "id": "e9e58518",
      "metadata": {
        "id": "e9e58518"
      },
      "outputs": [],
      "source": [
        "df_carpet_area = df['Carpet Area'].str.split(pat = ' ', expand = True)\n",
        "df_carpet_area = df_carpet_area[0]\n",
        "df = pd.concat([df, df_carpet_area], axis=1)\n",
        "df.drop(['Carpet Area'], axis=1, inplace=True)\n",
        "df.rename(columns = {0:'Carpet_area'}, inplace=True)\n",
        "df[['Carpet_area']] = df[['Carpet_area']].apply(pd.to_numeric)\n",
        "df['Carpet_area'].fillna(0, inplace=True)"
      ]
    },
    {
      "cell_type": "code",
      "execution_count": 169,
      "id": "68dec182",
      "metadata": {
        "id": "68dec182"
      },
      "outputs": [],
      "source": [
        "df['Status'].fillna('Not Ready to Move', inplace=True)"
      ]
    },
    {
      "cell_type": "code",
      "execution_count": 170,
      "id": "b2db62e3",
      "metadata": {
        "id": "b2db62e3"
      },
      "outputs": [],
      "source": [
        "df_floor = df['Floor'].str.split(pat = ' ', expand = True)\n",
        "df_floors = df['Floor'].str.split(pat = 'of ', expand = True)\n",
        "df_floor = df_floor[0]\n",
        "df_floors = df_floors[1]\n",
        "df = pd.concat([df, df_floor, df_floors], axis=1)\n",
        "df.drop(['Floor'], axis=1, inplace=True)\n",
        "df.rename(columns = {0:'Floor', 1:'Floors'}, inplace=True)"
      ]
    },
    {
      "cell_type": "code",
      "execution_count": 171,
      "id": "27cda68e",
      "metadata": {
        "id": "27cda68e"
      },
      "outputs": [],
      "source": [
        "df.replace({'Floor' : {'Ground': 0, 'Lower': 0, 'Upper': df['Floors']}}, inplace=True)\n",
        "df[['Floor', 'Floors']] = df[['Floor', 'Floors']].apply(pd.to_numeric)"
      ]
    },
    {
      "cell_type": "code",
      "execution_count": 172,
      "id": "0cb5f844",
      "metadata": {
        "id": "0cb5f844"
      },
      "outputs": [],
      "source": [
        "df['Transaction'].fillna('Other', inplace=True)\n",
        "df['Furnishing'].fillna('Unfurnished', inplace=True)"
      ]
    },
    {
      "cell_type": "code",
      "execution_count": 173,
      "id": "db1c4440",
      "metadata": {
        "id": "db1c4440"
      },
      "outputs": [],
      "source": [
        "df.replace({'Bathroom' : {'> 10': 11}}, inplace=True)\n",
        "df[['Bathroom']] = df[['Bathroom']].apply(pd.to_numeric)"
      ]
    },
    {
      "cell_type": "code",
      "execution_count": 174,
      "id": "1da991a4",
      "metadata": {
        "id": "1da991a4"
      },
      "outputs": [],
      "source": [
        "df.replace({'Balcony' : {'> 10': 11}}, inplace=True)\n",
        "df['Balcony'].fillna('0', inplace=True)\n",
        "df[['Balcony']] = df[['Balcony']].apply(pd.to_numeric)"
      ]
    },
    {
      "cell_type": "code",
      "execution_count": 175,
      "id": "RPl_hgUaMSlg",
      "metadata": {
        "id": "RPl_hgUaMSlg"
      },
      "outputs": [],
      "source": [
        "df_text = df['Description']\n",
        "df.drop(['Description'], axis=1, inplace=True)"
      ]
    },
    {
      "cell_type": "code",
      "execution_count": 176,
      "id": "9WyWrenEPyOQ",
      "metadata": {
        "colab": {
          "base_uri": "https://localhost:8080/",
          "height": 0
        },
        "id": "9WyWrenEPyOQ",
        "outputId": "42d22e1c-7a85-4daf-f731-cc1279258d5f"
      },
      "outputs": [
        {
          "output_type": "execute_result",
          "data": {
            "text/plain": [
              "        Price (in rupees)   location         Status   Transaction  \\\n",
              "0                  6173.0  hyderabad  Ready to Move        Resale   \n",
              "1                  9695.0    gurgaon  Ready to Move        Resale   \n",
              "2                  7588.0    gurgaon  Ready to Move        Resale   \n",
              "3                  8033.0  bangalore  Ready to Move        Resale   \n",
              "4                  3877.0  bangalore  Ready to Move        Resale   \n",
              "...                   ...        ...            ...           ...   \n",
              "187404                NaN   zirakpur  Ready to Move        Resale   \n",
              "187442                NaN   zirakpur  Ready to Move  New Property   \n",
              "187503                NaN   zirakpur  Ready to Move  New Property   \n",
              "187506                NaN   zirakpur  Ready to Move        Resale   \n",
              "187513                NaN   zirakpur  Ready to Move        Resale   \n",
              "\n",
              "            Furnishing        facing  Bathroom  Balcony             Ownership  \\\n",
              "0          Unfurnished          East       2.0        0                   NaN   \n",
              "1          Unfurnished           NaN       3.0        3                   NaN   \n",
              "2            Furnished          East       3.0        3              Freehold   \n",
              "3       Semi-Furnished           NaN       2.0        0                   NaN   \n",
              "4       Semi-Furnished          East       3.0        3              Freehold   \n",
              "...                ...           ...       ...      ...                   ...   \n",
              "187404  Semi-Furnished         North       3.0        3              Freehold   \n",
              "187442  Semi-Furnished         North       3.0        2              Freehold   \n",
              "187503  Semi-Furnished  North - East       3.0        2  Co-operative Society   \n",
              "187506       Furnished          East       4.0        4              Freehold   \n",
              "187513     Unfurnished           NaN       NaN        0                   NaN   \n",
              "\n",
              "       Flat_or_Apartment  Rooms_count  Amount  Carpet_area  Floor  Floors  \n",
              "0                   Flat          2.0    67.9          0.0    2.0     5.0  \n",
              "1                   Flat          3.0   175.0       1605.0    5.0    11.0  \n",
              "2                   Flat          3.0   195.0          0.0    1.0    18.0  \n",
              "3                   Flat          2.0   116.0          0.0    9.0     9.0  \n",
              "4                   Flat          3.0    63.0       1435.0    3.0     6.0  \n",
              "...                  ...          ...     ...          ...    ...     ...  \n",
              "187404              Flat          3.0     NaN       1450.0    3.0     9.0  \n",
              "187442              Flat          3.0     NaN       1200.0    2.0     4.0  \n",
              "187503              Flat          3.0     NaN        990.0    4.0     5.0  \n",
              "187506              Flat          4.0     NaN       2500.0    6.0     7.0  \n",
              "187513              Flat          3.0     NaN       1200.0    3.0     3.0  \n",
              "\n",
              "[34652 rows x 15 columns]"
            ],
            "text/html": [
              "\n",
              "  <div id=\"df-31f39929-cefc-41c1-9234-986b72df56d0\" class=\"colab-df-container\">\n",
              "    <div>\n",
              "<style scoped>\n",
              "    .dataframe tbody tr th:only-of-type {\n",
              "        vertical-align: middle;\n",
              "    }\n",
              "\n",
              "    .dataframe tbody tr th {\n",
              "        vertical-align: top;\n",
              "    }\n",
              "\n",
              "    .dataframe thead th {\n",
              "        text-align: right;\n",
              "    }\n",
              "</style>\n",
              "<table border=\"1\" class=\"dataframe\">\n",
              "  <thead>\n",
              "    <tr style=\"text-align: right;\">\n",
              "      <th></th>\n",
              "      <th>Price (in rupees)</th>\n",
              "      <th>location</th>\n",
              "      <th>Status</th>\n",
              "      <th>Transaction</th>\n",
              "      <th>Furnishing</th>\n",
              "      <th>facing</th>\n",
              "      <th>Bathroom</th>\n",
              "      <th>Balcony</th>\n",
              "      <th>Ownership</th>\n",
              "      <th>Flat_or_Apartment</th>\n",
              "      <th>Rooms_count</th>\n",
              "      <th>Amount</th>\n",
              "      <th>Carpet_area</th>\n",
              "      <th>Floor</th>\n",
              "      <th>Floors</th>\n",
              "    </tr>\n",
              "  </thead>\n",
              "  <tbody>\n",
              "    <tr>\n",
              "      <th>0</th>\n",
              "      <td>6173.0</td>\n",
              "      <td>hyderabad</td>\n",
              "      <td>Ready to Move</td>\n",
              "      <td>Resale</td>\n",
              "      <td>Unfurnished</td>\n",
              "      <td>East</td>\n",
              "      <td>2.0</td>\n",
              "      <td>0</td>\n",
              "      <td>NaN</td>\n",
              "      <td>Flat</td>\n",
              "      <td>2.0</td>\n",
              "      <td>67.9</td>\n",
              "      <td>0.0</td>\n",
              "      <td>2.0</td>\n",
              "      <td>5.0</td>\n",
              "    </tr>\n",
              "    <tr>\n",
              "      <th>1</th>\n",
              "      <td>9695.0</td>\n",
              "      <td>gurgaon</td>\n",
              "      <td>Ready to Move</td>\n",
              "      <td>Resale</td>\n",
              "      <td>Unfurnished</td>\n",
              "      <td>NaN</td>\n",
              "      <td>3.0</td>\n",
              "      <td>3</td>\n",
              "      <td>NaN</td>\n",
              "      <td>Flat</td>\n",
              "      <td>3.0</td>\n",
              "      <td>175.0</td>\n",
              "      <td>1605.0</td>\n",
              "      <td>5.0</td>\n",
              "      <td>11.0</td>\n",
              "    </tr>\n",
              "    <tr>\n",
              "      <th>2</th>\n",
              "      <td>7588.0</td>\n",
              "      <td>gurgaon</td>\n",
              "      <td>Ready to Move</td>\n",
              "      <td>Resale</td>\n",
              "      <td>Furnished</td>\n",
              "      <td>East</td>\n",
              "      <td>3.0</td>\n",
              "      <td>3</td>\n",
              "      <td>Freehold</td>\n",
              "      <td>Flat</td>\n",
              "      <td>3.0</td>\n",
              "      <td>195.0</td>\n",
              "      <td>0.0</td>\n",
              "      <td>1.0</td>\n",
              "      <td>18.0</td>\n",
              "    </tr>\n",
              "    <tr>\n",
              "      <th>3</th>\n",
              "      <td>8033.0</td>\n",
              "      <td>bangalore</td>\n",
              "      <td>Ready to Move</td>\n",
              "      <td>Resale</td>\n",
              "      <td>Semi-Furnished</td>\n",
              "      <td>NaN</td>\n",
              "      <td>2.0</td>\n",
              "      <td>0</td>\n",
              "      <td>NaN</td>\n",
              "      <td>Flat</td>\n",
              "      <td>2.0</td>\n",
              "      <td>116.0</td>\n",
              "      <td>0.0</td>\n",
              "      <td>9.0</td>\n",
              "      <td>9.0</td>\n",
              "    </tr>\n",
              "    <tr>\n",
              "      <th>4</th>\n",
              "      <td>3877.0</td>\n",
              "      <td>bangalore</td>\n",
              "      <td>Ready to Move</td>\n",
              "      <td>Resale</td>\n",
              "      <td>Semi-Furnished</td>\n",
              "      <td>East</td>\n",
              "      <td>3.0</td>\n",
              "      <td>3</td>\n",
              "      <td>Freehold</td>\n",
              "      <td>Flat</td>\n",
              "      <td>3.0</td>\n",
              "      <td>63.0</td>\n",
              "      <td>1435.0</td>\n",
              "      <td>3.0</td>\n",
              "      <td>6.0</td>\n",
              "    </tr>\n",
              "    <tr>\n",
              "      <th>...</th>\n",
              "      <td>...</td>\n",
              "      <td>...</td>\n",
              "      <td>...</td>\n",
              "      <td>...</td>\n",
              "      <td>...</td>\n",
              "      <td>...</td>\n",
              "      <td>...</td>\n",
              "      <td>...</td>\n",
              "      <td>...</td>\n",
              "      <td>...</td>\n",
              "      <td>...</td>\n",
              "      <td>...</td>\n",
              "      <td>...</td>\n",
              "      <td>...</td>\n",
              "      <td>...</td>\n",
              "    </tr>\n",
              "    <tr>\n",
              "      <th>187404</th>\n",
              "      <td>NaN</td>\n",
              "      <td>zirakpur</td>\n",
              "      <td>Ready to Move</td>\n",
              "      <td>Resale</td>\n",
              "      <td>Semi-Furnished</td>\n",
              "      <td>North</td>\n",
              "      <td>3.0</td>\n",
              "      <td>3</td>\n",
              "      <td>Freehold</td>\n",
              "      <td>Flat</td>\n",
              "      <td>3.0</td>\n",
              "      <td>NaN</td>\n",
              "      <td>1450.0</td>\n",
              "      <td>3.0</td>\n",
              "      <td>9.0</td>\n",
              "    </tr>\n",
              "    <tr>\n",
              "      <th>187442</th>\n",
              "      <td>NaN</td>\n",
              "      <td>zirakpur</td>\n",
              "      <td>Ready to Move</td>\n",
              "      <td>New Property</td>\n",
              "      <td>Semi-Furnished</td>\n",
              "      <td>North</td>\n",
              "      <td>3.0</td>\n",
              "      <td>2</td>\n",
              "      <td>Freehold</td>\n",
              "      <td>Flat</td>\n",
              "      <td>3.0</td>\n",
              "      <td>NaN</td>\n",
              "      <td>1200.0</td>\n",
              "      <td>2.0</td>\n",
              "      <td>4.0</td>\n",
              "    </tr>\n",
              "    <tr>\n",
              "      <th>187503</th>\n",
              "      <td>NaN</td>\n",
              "      <td>zirakpur</td>\n",
              "      <td>Ready to Move</td>\n",
              "      <td>New Property</td>\n",
              "      <td>Semi-Furnished</td>\n",
              "      <td>North - East</td>\n",
              "      <td>3.0</td>\n",
              "      <td>2</td>\n",
              "      <td>Co-operative Society</td>\n",
              "      <td>Flat</td>\n",
              "      <td>3.0</td>\n",
              "      <td>NaN</td>\n",
              "      <td>990.0</td>\n",
              "      <td>4.0</td>\n",
              "      <td>5.0</td>\n",
              "    </tr>\n",
              "    <tr>\n",
              "      <th>187506</th>\n",
              "      <td>NaN</td>\n",
              "      <td>zirakpur</td>\n",
              "      <td>Ready to Move</td>\n",
              "      <td>Resale</td>\n",
              "      <td>Furnished</td>\n",
              "      <td>East</td>\n",
              "      <td>4.0</td>\n",
              "      <td>4</td>\n",
              "      <td>Freehold</td>\n",
              "      <td>Flat</td>\n",
              "      <td>4.0</td>\n",
              "      <td>NaN</td>\n",
              "      <td>2500.0</td>\n",
              "      <td>6.0</td>\n",
              "      <td>7.0</td>\n",
              "    </tr>\n",
              "    <tr>\n",
              "      <th>187513</th>\n",
              "      <td>NaN</td>\n",
              "      <td>zirakpur</td>\n",
              "      <td>Ready to Move</td>\n",
              "      <td>Resale</td>\n",
              "      <td>Unfurnished</td>\n",
              "      <td>NaN</td>\n",
              "      <td>NaN</td>\n",
              "      <td>0</td>\n",
              "      <td>NaN</td>\n",
              "      <td>Flat</td>\n",
              "      <td>3.0</td>\n",
              "      <td>NaN</td>\n",
              "      <td>1200.0</td>\n",
              "      <td>3.0</td>\n",
              "      <td>3.0</td>\n",
              "    </tr>\n",
              "  </tbody>\n",
              "</table>\n",
              "<p>34652 rows × 15 columns</p>\n",
              "</div>\n",
              "    <div class=\"colab-df-buttons\">\n",
              "\n",
              "  <div class=\"colab-df-container\">\n",
              "    <button class=\"colab-df-convert\" onclick=\"convertToInteractive('df-31f39929-cefc-41c1-9234-986b72df56d0')\"\n",
              "            title=\"Convert this dataframe to an interactive table.\"\n",
              "            style=\"display:none;\">\n",
              "\n",
              "  <svg xmlns=\"http://www.w3.org/2000/svg\" height=\"24px\" viewBox=\"0 -960 960 960\">\n",
              "    <path d=\"M120-120v-720h720v720H120Zm60-500h600v-160H180v160Zm220 220h160v-160H400v160Zm0 220h160v-160H400v160ZM180-400h160v-160H180v160Zm440 0h160v-160H620v160ZM180-180h160v-160H180v160Zm440 0h160v-160H620v160Z\"/>\n",
              "  </svg>\n",
              "    </button>\n",
              "\n",
              "  <style>\n",
              "    .colab-df-container {\n",
              "      display:flex;\n",
              "      gap: 12px;\n",
              "    }\n",
              "\n",
              "    .colab-df-convert {\n",
              "      background-color: #E8F0FE;\n",
              "      border: none;\n",
              "      border-radius: 50%;\n",
              "      cursor: pointer;\n",
              "      display: none;\n",
              "      fill: #1967D2;\n",
              "      height: 32px;\n",
              "      padding: 0 0 0 0;\n",
              "      width: 32px;\n",
              "    }\n",
              "\n",
              "    .colab-df-convert:hover {\n",
              "      background-color: #E2EBFA;\n",
              "      box-shadow: 0px 1px 2px rgba(60, 64, 67, 0.3), 0px 1px 3px 1px rgba(60, 64, 67, 0.15);\n",
              "      fill: #174EA6;\n",
              "    }\n",
              "\n",
              "    .colab-df-buttons div {\n",
              "      margin-bottom: 4px;\n",
              "    }\n",
              "\n",
              "    [theme=dark] .colab-df-convert {\n",
              "      background-color: #3B4455;\n",
              "      fill: #D2E3FC;\n",
              "    }\n",
              "\n",
              "    [theme=dark] .colab-df-convert:hover {\n",
              "      background-color: #434B5C;\n",
              "      box-shadow: 0px 1px 3px 1px rgba(0, 0, 0, 0.15);\n",
              "      filter: drop-shadow(0px 1px 2px rgba(0, 0, 0, 0.3));\n",
              "      fill: #FFFFFF;\n",
              "    }\n",
              "  </style>\n",
              "\n",
              "    <script>\n",
              "      const buttonEl =\n",
              "        document.querySelector('#df-31f39929-cefc-41c1-9234-986b72df56d0 button.colab-df-convert');\n",
              "      buttonEl.style.display =\n",
              "        google.colab.kernel.accessAllowed ? 'block' : 'none';\n",
              "\n",
              "      async function convertToInteractive(key) {\n",
              "        const element = document.querySelector('#df-31f39929-cefc-41c1-9234-986b72df56d0');\n",
              "        const dataTable =\n",
              "          await google.colab.kernel.invokeFunction('convertToInteractive',\n",
              "                                                    [key], {});\n",
              "        if (!dataTable) return;\n",
              "\n",
              "        const docLinkHtml = 'Like what you see? Visit the ' +\n",
              "          '<a target=\"_blank\" href=https://colab.research.google.com/notebooks/data_table.ipynb>data table notebook</a>'\n",
              "          + ' to learn more about interactive tables.';\n",
              "        element.innerHTML = '';\n",
              "        dataTable['output_type'] = 'display_data';\n",
              "        await google.colab.output.renderOutput(dataTable, element);\n",
              "        const docLink = document.createElement('div');\n",
              "        docLink.innerHTML = docLinkHtml;\n",
              "        element.appendChild(docLink);\n",
              "      }\n",
              "    </script>\n",
              "  </div>\n",
              "\n",
              "\n",
              "<div id=\"df-d8c90cda-ce9d-44ad-b0a1-2559420b3335\">\n",
              "  <button class=\"colab-df-quickchart\" onclick=\"quickchart('df-d8c90cda-ce9d-44ad-b0a1-2559420b3335')\"\n",
              "            title=\"Suggest charts.\"\n",
              "            style=\"display:none;\">\n",
              "\n",
              "<svg xmlns=\"http://www.w3.org/2000/svg\" height=\"24px\"viewBox=\"0 0 24 24\"\n",
              "     width=\"24px\">\n",
              "    <g>\n",
              "        <path d=\"M19 3H5c-1.1 0-2 .9-2 2v14c0 1.1.9 2 2 2h14c1.1 0 2-.9 2-2V5c0-1.1-.9-2-2-2zM9 17H7v-7h2v7zm4 0h-2V7h2v10zm4 0h-2v-4h2v4z\"/>\n",
              "    </g>\n",
              "</svg>\n",
              "  </button>\n",
              "\n",
              "<style>\n",
              "  .colab-df-quickchart {\n",
              "      --bg-color: #E8F0FE;\n",
              "      --fill-color: #1967D2;\n",
              "      --hover-bg-color: #E2EBFA;\n",
              "      --hover-fill-color: #174EA6;\n",
              "      --disabled-fill-color: #AAA;\n",
              "      --disabled-bg-color: #DDD;\n",
              "  }\n",
              "\n",
              "  [theme=dark] .colab-df-quickchart {\n",
              "      --bg-color: #3B4455;\n",
              "      --fill-color: #D2E3FC;\n",
              "      --hover-bg-color: #434B5C;\n",
              "      --hover-fill-color: #FFFFFF;\n",
              "      --disabled-bg-color: #3B4455;\n",
              "      --disabled-fill-color: #666;\n",
              "  }\n",
              "\n",
              "  .colab-df-quickchart {\n",
              "    background-color: var(--bg-color);\n",
              "    border: none;\n",
              "    border-radius: 50%;\n",
              "    cursor: pointer;\n",
              "    display: none;\n",
              "    fill: var(--fill-color);\n",
              "    height: 32px;\n",
              "    padding: 0;\n",
              "    width: 32px;\n",
              "  }\n",
              "\n",
              "  .colab-df-quickchart:hover {\n",
              "    background-color: var(--hover-bg-color);\n",
              "    box-shadow: 0 1px 2px rgba(60, 64, 67, 0.3), 0 1px 3px 1px rgba(60, 64, 67, 0.15);\n",
              "    fill: var(--button-hover-fill-color);\n",
              "  }\n",
              "\n",
              "  .colab-df-quickchart-complete:disabled,\n",
              "  .colab-df-quickchart-complete:disabled:hover {\n",
              "    background-color: var(--disabled-bg-color);\n",
              "    fill: var(--disabled-fill-color);\n",
              "    box-shadow: none;\n",
              "  }\n",
              "\n",
              "  .colab-df-spinner {\n",
              "    border: 2px solid var(--fill-color);\n",
              "    border-color: transparent;\n",
              "    border-bottom-color: var(--fill-color);\n",
              "    animation:\n",
              "      spin 1s steps(1) infinite;\n",
              "  }\n",
              "\n",
              "  @keyframes spin {\n",
              "    0% {\n",
              "      border-color: transparent;\n",
              "      border-bottom-color: var(--fill-color);\n",
              "      border-left-color: var(--fill-color);\n",
              "    }\n",
              "    20% {\n",
              "      border-color: transparent;\n",
              "      border-left-color: var(--fill-color);\n",
              "      border-top-color: var(--fill-color);\n",
              "    }\n",
              "    30% {\n",
              "      border-color: transparent;\n",
              "      border-left-color: var(--fill-color);\n",
              "      border-top-color: var(--fill-color);\n",
              "      border-right-color: var(--fill-color);\n",
              "    }\n",
              "    40% {\n",
              "      border-color: transparent;\n",
              "      border-right-color: var(--fill-color);\n",
              "      border-top-color: var(--fill-color);\n",
              "    }\n",
              "    60% {\n",
              "      border-color: transparent;\n",
              "      border-right-color: var(--fill-color);\n",
              "    }\n",
              "    80% {\n",
              "      border-color: transparent;\n",
              "      border-right-color: var(--fill-color);\n",
              "      border-bottom-color: var(--fill-color);\n",
              "    }\n",
              "    90% {\n",
              "      border-color: transparent;\n",
              "      border-bottom-color: var(--fill-color);\n",
              "    }\n",
              "  }\n",
              "</style>\n",
              "\n",
              "  <script>\n",
              "    async function quickchart(key) {\n",
              "      const quickchartButtonEl =\n",
              "        document.querySelector('#' + key + ' button');\n",
              "      quickchartButtonEl.disabled = true;  // To prevent multiple clicks.\n",
              "      quickchartButtonEl.classList.add('colab-df-spinner');\n",
              "      try {\n",
              "        const charts = await google.colab.kernel.invokeFunction(\n",
              "            'suggestCharts', [key], {});\n",
              "      } catch (error) {\n",
              "        console.error('Error during call to suggestCharts:', error);\n",
              "      }\n",
              "      quickchartButtonEl.classList.remove('colab-df-spinner');\n",
              "      quickchartButtonEl.classList.add('colab-df-quickchart-complete');\n",
              "    }\n",
              "    (() => {\n",
              "      let quickchartButtonEl =\n",
              "        document.querySelector('#df-d8c90cda-ce9d-44ad-b0a1-2559420b3335 button');\n",
              "      quickchartButtonEl.style.display =\n",
              "        google.colab.kernel.accessAllowed ? 'block' : 'none';\n",
              "    })();\n",
              "  </script>\n",
              "</div>\n",
              "    </div>\n",
              "  </div>\n"
            ]
          },
          "metadata": {},
          "execution_count": 176
        }
      ],
      "source": [
        "df"
      ]
    },
    {
      "cell_type": "markdown",
      "id": "63c3d306",
      "metadata": {
        "id": "63c3d306"
      },
      "source": [
        "# Categorical"
      ]
    },
    {
      "cell_type": "code",
      "source": [
        "df.dtypes"
      ],
      "metadata": {
        "colab": {
          "base_uri": "https://localhost:8080/"
        },
        "id": "epRrK2_UyNLg",
        "outputId": "de32b4d8-b6a4-4159-84f3-350448cbcf09"
      },
      "id": "epRrK2_UyNLg",
      "execution_count": 177,
      "outputs": [
        {
          "output_type": "execute_result",
          "data": {
            "text/plain": [
              "Price (in rupees)    float64\n",
              "location              object\n",
              "Status                object\n",
              "Transaction           object\n",
              "Furnishing            object\n",
              "facing                object\n",
              "Bathroom             float64\n",
              "Balcony                int64\n",
              "Ownership             object\n",
              "Flat_or_Apartment     object\n",
              "Rooms_count          float64\n",
              "Amount               float64\n",
              "Carpet_area          float64\n",
              "Floor                float64\n",
              "Floors               float64\n",
              "dtype: object"
            ]
          },
          "metadata": {},
          "execution_count": 177
        }
      ]
    },
    {
      "cell_type": "code",
      "execution_count": 178,
      "id": "db77d28f",
      "metadata": {
        "id": "db77d28f"
      },
      "outputs": [],
      "source": [
        "df_g = pd.get_dummies(df, drop_first=True)\n",
        "df_g.reset_index(inplace=True)\n",
        "df_g.drop(['index'], axis=1, inplace=True)"
      ]
    },
    {
      "cell_type": "code",
      "execution_count": 179,
      "id": "pNA_AHoID-mW",
      "metadata": {
        "colab": {
          "base_uri": "https://localhost:8080/",
          "height": 0
        },
        "id": "pNA_AHoID-mW",
        "outputId": "c4003d5e-4d35-4814-dcf9-bb6093e9d9fb"
      },
      "outputs": [
        {
          "output_type": "execute_result",
          "data": {
            "text/plain": [
              "       Price (in rupees)  Bathroom  Balcony  Rooms_count  Amount  Carpet_area  \\\n",
              "0                 6173.0       2.0        0          2.0    67.9          0.0   \n",
              "1                 9695.0       3.0        3          3.0   175.0       1605.0   \n",
              "2                 7588.0       3.0        3          3.0   195.0          0.0   \n",
              "3                 8033.0       2.0        0          2.0   116.0          0.0   \n",
              "4                 3877.0       3.0        3          3.0    63.0       1435.0   \n",
              "...                  ...       ...      ...          ...     ...          ...   \n",
              "34647                NaN       3.0        3          3.0     NaN       1450.0   \n",
              "34648                NaN       3.0        2          3.0     NaN       1200.0   \n",
              "34649                NaN       3.0        2          3.0     NaN        990.0   \n",
              "34650                NaN       4.0        4          4.0     NaN       2500.0   \n",
              "34651                NaN       NaN        0          3.0     NaN       1200.0   \n",
              "\n",
              "       Floor  Floors  location_ahmadnagar  location_ahmedabad  ...  \\\n",
              "0        2.0     5.0                    0                   0  ...   \n",
              "1        5.0    11.0                    0                   0  ...   \n",
              "2        1.0    18.0                    0                   0  ...   \n",
              "3        9.0     9.0                    0                   0  ...   \n",
              "4        3.0     6.0                    0                   0  ...   \n",
              "...      ...     ...                  ...                 ...  ...   \n",
              "34647    3.0     9.0                    0                   0  ...   \n",
              "34648    2.0     4.0                    0                   0  ...   \n",
              "34649    4.0     5.0                    0                   0  ...   \n",
              "34650    6.0     7.0                    0                   0  ...   \n",
              "34651    3.0     3.0                    0                   0  ...   \n",
              "\n",
              "       facing_South  facing_South - East  facing_South -West  facing_West  \\\n",
              "0                 0                    0                   0            0   \n",
              "1                 0                    0                   0            0   \n",
              "2                 0                    0                   0            0   \n",
              "3                 0                    0                   0            0   \n",
              "4                 0                    0                   0            0   \n",
              "...             ...                  ...                 ...          ...   \n",
              "34647             0                    0                   0            0   \n",
              "34648             0                    0                   0            0   \n",
              "34649             0                    0                   0            0   \n",
              "34650             0                    0                   0            0   \n",
              "34651             0                    0                   0            0   \n",
              "\n",
              "       Ownership_Freehold  Ownership_Leasehold  Ownership_Power Of Attorney  \\\n",
              "0                       0                    0                            0   \n",
              "1                       0                    0                            0   \n",
              "2                       1                    0                            0   \n",
              "3                       0                    0                            0   \n",
              "4                       1                    0                            0   \n",
              "...                   ...                  ...                          ...   \n",
              "34647                   1                    0                            0   \n",
              "34648                   1                    0                            0   \n",
              "34649                   0                    0                            0   \n",
              "34650                   1                    0                            0   \n",
              "34651                   0                    0                            0   \n",
              "\n",
              "       Flat_or_Apartment_ Builder Floor  Flat_or_Apartment_ Studio Apartment  \\\n",
              "0                                     0                                    0   \n",
              "1                                     0                                    0   \n",
              "2                                     0                                    0   \n",
              "3                                     0                                    0   \n",
              "4                                     0                                    0   \n",
              "...                                 ...                                  ...   \n",
              "34647                                 0                                    0   \n",
              "34648                                 0                                    0   \n",
              "34649                                 0                                    0   \n",
              "34650                                 0                                    0   \n",
              "34651                                 0                                    0   \n",
              "\n",
              "       Flat_or_Apartment_Flat  \n",
              "0                           1  \n",
              "1                           1  \n",
              "2                           1  \n",
              "3                           1  \n",
              "4                           1  \n",
              "...                       ...  \n",
              "34647                       1  \n",
              "34648                       1  \n",
              "34649                       1  \n",
              "34650                       1  \n",
              "34651                       1  \n",
              "\n",
              "[34652 rows x 106 columns]"
            ],
            "text/html": [
              "\n",
              "  <div id=\"df-32c10533-6e23-4213-b9b2-6487571353ae\" class=\"colab-df-container\">\n",
              "    <div>\n",
              "<style scoped>\n",
              "    .dataframe tbody tr th:only-of-type {\n",
              "        vertical-align: middle;\n",
              "    }\n",
              "\n",
              "    .dataframe tbody tr th {\n",
              "        vertical-align: top;\n",
              "    }\n",
              "\n",
              "    .dataframe thead th {\n",
              "        text-align: right;\n",
              "    }\n",
              "</style>\n",
              "<table border=\"1\" class=\"dataframe\">\n",
              "  <thead>\n",
              "    <tr style=\"text-align: right;\">\n",
              "      <th></th>\n",
              "      <th>Price (in rupees)</th>\n",
              "      <th>Bathroom</th>\n",
              "      <th>Balcony</th>\n",
              "      <th>Rooms_count</th>\n",
              "      <th>Amount</th>\n",
              "      <th>Carpet_area</th>\n",
              "      <th>Floor</th>\n",
              "      <th>Floors</th>\n",
              "      <th>location_ahmadnagar</th>\n",
              "      <th>location_ahmedabad</th>\n",
              "      <th>...</th>\n",
              "      <th>facing_South</th>\n",
              "      <th>facing_South - East</th>\n",
              "      <th>facing_South -West</th>\n",
              "      <th>facing_West</th>\n",
              "      <th>Ownership_Freehold</th>\n",
              "      <th>Ownership_Leasehold</th>\n",
              "      <th>Ownership_Power Of Attorney</th>\n",
              "      <th>Flat_or_Apartment_ Builder Floor</th>\n",
              "      <th>Flat_or_Apartment_ Studio Apartment</th>\n",
              "      <th>Flat_or_Apartment_Flat</th>\n",
              "    </tr>\n",
              "  </thead>\n",
              "  <tbody>\n",
              "    <tr>\n",
              "      <th>0</th>\n",
              "      <td>6173.0</td>\n",
              "      <td>2.0</td>\n",
              "      <td>0</td>\n",
              "      <td>2.0</td>\n",
              "      <td>67.9</td>\n",
              "      <td>0.0</td>\n",
              "      <td>2.0</td>\n",
              "      <td>5.0</td>\n",
              "      <td>0</td>\n",
              "      <td>0</td>\n",
              "      <td>...</td>\n",
              "      <td>0</td>\n",
              "      <td>0</td>\n",
              "      <td>0</td>\n",
              "      <td>0</td>\n",
              "      <td>0</td>\n",
              "      <td>0</td>\n",
              "      <td>0</td>\n",
              "      <td>0</td>\n",
              "      <td>0</td>\n",
              "      <td>1</td>\n",
              "    </tr>\n",
              "    <tr>\n",
              "      <th>1</th>\n",
              "      <td>9695.0</td>\n",
              "      <td>3.0</td>\n",
              "      <td>3</td>\n",
              "      <td>3.0</td>\n",
              "      <td>175.0</td>\n",
              "      <td>1605.0</td>\n",
              "      <td>5.0</td>\n",
              "      <td>11.0</td>\n",
              "      <td>0</td>\n",
              "      <td>0</td>\n",
              "      <td>...</td>\n",
              "      <td>0</td>\n",
              "      <td>0</td>\n",
              "      <td>0</td>\n",
              "      <td>0</td>\n",
              "      <td>0</td>\n",
              "      <td>0</td>\n",
              "      <td>0</td>\n",
              "      <td>0</td>\n",
              "      <td>0</td>\n",
              "      <td>1</td>\n",
              "    </tr>\n",
              "    <tr>\n",
              "      <th>2</th>\n",
              "      <td>7588.0</td>\n",
              "      <td>3.0</td>\n",
              "      <td>3</td>\n",
              "      <td>3.0</td>\n",
              "      <td>195.0</td>\n",
              "      <td>0.0</td>\n",
              "      <td>1.0</td>\n",
              "      <td>18.0</td>\n",
              "      <td>0</td>\n",
              "      <td>0</td>\n",
              "      <td>...</td>\n",
              "      <td>0</td>\n",
              "      <td>0</td>\n",
              "      <td>0</td>\n",
              "      <td>0</td>\n",
              "      <td>1</td>\n",
              "      <td>0</td>\n",
              "      <td>0</td>\n",
              "      <td>0</td>\n",
              "      <td>0</td>\n",
              "      <td>1</td>\n",
              "    </tr>\n",
              "    <tr>\n",
              "      <th>3</th>\n",
              "      <td>8033.0</td>\n",
              "      <td>2.0</td>\n",
              "      <td>0</td>\n",
              "      <td>2.0</td>\n",
              "      <td>116.0</td>\n",
              "      <td>0.0</td>\n",
              "      <td>9.0</td>\n",
              "      <td>9.0</td>\n",
              "      <td>0</td>\n",
              "      <td>0</td>\n",
              "      <td>...</td>\n",
              "      <td>0</td>\n",
              "      <td>0</td>\n",
              "      <td>0</td>\n",
              "      <td>0</td>\n",
              "      <td>0</td>\n",
              "      <td>0</td>\n",
              "      <td>0</td>\n",
              "      <td>0</td>\n",
              "      <td>0</td>\n",
              "      <td>1</td>\n",
              "    </tr>\n",
              "    <tr>\n",
              "      <th>4</th>\n",
              "      <td>3877.0</td>\n",
              "      <td>3.0</td>\n",
              "      <td>3</td>\n",
              "      <td>3.0</td>\n",
              "      <td>63.0</td>\n",
              "      <td>1435.0</td>\n",
              "      <td>3.0</td>\n",
              "      <td>6.0</td>\n",
              "      <td>0</td>\n",
              "      <td>0</td>\n",
              "      <td>...</td>\n",
              "      <td>0</td>\n",
              "      <td>0</td>\n",
              "      <td>0</td>\n",
              "      <td>0</td>\n",
              "      <td>1</td>\n",
              "      <td>0</td>\n",
              "      <td>0</td>\n",
              "      <td>0</td>\n",
              "      <td>0</td>\n",
              "      <td>1</td>\n",
              "    </tr>\n",
              "    <tr>\n",
              "      <th>...</th>\n",
              "      <td>...</td>\n",
              "      <td>...</td>\n",
              "      <td>...</td>\n",
              "      <td>...</td>\n",
              "      <td>...</td>\n",
              "      <td>...</td>\n",
              "      <td>...</td>\n",
              "      <td>...</td>\n",
              "      <td>...</td>\n",
              "      <td>...</td>\n",
              "      <td>...</td>\n",
              "      <td>...</td>\n",
              "      <td>...</td>\n",
              "      <td>...</td>\n",
              "      <td>...</td>\n",
              "      <td>...</td>\n",
              "      <td>...</td>\n",
              "      <td>...</td>\n",
              "      <td>...</td>\n",
              "      <td>...</td>\n",
              "      <td>...</td>\n",
              "    </tr>\n",
              "    <tr>\n",
              "      <th>34647</th>\n",
              "      <td>NaN</td>\n",
              "      <td>3.0</td>\n",
              "      <td>3</td>\n",
              "      <td>3.0</td>\n",
              "      <td>NaN</td>\n",
              "      <td>1450.0</td>\n",
              "      <td>3.0</td>\n",
              "      <td>9.0</td>\n",
              "      <td>0</td>\n",
              "      <td>0</td>\n",
              "      <td>...</td>\n",
              "      <td>0</td>\n",
              "      <td>0</td>\n",
              "      <td>0</td>\n",
              "      <td>0</td>\n",
              "      <td>1</td>\n",
              "      <td>0</td>\n",
              "      <td>0</td>\n",
              "      <td>0</td>\n",
              "      <td>0</td>\n",
              "      <td>1</td>\n",
              "    </tr>\n",
              "    <tr>\n",
              "      <th>34648</th>\n",
              "      <td>NaN</td>\n",
              "      <td>3.0</td>\n",
              "      <td>2</td>\n",
              "      <td>3.0</td>\n",
              "      <td>NaN</td>\n",
              "      <td>1200.0</td>\n",
              "      <td>2.0</td>\n",
              "      <td>4.0</td>\n",
              "      <td>0</td>\n",
              "      <td>0</td>\n",
              "      <td>...</td>\n",
              "      <td>0</td>\n",
              "      <td>0</td>\n",
              "      <td>0</td>\n",
              "      <td>0</td>\n",
              "      <td>1</td>\n",
              "      <td>0</td>\n",
              "      <td>0</td>\n",
              "      <td>0</td>\n",
              "      <td>0</td>\n",
              "      <td>1</td>\n",
              "    </tr>\n",
              "    <tr>\n",
              "      <th>34649</th>\n",
              "      <td>NaN</td>\n",
              "      <td>3.0</td>\n",
              "      <td>2</td>\n",
              "      <td>3.0</td>\n",
              "      <td>NaN</td>\n",
              "      <td>990.0</td>\n",
              "      <td>4.0</td>\n",
              "      <td>5.0</td>\n",
              "      <td>0</td>\n",
              "      <td>0</td>\n",
              "      <td>...</td>\n",
              "      <td>0</td>\n",
              "      <td>0</td>\n",
              "      <td>0</td>\n",
              "      <td>0</td>\n",
              "      <td>0</td>\n",
              "      <td>0</td>\n",
              "      <td>0</td>\n",
              "      <td>0</td>\n",
              "      <td>0</td>\n",
              "      <td>1</td>\n",
              "    </tr>\n",
              "    <tr>\n",
              "      <th>34650</th>\n",
              "      <td>NaN</td>\n",
              "      <td>4.0</td>\n",
              "      <td>4</td>\n",
              "      <td>4.0</td>\n",
              "      <td>NaN</td>\n",
              "      <td>2500.0</td>\n",
              "      <td>6.0</td>\n",
              "      <td>7.0</td>\n",
              "      <td>0</td>\n",
              "      <td>0</td>\n",
              "      <td>...</td>\n",
              "      <td>0</td>\n",
              "      <td>0</td>\n",
              "      <td>0</td>\n",
              "      <td>0</td>\n",
              "      <td>1</td>\n",
              "      <td>0</td>\n",
              "      <td>0</td>\n",
              "      <td>0</td>\n",
              "      <td>0</td>\n",
              "      <td>1</td>\n",
              "    </tr>\n",
              "    <tr>\n",
              "      <th>34651</th>\n",
              "      <td>NaN</td>\n",
              "      <td>NaN</td>\n",
              "      <td>0</td>\n",
              "      <td>3.0</td>\n",
              "      <td>NaN</td>\n",
              "      <td>1200.0</td>\n",
              "      <td>3.0</td>\n",
              "      <td>3.0</td>\n",
              "      <td>0</td>\n",
              "      <td>0</td>\n",
              "      <td>...</td>\n",
              "      <td>0</td>\n",
              "      <td>0</td>\n",
              "      <td>0</td>\n",
              "      <td>0</td>\n",
              "      <td>0</td>\n",
              "      <td>0</td>\n",
              "      <td>0</td>\n",
              "      <td>0</td>\n",
              "      <td>0</td>\n",
              "      <td>1</td>\n",
              "    </tr>\n",
              "  </tbody>\n",
              "</table>\n",
              "<p>34652 rows × 106 columns</p>\n",
              "</div>\n",
              "    <div class=\"colab-df-buttons\">\n",
              "\n",
              "  <div class=\"colab-df-container\">\n",
              "    <button class=\"colab-df-convert\" onclick=\"convertToInteractive('df-32c10533-6e23-4213-b9b2-6487571353ae')\"\n",
              "            title=\"Convert this dataframe to an interactive table.\"\n",
              "            style=\"display:none;\">\n",
              "\n",
              "  <svg xmlns=\"http://www.w3.org/2000/svg\" height=\"24px\" viewBox=\"0 -960 960 960\">\n",
              "    <path d=\"M120-120v-720h720v720H120Zm60-500h600v-160H180v160Zm220 220h160v-160H400v160Zm0 220h160v-160H400v160ZM180-400h160v-160H180v160Zm440 0h160v-160H620v160ZM180-180h160v-160H180v160Zm440 0h160v-160H620v160Z\"/>\n",
              "  </svg>\n",
              "    </button>\n",
              "\n",
              "  <style>\n",
              "    .colab-df-container {\n",
              "      display:flex;\n",
              "      gap: 12px;\n",
              "    }\n",
              "\n",
              "    .colab-df-convert {\n",
              "      background-color: #E8F0FE;\n",
              "      border: none;\n",
              "      border-radius: 50%;\n",
              "      cursor: pointer;\n",
              "      display: none;\n",
              "      fill: #1967D2;\n",
              "      height: 32px;\n",
              "      padding: 0 0 0 0;\n",
              "      width: 32px;\n",
              "    }\n",
              "\n",
              "    .colab-df-convert:hover {\n",
              "      background-color: #E2EBFA;\n",
              "      box-shadow: 0px 1px 2px rgba(60, 64, 67, 0.3), 0px 1px 3px 1px rgba(60, 64, 67, 0.15);\n",
              "      fill: #174EA6;\n",
              "    }\n",
              "\n",
              "    .colab-df-buttons div {\n",
              "      margin-bottom: 4px;\n",
              "    }\n",
              "\n",
              "    [theme=dark] .colab-df-convert {\n",
              "      background-color: #3B4455;\n",
              "      fill: #D2E3FC;\n",
              "    }\n",
              "\n",
              "    [theme=dark] .colab-df-convert:hover {\n",
              "      background-color: #434B5C;\n",
              "      box-shadow: 0px 1px 3px 1px rgba(0, 0, 0, 0.15);\n",
              "      filter: drop-shadow(0px 1px 2px rgba(0, 0, 0, 0.3));\n",
              "      fill: #FFFFFF;\n",
              "    }\n",
              "  </style>\n",
              "\n",
              "    <script>\n",
              "      const buttonEl =\n",
              "        document.querySelector('#df-32c10533-6e23-4213-b9b2-6487571353ae button.colab-df-convert');\n",
              "      buttonEl.style.display =\n",
              "        google.colab.kernel.accessAllowed ? 'block' : 'none';\n",
              "\n",
              "      async function convertToInteractive(key) {\n",
              "        const element = document.querySelector('#df-32c10533-6e23-4213-b9b2-6487571353ae');\n",
              "        const dataTable =\n",
              "          await google.colab.kernel.invokeFunction('convertToInteractive',\n",
              "                                                    [key], {});\n",
              "        if (!dataTable) return;\n",
              "\n",
              "        const docLinkHtml = 'Like what you see? Visit the ' +\n",
              "          '<a target=\"_blank\" href=https://colab.research.google.com/notebooks/data_table.ipynb>data table notebook</a>'\n",
              "          + ' to learn more about interactive tables.';\n",
              "        element.innerHTML = '';\n",
              "        dataTable['output_type'] = 'display_data';\n",
              "        await google.colab.output.renderOutput(dataTable, element);\n",
              "        const docLink = document.createElement('div');\n",
              "        docLink.innerHTML = docLinkHtml;\n",
              "        element.appendChild(docLink);\n",
              "      }\n",
              "    </script>\n",
              "  </div>\n",
              "\n",
              "\n",
              "<div id=\"df-f62ad246-6e3a-407d-ac0c-818b065bea41\">\n",
              "  <button class=\"colab-df-quickchart\" onclick=\"quickchart('df-f62ad246-6e3a-407d-ac0c-818b065bea41')\"\n",
              "            title=\"Suggest charts.\"\n",
              "            style=\"display:none;\">\n",
              "\n",
              "<svg xmlns=\"http://www.w3.org/2000/svg\" height=\"24px\"viewBox=\"0 0 24 24\"\n",
              "     width=\"24px\">\n",
              "    <g>\n",
              "        <path d=\"M19 3H5c-1.1 0-2 .9-2 2v14c0 1.1.9 2 2 2h14c1.1 0 2-.9 2-2V5c0-1.1-.9-2-2-2zM9 17H7v-7h2v7zm4 0h-2V7h2v10zm4 0h-2v-4h2v4z\"/>\n",
              "    </g>\n",
              "</svg>\n",
              "  </button>\n",
              "\n",
              "<style>\n",
              "  .colab-df-quickchart {\n",
              "      --bg-color: #E8F0FE;\n",
              "      --fill-color: #1967D2;\n",
              "      --hover-bg-color: #E2EBFA;\n",
              "      --hover-fill-color: #174EA6;\n",
              "      --disabled-fill-color: #AAA;\n",
              "      --disabled-bg-color: #DDD;\n",
              "  }\n",
              "\n",
              "  [theme=dark] .colab-df-quickchart {\n",
              "      --bg-color: #3B4455;\n",
              "      --fill-color: #D2E3FC;\n",
              "      --hover-bg-color: #434B5C;\n",
              "      --hover-fill-color: #FFFFFF;\n",
              "      --disabled-bg-color: #3B4455;\n",
              "      --disabled-fill-color: #666;\n",
              "  }\n",
              "\n",
              "  .colab-df-quickchart {\n",
              "    background-color: var(--bg-color);\n",
              "    border: none;\n",
              "    border-radius: 50%;\n",
              "    cursor: pointer;\n",
              "    display: none;\n",
              "    fill: var(--fill-color);\n",
              "    height: 32px;\n",
              "    padding: 0;\n",
              "    width: 32px;\n",
              "  }\n",
              "\n",
              "  .colab-df-quickchart:hover {\n",
              "    background-color: var(--hover-bg-color);\n",
              "    box-shadow: 0 1px 2px rgba(60, 64, 67, 0.3), 0 1px 3px 1px rgba(60, 64, 67, 0.15);\n",
              "    fill: var(--button-hover-fill-color);\n",
              "  }\n",
              "\n",
              "  .colab-df-quickchart-complete:disabled,\n",
              "  .colab-df-quickchart-complete:disabled:hover {\n",
              "    background-color: var(--disabled-bg-color);\n",
              "    fill: var(--disabled-fill-color);\n",
              "    box-shadow: none;\n",
              "  }\n",
              "\n",
              "  .colab-df-spinner {\n",
              "    border: 2px solid var(--fill-color);\n",
              "    border-color: transparent;\n",
              "    border-bottom-color: var(--fill-color);\n",
              "    animation:\n",
              "      spin 1s steps(1) infinite;\n",
              "  }\n",
              "\n",
              "  @keyframes spin {\n",
              "    0% {\n",
              "      border-color: transparent;\n",
              "      border-bottom-color: var(--fill-color);\n",
              "      border-left-color: var(--fill-color);\n",
              "    }\n",
              "    20% {\n",
              "      border-color: transparent;\n",
              "      border-left-color: var(--fill-color);\n",
              "      border-top-color: var(--fill-color);\n",
              "    }\n",
              "    30% {\n",
              "      border-color: transparent;\n",
              "      border-left-color: var(--fill-color);\n",
              "      border-top-color: var(--fill-color);\n",
              "      border-right-color: var(--fill-color);\n",
              "    }\n",
              "    40% {\n",
              "      border-color: transparent;\n",
              "      border-right-color: var(--fill-color);\n",
              "      border-top-color: var(--fill-color);\n",
              "    }\n",
              "    60% {\n",
              "      border-color: transparent;\n",
              "      border-right-color: var(--fill-color);\n",
              "    }\n",
              "    80% {\n",
              "      border-color: transparent;\n",
              "      border-right-color: var(--fill-color);\n",
              "      border-bottom-color: var(--fill-color);\n",
              "    }\n",
              "    90% {\n",
              "      border-color: transparent;\n",
              "      border-bottom-color: var(--fill-color);\n",
              "    }\n",
              "  }\n",
              "</style>\n",
              "\n",
              "  <script>\n",
              "    async function quickchart(key) {\n",
              "      const quickchartButtonEl =\n",
              "        document.querySelector('#' + key + ' button');\n",
              "      quickchartButtonEl.disabled = true;  // To prevent multiple clicks.\n",
              "      quickchartButtonEl.classList.add('colab-df-spinner');\n",
              "      try {\n",
              "        const charts = await google.colab.kernel.invokeFunction(\n",
              "            'suggestCharts', [key], {});\n",
              "      } catch (error) {\n",
              "        console.error('Error during call to suggestCharts:', error);\n",
              "      }\n",
              "      quickchartButtonEl.classList.remove('colab-df-spinner');\n",
              "      quickchartButtonEl.classList.add('colab-df-quickchart-complete');\n",
              "    }\n",
              "    (() => {\n",
              "      let quickchartButtonEl =\n",
              "        document.querySelector('#df-f62ad246-6e3a-407d-ac0c-818b065bea41 button');\n",
              "      quickchartButtonEl.style.display =\n",
              "        google.colab.kernel.accessAllowed ? 'block' : 'none';\n",
              "    })();\n",
              "  </script>\n",
              "</div>\n",
              "    </div>\n",
              "  </div>\n"
            ]
          },
          "metadata": {},
          "execution_count": 179
        }
      ],
      "source": [
        "df_g"
      ]
    },
    {
      "cell_type": "markdown",
      "id": "f23727eb",
      "metadata": {
        "id": "f23727eb"
      },
      "source": [
        "# Fill in the gaps"
      ]
    },
    {
      "cell_type": "code",
      "execution_count": 180,
      "id": "110dacfa",
      "metadata": {
        "colab": {
          "base_uri": "https://localhost:8080/"
        },
        "id": "110dacfa",
        "outputId": "0a16db59-7fa8-4c12-817d-a08896960404"
      },
      "outputs": [
        {
          "output_type": "execute_result",
          "data": {
            "text/plain": [
              "Price (in rupees)    17665\n",
              "location                 0\n",
              "Status                   0\n",
              "Transaction              0\n",
              "Furnishing               0\n",
              "facing               14294\n",
              "Bathroom               150\n",
              "Balcony                  0\n",
              "Ownership            13091\n",
              "Flat_or_Apartment        0\n",
              "Rooms_count            663\n",
              "Amount                9684\n",
              "Carpet_area              0\n",
              "Floor                  915\n",
              "Floors                 931\n",
              "dtype: int64"
            ]
          },
          "metadata": {},
          "execution_count": 180
        }
      ],
      "source": [
        "df.isna().sum()"
      ]
    },
    {
      "cell_type": "code",
      "execution_count": 181,
      "id": "e6bb6403",
      "metadata": {
        "colab": {
          "base_uri": "https://localhost:8080/"
        },
        "id": "e6bb6403",
        "outputId": "b16c7a29-57b5-4397-aeca-42fe7df5edb4"
      },
      "outputs": [
        {
          "output_type": "stream",
          "name": "stdout",
          "text": [
            "135.02 sec\n"
          ]
        }
      ],
      "source": [
        "start_time = process_time()\n",
        "\n",
        "imp = IterativeImputer(max_iter=15, random_state=0)\n",
        "imp.fit(df_g.iloc[:,1:].values)\n",
        "df_g_it = imp.transform(df_g.iloc[:,1:].values)\n",
        "\n",
        "finish_time = process_time()\n",
        "time = finish_time - start_time\n",
        "print(round(time, 2), 'sec')"
      ]
    },
    {
      "cell_type": "code",
      "execution_count": 182,
      "id": "004d09f9",
      "metadata": {
        "colab": {
          "base_uri": "https://localhost:8080/"
        },
        "id": "004d09f9",
        "outputId": "108b5aa8-bca0-48e4-bbd3-9ee2cd8d0614"
      },
      "outputs": [
        {
          "output_type": "execute_result",
          "data": {
            "text/plain": [
              "array([[2.        , 0.        , 2.        , ..., 0.        , 0.        ,\n",
              "        1.        ],\n",
              "       [3.        , 3.        , 3.        , ..., 0.        , 0.        ,\n",
              "        1.        ],\n",
              "       [3.        , 3.        , 3.        , ..., 0.        , 0.        ,\n",
              "        1.        ],\n",
              "       ...,\n",
              "       [3.        , 2.        , 3.        , ..., 0.        , 0.        ,\n",
              "        1.        ],\n",
              "       [4.        , 4.        , 4.        , ..., 0.        , 0.        ,\n",
              "        1.        ],\n",
              "       [2.78309456, 0.        , 3.        , ..., 0.        , 0.        ,\n",
              "        1.        ]])"
            ]
          },
          "metadata": {},
          "execution_count": 182
        }
      ],
      "source": [
        "df_g_it"
      ]
    },
    {
      "cell_type": "code",
      "execution_count": 183,
      "id": "a2c0dc8d",
      "metadata": {
        "id": "a2c0dc8d"
      },
      "outputs": [],
      "source": [
        "df2 = df_g_it"
      ]
    },
    {
      "cell_type": "code",
      "execution_count": 184,
      "id": "1f698311",
      "metadata": {
        "colab": {
          "base_uri": "https://localhost:8080/",
          "height": 0
        },
        "id": "1f698311",
        "outputId": "0a8068f0-e42a-4d48-d005-46cd09d752ca"
      },
      "outputs": [
        {
          "output_type": "execute_result",
          "data": {
            "text/plain": [
              "   Bathroom  Balcony  Rooms_count  Amount  Carpet_area  Floor  Floors  \\\n",
              "0       2.0      0.0          2.0    67.9          0.0    2.0     5.0   \n",
              "1       3.0      3.0          3.0   175.0       1605.0    5.0    11.0   \n",
              "2       3.0      3.0          3.0   195.0          0.0    1.0    18.0   \n",
              "3       2.0      0.0          2.0   116.0          0.0    9.0     9.0   \n",
              "4       3.0      3.0          3.0    63.0       1435.0    3.0     6.0   \n",
              "\n",
              "   location_ahmadnagar  location_ahmedabad  location_allahabad  ...  \\\n",
              "0                  0.0                 0.0                 0.0  ...   \n",
              "1                  0.0                 0.0                 0.0  ...   \n",
              "2                  0.0                 0.0                 0.0  ...   \n",
              "3                  0.0                 0.0                 0.0  ...   \n",
              "4                  0.0                 0.0                 0.0  ...   \n",
              "\n",
              "   facing_South - East  facing_South -West  facing_West  Ownership_Freehold  \\\n",
              "0                  0.0                 0.0          0.0                 0.0   \n",
              "1                  0.0                 0.0          0.0                 0.0   \n",
              "2                  0.0                 0.0          0.0                 1.0   \n",
              "3                  0.0                 0.0          0.0                 0.0   \n",
              "4                  0.0                 0.0          0.0                 1.0   \n",
              "\n",
              "   Ownership_Leasehold  Ownership_Power Of Attorney  \\\n",
              "0                  0.0                          0.0   \n",
              "1                  0.0                          0.0   \n",
              "2                  0.0                          0.0   \n",
              "3                  0.0                          0.0   \n",
              "4                  0.0                          0.0   \n",
              "\n",
              "   Flat_or_Apartment_ Builder Floor  Flat_or_Apartment_ Studio Apartment  \\\n",
              "0                               0.0                                  0.0   \n",
              "1                               0.0                                  0.0   \n",
              "2                               0.0                                  0.0   \n",
              "3                               0.0                                  0.0   \n",
              "4                               0.0                                  0.0   \n",
              "\n",
              "   Flat_or_Apartment_Flat   Price  \n",
              "0                     1.0  6173.0  \n",
              "1                     1.0  9695.0  \n",
              "2                     1.0  7588.0  \n",
              "3                     1.0  8033.0  \n",
              "4                     1.0  3877.0  \n",
              "\n",
              "[5 rows x 106 columns]"
            ],
            "text/html": [
              "\n",
              "  <div id=\"df-476c0cd2-be3a-49aa-b923-248f538174e3\" class=\"colab-df-container\">\n",
              "    <div>\n",
              "<style scoped>\n",
              "    .dataframe tbody tr th:only-of-type {\n",
              "        vertical-align: middle;\n",
              "    }\n",
              "\n",
              "    .dataframe tbody tr th {\n",
              "        vertical-align: top;\n",
              "    }\n",
              "\n",
              "    .dataframe thead th {\n",
              "        text-align: right;\n",
              "    }\n",
              "</style>\n",
              "<table border=\"1\" class=\"dataframe\">\n",
              "  <thead>\n",
              "    <tr style=\"text-align: right;\">\n",
              "      <th></th>\n",
              "      <th>Bathroom</th>\n",
              "      <th>Balcony</th>\n",
              "      <th>Rooms_count</th>\n",
              "      <th>Amount</th>\n",
              "      <th>Carpet_area</th>\n",
              "      <th>Floor</th>\n",
              "      <th>Floors</th>\n",
              "      <th>location_ahmadnagar</th>\n",
              "      <th>location_ahmedabad</th>\n",
              "      <th>location_allahabad</th>\n",
              "      <th>...</th>\n",
              "      <th>facing_South - East</th>\n",
              "      <th>facing_South -West</th>\n",
              "      <th>facing_West</th>\n",
              "      <th>Ownership_Freehold</th>\n",
              "      <th>Ownership_Leasehold</th>\n",
              "      <th>Ownership_Power Of Attorney</th>\n",
              "      <th>Flat_or_Apartment_ Builder Floor</th>\n",
              "      <th>Flat_or_Apartment_ Studio Apartment</th>\n",
              "      <th>Flat_or_Apartment_Flat</th>\n",
              "      <th>Price</th>\n",
              "    </tr>\n",
              "  </thead>\n",
              "  <tbody>\n",
              "    <tr>\n",
              "      <th>0</th>\n",
              "      <td>2.0</td>\n",
              "      <td>0.0</td>\n",
              "      <td>2.0</td>\n",
              "      <td>67.9</td>\n",
              "      <td>0.0</td>\n",
              "      <td>2.0</td>\n",
              "      <td>5.0</td>\n",
              "      <td>0.0</td>\n",
              "      <td>0.0</td>\n",
              "      <td>0.0</td>\n",
              "      <td>...</td>\n",
              "      <td>0.0</td>\n",
              "      <td>0.0</td>\n",
              "      <td>0.0</td>\n",
              "      <td>0.0</td>\n",
              "      <td>0.0</td>\n",
              "      <td>0.0</td>\n",
              "      <td>0.0</td>\n",
              "      <td>0.0</td>\n",
              "      <td>1.0</td>\n",
              "      <td>6173.0</td>\n",
              "    </tr>\n",
              "    <tr>\n",
              "      <th>1</th>\n",
              "      <td>3.0</td>\n",
              "      <td>3.0</td>\n",
              "      <td>3.0</td>\n",
              "      <td>175.0</td>\n",
              "      <td>1605.0</td>\n",
              "      <td>5.0</td>\n",
              "      <td>11.0</td>\n",
              "      <td>0.0</td>\n",
              "      <td>0.0</td>\n",
              "      <td>0.0</td>\n",
              "      <td>...</td>\n",
              "      <td>0.0</td>\n",
              "      <td>0.0</td>\n",
              "      <td>0.0</td>\n",
              "      <td>0.0</td>\n",
              "      <td>0.0</td>\n",
              "      <td>0.0</td>\n",
              "      <td>0.0</td>\n",
              "      <td>0.0</td>\n",
              "      <td>1.0</td>\n",
              "      <td>9695.0</td>\n",
              "    </tr>\n",
              "    <tr>\n",
              "      <th>2</th>\n",
              "      <td>3.0</td>\n",
              "      <td>3.0</td>\n",
              "      <td>3.0</td>\n",
              "      <td>195.0</td>\n",
              "      <td>0.0</td>\n",
              "      <td>1.0</td>\n",
              "      <td>18.0</td>\n",
              "      <td>0.0</td>\n",
              "      <td>0.0</td>\n",
              "      <td>0.0</td>\n",
              "      <td>...</td>\n",
              "      <td>0.0</td>\n",
              "      <td>0.0</td>\n",
              "      <td>0.0</td>\n",
              "      <td>1.0</td>\n",
              "      <td>0.0</td>\n",
              "      <td>0.0</td>\n",
              "      <td>0.0</td>\n",
              "      <td>0.0</td>\n",
              "      <td>1.0</td>\n",
              "      <td>7588.0</td>\n",
              "    </tr>\n",
              "    <tr>\n",
              "      <th>3</th>\n",
              "      <td>2.0</td>\n",
              "      <td>0.0</td>\n",
              "      <td>2.0</td>\n",
              "      <td>116.0</td>\n",
              "      <td>0.0</td>\n",
              "      <td>9.0</td>\n",
              "      <td>9.0</td>\n",
              "      <td>0.0</td>\n",
              "      <td>0.0</td>\n",
              "      <td>0.0</td>\n",
              "      <td>...</td>\n",
              "      <td>0.0</td>\n",
              "      <td>0.0</td>\n",
              "      <td>0.0</td>\n",
              "      <td>0.0</td>\n",
              "      <td>0.0</td>\n",
              "      <td>0.0</td>\n",
              "      <td>0.0</td>\n",
              "      <td>0.0</td>\n",
              "      <td>1.0</td>\n",
              "      <td>8033.0</td>\n",
              "    </tr>\n",
              "    <tr>\n",
              "      <th>4</th>\n",
              "      <td>3.0</td>\n",
              "      <td>3.0</td>\n",
              "      <td>3.0</td>\n",
              "      <td>63.0</td>\n",
              "      <td>1435.0</td>\n",
              "      <td>3.0</td>\n",
              "      <td>6.0</td>\n",
              "      <td>0.0</td>\n",
              "      <td>0.0</td>\n",
              "      <td>0.0</td>\n",
              "      <td>...</td>\n",
              "      <td>0.0</td>\n",
              "      <td>0.0</td>\n",
              "      <td>0.0</td>\n",
              "      <td>1.0</td>\n",
              "      <td>0.0</td>\n",
              "      <td>0.0</td>\n",
              "      <td>0.0</td>\n",
              "      <td>0.0</td>\n",
              "      <td>1.0</td>\n",
              "      <td>3877.0</td>\n",
              "    </tr>\n",
              "  </tbody>\n",
              "</table>\n",
              "<p>5 rows × 106 columns</p>\n",
              "</div>\n",
              "    <div class=\"colab-df-buttons\">\n",
              "\n",
              "  <div class=\"colab-df-container\">\n",
              "    <button class=\"colab-df-convert\" onclick=\"convertToInteractive('df-476c0cd2-be3a-49aa-b923-248f538174e3')\"\n",
              "            title=\"Convert this dataframe to an interactive table.\"\n",
              "            style=\"display:none;\">\n",
              "\n",
              "  <svg xmlns=\"http://www.w3.org/2000/svg\" height=\"24px\" viewBox=\"0 -960 960 960\">\n",
              "    <path d=\"M120-120v-720h720v720H120Zm60-500h600v-160H180v160Zm220 220h160v-160H400v160Zm0 220h160v-160H400v160ZM180-400h160v-160H180v160Zm440 0h160v-160H620v160ZM180-180h160v-160H180v160Zm440 0h160v-160H620v160Z\"/>\n",
              "  </svg>\n",
              "    </button>\n",
              "\n",
              "  <style>\n",
              "    .colab-df-container {\n",
              "      display:flex;\n",
              "      gap: 12px;\n",
              "    }\n",
              "\n",
              "    .colab-df-convert {\n",
              "      background-color: #E8F0FE;\n",
              "      border: none;\n",
              "      border-radius: 50%;\n",
              "      cursor: pointer;\n",
              "      display: none;\n",
              "      fill: #1967D2;\n",
              "      height: 32px;\n",
              "      padding: 0 0 0 0;\n",
              "      width: 32px;\n",
              "    }\n",
              "\n",
              "    .colab-df-convert:hover {\n",
              "      background-color: #E2EBFA;\n",
              "      box-shadow: 0px 1px 2px rgba(60, 64, 67, 0.3), 0px 1px 3px 1px rgba(60, 64, 67, 0.15);\n",
              "      fill: #174EA6;\n",
              "    }\n",
              "\n",
              "    .colab-df-buttons div {\n",
              "      margin-bottom: 4px;\n",
              "    }\n",
              "\n",
              "    [theme=dark] .colab-df-convert {\n",
              "      background-color: #3B4455;\n",
              "      fill: #D2E3FC;\n",
              "    }\n",
              "\n",
              "    [theme=dark] .colab-df-convert:hover {\n",
              "      background-color: #434B5C;\n",
              "      box-shadow: 0px 1px 3px 1px rgba(0, 0, 0, 0.15);\n",
              "      filter: drop-shadow(0px 1px 2px rgba(0, 0, 0, 0.3));\n",
              "      fill: #FFFFFF;\n",
              "    }\n",
              "  </style>\n",
              "\n",
              "    <script>\n",
              "      const buttonEl =\n",
              "        document.querySelector('#df-476c0cd2-be3a-49aa-b923-248f538174e3 button.colab-df-convert');\n",
              "      buttonEl.style.display =\n",
              "        google.colab.kernel.accessAllowed ? 'block' : 'none';\n",
              "\n",
              "      async function convertToInteractive(key) {\n",
              "        const element = document.querySelector('#df-476c0cd2-be3a-49aa-b923-248f538174e3');\n",
              "        const dataTable =\n",
              "          await google.colab.kernel.invokeFunction('convertToInteractive',\n",
              "                                                    [key], {});\n",
              "        if (!dataTable) return;\n",
              "\n",
              "        const docLinkHtml = 'Like what you see? Visit the ' +\n",
              "          '<a target=\"_blank\" href=https://colab.research.google.com/notebooks/data_table.ipynb>data table notebook</a>'\n",
              "          + ' to learn more about interactive tables.';\n",
              "        element.innerHTML = '';\n",
              "        dataTable['output_type'] = 'display_data';\n",
              "        await google.colab.output.renderOutput(dataTable, element);\n",
              "        const docLink = document.createElement('div');\n",
              "        docLink.innerHTML = docLinkHtml;\n",
              "        element.appendChild(docLink);\n",
              "      }\n",
              "    </script>\n",
              "  </div>\n",
              "\n",
              "\n",
              "<div id=\"df-0cd50b98-cbac-4829-8848-4b06ba5a2e1c\">\n",
              "  <button class=\"colab-df-quickchart\" onclick=\"quickchart('df-0cd50b98-cbac-4829-8848-4b06ba5a2e1c')\"\n",
              "            title=\"Suggest charts.\"\n",
              "            style=\"display:none;\">\n",
              "\n",
              "<svg xmlns=\"http://www.w3.org/2000/svg\" height=\"24px\"viewBox=\"0 0 24 24\"\n",
              "     width=\"24px\">\n",
              "    <g>\n",
              "        <path d=\"M19 3H5c-1.1 0-2 .9-2 2v14c0 1.1.9 2 2 2h14c1.1 0 2-.9 2-2V5c0-1.1-.9-2-2-2zM9 17H7v-7h2v7zm4 0h-2V7h2v10zm4 0h-2v-4h2v4z\"/>\n",
              "    </g>\n",
              "</svg>\n",
              "  </button>\n",
              "\n",
              "<style>\n",
              "  .colab-df-quickchart {\n",
              "      --bg-color: #E8F0FE;\n",
              "      --fill-color: #1967D2;\n",
              "      --hover-bg-color: #E2EBFA;\n",
              "      --hover-fill-color: #174EA6;\n",
              "      --disabled-fill-color: #AAA;\n",
              "      --disabled-bg-color: #DDD;\n",
              "  }\n",
              "\n",
              "  [theme=dark] .colab-df-quickchart {\n",
              "      --bg-color: #3B4455;\n",
              "      --fill-color: #D2E3FC;\n",
              "      --hover-bg-color: #434B5C;\n",
              "      --hover-fill-color: #FFFFFF;\n",
              "      --disabled-bg-color: #3B4455;\n",
              "      --disabled-fill-color: #666;\n",
              "  }\n",
              "\n",
              "  .colab-df-quickchart {\n",
              "    background-color: var(--bg-color);\n",
              "    border: none;\n",
              "    border-radius: 50%;\n",
              "    cursor: pointer;\n",
              "    display: none;\n",
              "    fill: var(--fill-color);\n",
              "    height: 32px;\n",
              "    padding: 0;\n",
              "    width: 32px;\n",
              "  }\n",
              "\n",
              "  .colab-df-quickchart:hover {\n",
              "    background-color: var(--hover-bg-color);\n",
              "    box-shadow: 0 1px 2px rgba(60, 64, 67, 0.3), 0 1px 3px 1px rgba(60, 64, 67, 0.15);\n",
              "    fill: var(--button-hover-fill-color);\n",
              "  }\n",
              "\n",
              "  .colab-df-quickchart-complete:disabled,\n",
              "  .colab-df-quickchart-complete:disabled:hover {\n",
              "    background-color: var(--disabled-bg-color);\n",
              "    fill: var(--disabled-fill-color);\n",
              "    box-shadow: none;\n",
              "  }\n",
              "\n",
              "  .colab-df-spinner {\n",
              "    border: 2px solid var(--fill-color);\n",
              "    border-color: transparent;\n",
              "    border-bottom-color: var(--fill-color);\n",
              "    animation:\n",
              "      spin 1s steps(1) infinite;\n",
              "  }\n",
              "\n",
              "  @keyframes spin {\n",
              "    0% {\n",
              "      border-color: transparent;\n",
              "      border-bottom-color: var(--fill-color);\n",
              "      border-left-color: var(--fill-color);\n",
              "    }\n",
              "    20% {\n",
              "      border-color: transparent;\n",
              "      border-left-color: var(--fill-color);\n",
              "      border-top-color: var(--fill-color);\n",
              "    }\n",
              "    30% {\n",
              "      border-color: transparent;\n",
              "      border-left-color: var(--fill-color);\n",
              "      border-top-color: var(--fill-color);\n",
              "      border-right-color: var(--fill-color);\n",
              "    }\n",
              "    40% {\n",
              "      border-color: transparent;\n",
              "      border-right-color: var(--fill-color);\n",
              "      border-top-color: var(--fill-color);\n",
              "    }\n",
              "    60% {\n",
              "      border-color: transparent;\n",
              "      border-right-color: var(--fill-color);\n",
              "    }\n",
              "    80% {\n",
              "      border-color: transparent;\n",
              "      border-right-color: var(--fill-color);\n",
              "      border-bottom-color: var(--fill-color);\n",
              "    }\n",
              "    90% {\n",
              "      border-color: transparent;\n",
              "      border-bottom-color: var(--fill-color);\n",
              "    }\n",
              "  }\n",
              "</style>\n",
              "\n",
              "  <script>\n",
              "    async function quickchart(key) {\n",
              "      const quickchartButtonEl =\n",
              "        document.querySelector('#' + key + ' button');\n",
              "      quickchartButtonEl.disabled = true;  // To prevent multiple clicks.\n",
              "      quickchartButtonEl.classList.add('colab-df-spinner');\n",
              "      try {\n",
              "        const charts = await google.colab.kernel.invokeFunction(\n",
              "            'suggestCharts', [key], {});\n",
              "      } catch (error) {\n",
              "        console.error('Error during call to suggestCharts:', error);\n",
              "      }\n",
              "      quickchartButtonEl.classList.remove('colab-df-spinner');\n",
              "      quickchartButtonEl.classList.add('colab-df-quickchart-complete');\n",
              "    }\n",
              "    (() => {\n",
              "      let quickchartButtonEl =\n",
              "        document.querySelector('#df-0cd50b98-cbac-4829-8848-4b06ba5a2e1c button');\n",
              "      quickchartButtonEl.style.display =\n",
              "        google.colab.kernel.accessAllowed ? 'block' : 'none';\n",
              "    })();\n",
              "  </script>\n",
              "</div>\n",
              "    </div>\n",
              "  </div>\n"
            ]
          },
          "metadata": {},
          "execution_count": 184
        }
      ],
      "source": [
        "df3 = pd.DataFrame(data=df2, columns=df_g.iloc[:,1:].columns)\n",
        "df3['Price'] = df_g['Price (in rupees)']\n",
        "\n",
        "df3.head()"
      ]
    },
    {
      "cell_type": "markdown",
      "id": "d6f1f73e",
      "metadata": {
        "id": "d6f1f73e"
      },
      "source": [
        "# Future selection"
      ]
    },
    {
      "cell_type": "code",
      "execution_count": 185,
      "id": "af038a46",
      "metadata": {
        "colab": {
          "base_uri": "https://localhost:8080/",
          "height": 0
        },
        "id": "af038a46",
        "outputId": "ef10d2d1-6eab-4d7c-b8eb-ccea1d3f9e28"
      },
      "outputs": [
        {
          "output_type": "execute_result",
          "data": {
            "text/plain": [
              "<Axes: >"
            ]
          },
          "metadata": {},
          "execution_count": 185
        },
        {
          "output_type": "display_data",
          "data": {
            "text/plain": [
              "<Figure size 1500x1200 with 2 Axes>"
            ],
            "image/png": "[encoded data removed]"
          },
          "metadata": {}
        }
      ],
      "source": [
        "cor = df3.corr()\n",
        "\n",
        "plt.figure(figsize=(15,12))\n",
        "sns.heatmap(cor, xticklabels=False, yticklabels=False, cmap='coolwarm')"
      ]
    },
    {
      "cell_type": "code",
      "execution_count": 186,
      "id": "1129882e",
      "metadata": {
        "id": "1129882e"
      },
      "outputs": [],
      "source": [
        "all_features = list(cor.columns)\n",
        "f_to_del = []\n",
        "\n",
        "for i in cor.columns:\n",
        "    if i == 'Price':\n",
        "        continue\n",
        "    for j in cor.index:\n",
        "        if all_features.index(j) >= all_features.index(i) or j == 'Price':\n",
        "            continue\n",
        "        else:\n",
        "            if abs(cor.loc[i,j]) > 0.8:\n",
        "                if abs(cor.loc['Price', i]) > abs(cor.loc['Price', j]):\n",
        "                    f_to_del.append(j)\n",
        "                else:\n",
        "                    f_to_del.append(i)"
      ]
    },
    {
      "cell_type": "code",
      "execution_count": 187,
      "id": "49508c25",
      "metadata": {
        "colab": {
          "base_uri": "https://localhost:8080/"
        },
        "id": "49508c25",
        "outputId": "2b3be62e-5d0a-4c15-906d-1a86765bb66e"
      },
      "outputs": [
        {
          "output_type": "stream",
          "name": "stdout",
          "text": [
            "2\n"
          ]
        },
        {
          "output_type": "execute_result",
          "data": {
            "text/plain": [
              "{'Flat_or_Apartment_Flat', 'Rooms_count'}"
            ]
          },
          "metadata": {},
          "execution_count": 187
        }
      ],
      "source": [
        "f_to_del = set(f_to_del)\n",
        "print(len(f_to_del))\n",
        "f_to_del"
      ]
    },
    {
      "cell_type": "code",
      "execution_count": 188,
      "id": "8293f6bc",
      "metadata": {
        "id": "8293f6bc"
      },
      "outputs": [],
      "source": [
        "for i in f_to_del:\n",
        "    del df3[i]"
      ]
    },
    {
      "cell_type": "code",
      "execution_count": 189,
      "id": "f1544f0b",
      "metadata": {
        "colab": {
          "base_uri": "https://localhost:8080/"
        },
        "id": "f1544f0b",
        "outputId": "070f9ab4-059a-4793-a7e3-9f821dfbffee"
      },
      "outputs": [
        {
          "output_type": "execute_result",
          "data": {
            "text/plain": [
              "(34652, 104)"
            ]
          },
          "metadata": {},
          "execution_count": 189
        }
      ],
      "source": [
        "df3.shape"
      ]
    },
    {
      "cell_type": "markdown",
      "id": "xZmQywXuIYjX",
      "metadata": {
        "id": "xZmQywXuIYjX"
      },
      "source": [
        "# Text category"
      ]
    },
    {
      "cell_type": "code",
      "execution_count": 190,
      "id": "5L0bNHUiIPhP",
      "metadata": {
        "id": "5L0bNHUiIPhP"
      },
      "outputs": [],
      "source": [
        "import re\n",
        "import nltk\n",
        "from nltk.stem.porter import PorterStemmer\n",
        "from nltk.corpus import stopwords"
      ]
    },
    {
      "cell_type": "code",
      "execution_count": 191,
      "id": "hyDJYotZIDqp",
      "metadata": {
        "id": "hyDJYotZIDqp"
      },
      "outputs": [],
      "source": [
        "def clean_text(text):\n",
        "    text = str(text)\n",
        "    text = re.sub(r'[^\\w\\s]','',text)\n",
        "    text = text.lower()\n",
        "    text_words_list = text.split(' ')\n",
        "    ps = PorterStemmer()\n",
        "    stemmed_words=[]\n",
        "    for w in text_words_list:\n",
        "        if len(w)>0:\n",
        "            if w not in stopwords.words('english'):\n",
        "                stemmed_words.append(ps.stem(w))\n",
        "    #return stemmed_words\n",
        "    return ' '.join(stemmed_words)"
      ]
    },
    {
      "cell_type": "code",
      "execution_count": 192,
      "id": "C8g7ATE8I1LS",
      "metadata": {
        "colab": {
          "base_uri": "https://localhost:8080/"
        },
        "id": "C8g7ATE8I1LS",
        "outputId": "ef120623-258a-4e4d-9524-192bb6c10667"
      },
      "outputs": [
        {
          "output_type": "stream",
          "name": "stderr",
          "text": [
            "[nltk_data] Downloading package stopwords to /root/nltk_data...\n",
            "[nltk_data]   Package stopwords is already up-to-date!\n"
          ]
        },
        {
          "output_type": "execute_result",
          "data": {
            "text/plain": [
              "True"
            ]
          },
          "metadata": {},
          "execution_count": 192
        }
      ],
      "source": [
        "import nltk\n",
        "nltk.download('stopwords')"
      ]
    },
    {
      "cell_type": "code",
      "execution_count": 193,
      "id": "T8OKn62jOtKe",
      "metadata": {
        "colab": {
          "base_uri": "https://localhost:8080/"
        },
        "id": "T8OKn62jOtKe",
        "outputId": "172c9886-d8b6-4228-d8a1-399ce76e09f3"
      },
      "outputs": [
        {
          "output_type": "execute_result",
          "data": {
            "text/plain": [
              "0         One can find this stunning 2 BHK flat for sale...\n",
              "1         Up for immediate sale is a 3 BHK apartment in ...\n",
              "2         This lovely 3 BHK Flat in Sector 79, Gurgaon i...\n",
              "3         This exquisite 2 BHK Flat is offered for sale ...\n",
              "4         JP Nagar, Bangalore has an attractive 3 BHK Fl...\n",
              "                                ...                        \n",
              "187404    This gorgeous 3 BHK Flat is available for sale...\n",
              "187442    Have a look at this immaculate 3 BHK flat for ...\n",
              "187503    Up for immediate sale is a 3 BHK apartment in ...\n",
              "187506    Carefully laid out in the prime location of Pe...\n",
              "187513    This ready to move-in 3 BHK flat is available ...\n",
              "Name: Description, Length: 34652, dtype: object"
            ]
          },
          "metadata": {},
          "execution_count": 193
        }
      ],
      "source": [
        "df_text"
      ]
    },
    {
      "cell_type": "code",
      "execution_count": 194,
      "id": "DZlGW6KAI-j0",
      "metadata": {
        "colab": {
          "base_uri": "https://localhost:8080/"
        },
        "id": "DZlGW6KAI-j0",
        "outputId": "995d2edb-2db2-41dd-aefc-4fa34cfacd42"
      },
      "outputs": [
        {
          "output_type": "stream",
          "name": "stdout",
          "text": [
            "One can find this stunning 2 BHK flat for sale in Alkapur Township, Hyderabad. This apartment for resale is a great choice. This ready to move flat in Alkapur Township comes at an affordable price of INR 67.9 Lac. It is unfurnished to accommodate your needs.\n",
            "\n",
            "one find stun 2 bhk flat sale alkapur township hyderabad apart resal great choic readi move flat alkapur township come afford price inr 679 lac unfurnish accommod need\n"
          ]
        }
      ],
      "source": [
        "print(df_text[0])\n",
        "print()\n",
        "print(clean_text(df_text[0]))"
      ]
    },
    {
      "cell_type": "code",
      "source": [
        "df_text = df_text.apply(clean_text)"
      ],
      "metadata": {
        "id": "gGNuItNV1K9T"
      },
      "id": "gGNuItNV1K9T",
      "execution_count": 195,
      "outputs": []
    },
    {
      "cell_type": "code",
      "execution_count": 196,
      "id": "x7pI2UkLI-pO",
      "metadata": {
        "colab": {
          "base_uri": "https://localhost:8080/"
        },
        "id": "x7pI2UkLI-pO",
        "outputId": "7b62ecdc-3097-4f6d-b047-33ee92a0de51"
      },
      "outputs": [
        {
          "output_type": "stream",
          "name": "stdout",
          "text": [
            "3\n",
            "225.53119589056908\n",
            "2203\n"
          ]
        }
      ],
      "source": [
        "print(df_text.apply(len).min())\n",
        "print(df_text.apply(len).mean())\n",
        "print(df_text.apply(len).max())"
      ]
    },
    {
      "cell_type": "code",
      "execution_count": 197,
      "id": "nMM65nxNI-tM",
      "metadata": {
        "id": "nMM65nxNI-tM"
      },
      "outputs": [],
      "source": [
        "word_embeddings = {}\n",
        "\n",
        "with open(\"glove.6B.100d.txt\", 'r', encoding=\"utf-8\") as f:\n",
        "    for line in f:\n",
        "        values = line.split()\n",
        "        word = values[0]\n",
        "        coefs = np.asarray(values[1:], dtype='float32')\n",
        "        word_embeddings[word] = coefs\n",
        "    f.close()"
      ]
    },
    {
      "cell_type": "code",
      "execution_count": 198,
      "id": "-qqn8_lEI-wC",
      "metadata": {
        "colab": {
          "base_uri": "https://localhost:8080/"
        },
        "id": "-qqn8_lEI-wC",
        "outputId": "abfacf03-933d-41cd-85a0-1f6192005787"
      },
      "outputs": [
        {
          "output_type": "execute_result",
          "data": {
            "text/plain": [
              "array([-0.0335933 ,  0.15172175,  0.1983182 ,  0.03324842, -0.05838233,\n",
              "        0.04356651,  0.00431806,  0.26166594,  0.05101479, -0.09272669,\n",
              "        0.03884265,  0.03705293, -0.01802628,  0.00362415,  0.06389161,\n",
              "       -0.21860801,  0.06575683,  0.077196  , -0.1156398 ,  0.12593086,\n",
              "        0.26001929,  0.03488458,  0.04153825,  0.02794477,  0.06849937,\n",
              "       -0.14383281,  0.02572319, -0.12523154, -0.11808192, -0.08880394,\n",
              "       -0.05659762,  0.16528088,  0.02171558, -0.04657898,  0.00761763,\n",
              "        0.16366557,  0.1058975 ,  0.06374494,  0.06572843, -0.11117936,\n",
              "       -0.07224039, -0.26863167, -0.08212817, -0.3027295 , -0.02608107,\n",
              "       -0.03138031,  0.05690061,  0.00438677, -0.03251289, -0.30356137,\n",
              "       -0.06702439, -0.09856844,  0.08330023,  0.41748062, -0.20430974,\n",
              "       -1.10630618, -0.07949204, -0.23639124,  0.78685454,  0.04885936,\n",
              "       -0.04302058,  0.194088  , -0.1731706 ,  0.19333834,  0.27099782,\n",
              "       -0.03765916,  0.19810792,  0.13243938,  0.09360476, -0.11382608,\n",
              "       -0.06795279, -0.09620128,  0.03421198, -0.12660565,  0.06373944,\n",
              "       -0.03241789,  0.08288386,  0.02971976, -0.25726946,  0.07205621,\n",
              "        0.26059651,  0.10135163, -0.2091845 ,  0.00259169, -0.43980491,\n",
              "       -0.09088531, -0.02003868, -0.10337363,  0.12077472,  0.05944895,\n",
              "       -0.09043702,  0.10539577, -0.11617462, -0.14824624, -0.39571041,\n",
              "       -0.01042573,  0.02093454, -0.04842533,  0.30974434, -0.06469137])"
            ]
          },
          "metadata": {},
          "execution_count": 198
        }
      ],
      "source": [
        "sum([word_embeddings.get(w, np.zeros((100,))) for w in df_text[0].split()])/(len(df_text[0].split())+0.001)"
      ]
    },
    {
      "cell_type": "code",
      "execution_count": 199,
      "id": "Y3J6llk6I-zb",
      "metadata": {
        "id": "Y3J6llk6I-zb"
      },
      "outputs": [],
      "source": [
        "def name_to_vect(name):\n",
        "    if len(name) != 0:\n",
        "        v = sum([word_embeddings.get(w, np.zeros((100,))) for w in name.split()])/(len(name.split())+0.001)\n",
        "    else:\n",
        "        v = np.zeros((100,))\n",
        "    return v"
      ]
    },
    {
      "cell_type": "code",
      "execution_count": 200,
      "id": "wT9toyROI-2M",
      "metadata": {
        "id": "wT9toyROI-2M"
      },
      "outputs": [],
      "source": [
        "df_text = df_text.apply(name_to_vect)"
      ]
    },
    {
      "cell_type": "code",
      "execution_count": 201,
      "id": "2GPfo_iAI-5F",
      "metadata": {
        "id": "2GPfo_iAI-5F"
      },
      "outputs": [],
      "source": [
        "df = df.join(pd.DataFrame(df_text.tolist(), index = df.index))"
      ]
    },
    {
      "cell_type": "code",
      "execution_count": 202,
      "id": "w_SiUWB8I1OM",
      "metadata": {
        "colab": {
          "base_uri": "https://localhost:8080/",
          "height": 265
        },
        "id": "w_SiUWB8I1OM",
        "outputId": "4d71a3b4-3afa-48db-c4f7-f609c120fb1d"
      },
      "outputs": [
        {
          "output_type": "execute_result",
          "data": {
            "text/plain": [
              "   Price (in rupees)   location         Status Transaction   Furnishing  \\\n",
              "0             6173.0  hyderabad  Ready to Move      Resale  Unfurnished   \n",
              "1             9695.0    gurgaon  Ready to Move      Resale  Unfurnished   \n",
              "\n",
              "  facing  Bathroom  Balcony Ownership Flat_or_Apartment  ...        90  \\\n",
              "0   East       2.0        0       NaN              Flat  ... -0.090437   \n",
              "1    NaN       3.0        3       NaN              Flat  ... -0.099064   \n",
              "\n",
              "         91        92        93        94        95        96        97  \\\n",
              "0  0.105396 -0.116175 -0.148246 -0.395710 -0.010426  0.020935 -0.048425   \n",
              "1  0.026928 -0.105481 -0.079892 -0.309193  0.075495  0.044114  0.005213   \n",
              "\n",
              "         98        99  \n",
              "0  0.309744 -0.064691  \n",
              "1  0.403272  0.033924  \n",
              "\n",
              "[2 rows x 115 columns]"
            ],
            "text/html": [
              "\n",
              "  <div id=\"df-236c10b8-75d4-409f-9075-00e583c4acdb\" class=\"colab-df-container\">\n",
              "    <div>\n",
              "<style scoped>\n",
              "    .dataframe tbody tr th:only-of-type {\n",
              "        vertical-align: middle;\n",
              "    }\n",
              "\n",
              "    .dataframe tbody tr th {\n",
              "        vertical-align: top;\n",
              "    }\n",
              "\n",
              "    .dataframe thead th {\n",
              "        text-align: right;\n",
              "    }\n",
              "</style>\n",
              "<table border=\"1\" class=\"dataframe\">\n",
              "  <thead>\n",
              "    <tr style=\"text-align: right;\">\n",
              "      <th></th>\n",
              "      <th>Price (in rupees)</th>\n",
              "      <th>location</th>\n",
              "      <th>Status</th>\n",
              "      <th>Transaction</th>\n",
              "      <th>Furnishing</th>\n",
              "      <th>facing</th>\n",
              "      <th>Bathroom</th>\n",
              "      <th>Balcony</th>\n",
              "      <th>Ownership</th>\n",
              "      <th>Flat_or_Apartment</th>\n",
              "      <th>...</th>\n",
              "      <th>90</th>\n",
              "      <th>91</th>\n",
              "      <th>92</th>\n",
              "      <th>93</th>\n",
              "      <th>94</th>\n",
              "      <th>95</th>\n",
              "      <th>96</th>\n",
              "      <th>97</th>\n",
              "      <th>98</th>\n",
              "      <th>99</th>\n",
              "    </tr>\n",
              "  </thead>\n",
              "  <tbody>\n",
              "    <tr>\n",
              "      <th>0</th>\n",
              "      <td>6173.0</td>\n",
              "      <td>hyderabad</td>\n",
              "      <td>Ready to Move</td>\n",
              "      <td>Resale</td>\n",
              "      <td>Unfurnished</td>\n",
              "      <td>East</td>\n",
              "      <td>2.0</td>\n",
              "      <td>0</td>\n",
              "      <td>NaN</td>\n",
              "      <td>Flat</td>\n",
              "      <td>...</td>\n",
              "      <td>-0.090437</td>\n",
              "      <td>0.105396</td>\n",
              "      <td>-0.116175</td>\n",
              "      <td>-0.148246</td>\n",
              "      <td>-0.395710</td>\n",
              "      <td>-0.010426</td>\n",
              "      <td>0.020935</td>\n",
              "      <td>-0.048425</td>\n",
              "      <td>0.309744</td>\n",
              "      <td>-0.064691</td>\n",
              "    </tr>\n",
              "    <tr>\n",
              "      <th>1</th>\n",
              "      <td>9695.0</td>\n",
              "      <td>gurgaon</td>\n",
              "      <td>Ready to Move</td>\n",
              "      <td>Resale</td>\n",
              "      <td>Unfurnished</td>\n",
              "      <td>NaN</td>\n",
              "      <td>3.0</td>\n",
              "      <td>3</td>\n",
              "      <td>NaN</td>\n",
              "      <td>Flat</td>\n",
              "      <td>...</td>\n",
              "      <td>-0.099064</td>\n",
              "      <td>0.026928</td>\n",
              "      <td>-0.105481</td>\n",
              "      <td>-0.079892</td>\n",
              "      <td>-0.309193</td>\n",
              "      <td>0.075495</td>\n",
              "      <td>0.044114</td>\n",
              "      <td>0.005213</td>\n",
              "      <td>0.403272</td>\n",
              "      <td>0.033924</td>\n",
              "    </tr>\n",
              "  </tbody>\n",
              "</table>\n",
              "<p>2 rows × 115 columns</p>\n",
              "</div>\n",
              "    <div class=\"colab-df-buttons\">\n",
              "\n",
              "  <div class=\"colab-df-container\">\n",
              "    <button class=\"colab-df-convert\" onclick=\"convertToInteractive('df-236c10b8-75d4-409f-9075-00e583c4acdb')\"\n",
              "            title=\"Convert this dataframe to an interactive table.\"\n",
              "            style=\"display:none;\">\n",
              "\n",
              "  <svg xmlns=\"http://www.w3.org/2000/svg\" height=\"24px\" viewBox=\"0 -960 960 960\">\n",
              "    <path d=\"M120-120v-720h720v720H120Zm60-500h600v-160H180v160Zm220 220h160v-160H400v160Zm0 220h160v-160H400v160ZM180-400h160v-160H180v160Zm440 0h160v-160H620v160ZM180-180h160v-160H180v160Zm440 0h160v-160H620v160Z\"/>\n",
              "  </svg>\n",
              "    </button>\n",
              "\n",
              "  <style>\n",
              "    .colab-df-container {\n",
              "      display:flex;\n",
              "      gap: 12px;\n",
              "    }\n",
              "\n",
              "    .colab-df-convert {\n",
              "      background-color: #E8F0FE;\n",
              "      border: none;\n",
              "      border-radius: 50%;\n",
              "      cursor: pointer;\n",
              "      display: none;\n",
              "      fill: #1967D2;\n",
              "      height: 32px;\n",
              "      padding: 0 0 0 0;\n",
              "      width: 32px;\n",
              "    }\n",
              "\n",
              "    .colab-df-convert:hover {\n",
              "      background-color: #E2EBFA;\n",
              "      box-shadow: 0px 1px 2px rgba(60, 64, 67, 0.3), 0px 1px 3px 1px rgba(60, 64, 67, 0.15);\n",
              "      fill: #174EA6;\n",
              "    }\n",
              "\n",
              "    .colab-df-buttons div {\n",
              "      margin-bottom: 4px;\n",
              "    }\n",
              "\n",
              "    [theme=dark] .colab-df-convert {\n",
              "      background-color: #3B4455;\n",
              "      fill: #D2E3FC;\n",
              "    }\n",
              "\n",
              "    [theme=dark] .colab-df-convert:hover {\n",
              "      background-color: #434B5C;\n",
              "      box-shadow: 0px 1px 3px 1px rgba(0, 0, 0, 0.15);\n",
              "      filter: drop-shadow(0px 1px 2px rgba(0, 0, 0, 0.3));\n",
              "      fill: #FFFFFF;\n",
              "    }\n",
              "  </style>\n",
              "\n",
              "    <script>\n",
              "      const buttonEl =\n",
              "        document.querySelector('#df-236c10b8-75d4-409f-9075-00e583c4acdb button.colab-df-convert');\n",
              "      buttonEl.style.display =\n",
              "        google.colab.kernel.accessAllowed ? 'block' : 'none';\n",
              "\n",
              "      async function convertToInteractive(key) {\n",
              "        const element = document.querySelector('#df-236c10b8-75d4-409f-9075-00e583c4acdb');\n",
              "        const dataTable =\n",
              "          await google.colab.kernel.invokeFunction('convertToInteractive',\n",
              "                                                    [key], {});\n",
              "        if (!dataTable) return;\n",
              "\n",
              "        const docLinkHtml = 'Like what you see? Visit the ' +\n",
              "          '<a target=\"_blank\" href=https://colab.research.google.com/notebooks/data_table.ipynb>data table notebook</a>'\n",
              "          + ' to learn more about interactive tables.';\n",
              "        element.innerHTML = '';\n",
              "        dataTable['output_type'] = 'display_data';\n",
              "        await google.colab.output.renderOutput(dataTable, element);\n",
              "        const docLink = document.createElement('div');\n",
              "        docLink.innerHTML = docLinkHtml;\n",
              "        element.appendChild(docLink);\n",
              "      }\n",
              "    </script>\n",
              "  </div>\n",
              "\n",
              "\n",
              "<div id=\"df-52f44509-4c91-4174-be36-7645f077c1a0\">\n",
              "  <button class=\"colab-df-quickchart\" onclick=\"quickchart('df-52f44509-4c91-4174-be36-7645f077c1a0')\"\n",
              "            title=\"Suggest charts.\"\n",
              "            style=\"display:none;\">\n",
              "\n",
              "<svg xmlns=\"http://www.w3.org/2000/svg\" height=\"24px\"viewBox=\"0 0 24 24\"\n",
              "     width=\"24px\">\n",
              "    <g>\n",
              "        <path d=\"M19 3H5c-1.1 0-2 .9-2 2v14c0 1.1.9 2 2 2h14c1.1 0 2-.9 2-2V5c0-1.1-.9-2-2-2zM9 17H7v-7h2v7zm4 0h-2V7h2v10zm4 0h-2v-4h2v4z\"/>\n",
              "    </g>\n",
              "</svg>\n",
              "  </button>\n",
              "\n",
              "<style>\n",
              "  .colab-df-quickchart {\n",
              "      --bg-color: #E8F0FE;\n",
              "      --fill-color: #1967D2;\n",
              "      --hover-bg-color: #E2EBFA;\n",
              "      --hover-fill-color: #174EA6;\n",
              "      --disabled-fill-color: #AAA;\n",
              "      --disabled-bg-color: #DDD;\n",
              "  }\n",
              "\n",
              "  [theme=dark] .colab-df-quickchart {\n",
              "      --bg-color: #3B4455;\n",
              "      --fill-color: #D2E3FC;\n",
              "      --hover-bg-color: #434B5C;\n",
              "      --hover-fill-color: #FFFFFF;\n",
              "      --disabled-bg-color: #3B4455;\n",
              "      --disabled-fill-color: #666;\n",
              "  }\n",
              "\n",
              "  .colab-df-quickchart {\n",
              "    background-color: var(--bg-color);\n",
              "    border: none;\n",
              "    border-radius: 50%;\n",
              "    cursor: pointer;\n",
              "    display: none;\n",
              "    fill: var(--fill-color);\n",
              "    height: 32px;\n",
              "    padding: 0;\n",
              "    width: 32px;\n",
              "  }\n",
              "\n",
              "  .colab-df-quickchart:hover {\n",
              "    background-color: var(--hover-bg-color);\n",
              "    box-shadow: 0 1px 2px rgba(60, 64, 67, 0.3), 0 1px 3px 1px rgba(60, 64, 67, 0.15);\n",
              "    fill: var(--button-hover-fill-color);\n",
              "  }\n",
              "\n",
              "  .colab-df-quickchart-complete:disabled,\n",
              "  .colab-df-quickchart-complete:disabled:hover {\n",
              "    background-color: var(--disabled-bg-color);\n",
              "    fill: var(--disabled-fill-color);\n",
              "    box-shadow: none;\n",
              "  }\n",
              "\n",
              "  .colab-df-spinner {\n",
              "    border: 2px solid var(--fill-color);\n",
              "    border-color: transparent;\n",
              "    border-bottom-color: var(--fill-color);\n",
              "    animation:\n",
              "      spin 1s steps(1) infinite;\n",
              "  }\n",
              "\n",
              "  @keyframes spin {\n",
              "    0% {\n",
              "      border-color: transparent;\n",
              "      border-bottom-color: var(--fill-color);\n",
              "      border-left-color: var(--fill-color);\n",
              "    }\n",
              "    20% {\n",
              "      border-color: transparent;\n",
              "      border-left-color: var(--fill-color);\n",
              "      border-top-color: var(--fill-color);\n",
              "    }\n",
              "    30% {\n",
              "      border-color: transparent;\n",
              "      border-left-color: var(--fill-color);\n",
              "      border-top-color: var(--fill-color);\n",
              "      border-right-color: var(--fill-color);\n",
              "    }\n",
              "    40% {\n",
              "      border-color: transparent;\n",
              "      border-right-color: var(--fill-color);\n",
              "      border-top-color: var(--fill-color);\n",
              "    }\n",
              "    60% {\n",
              "      border-color: transparent;\n",
              "      border-right-color: var(--fill-color);\n",
              "    }\n",
              "    80% {\n",
              "      border-color: transparent;\n",
              "      border-right-color: var(--fill-color);\n",
              "      border-bottom-color: var(--fill-color);\n",
              "    }\n",
              "    90% {\n",
              "      border-color: transparent;\n",
              "      border-bottom-color: var(--fill-color);\n",
              "    }\n",
              "  }\n",
              "</style>\n",
              "\n",
              "  <script>\n",
              "    async function quickchart(key) {\n",
              "      const quickchartButtonEl =\n",
              "        document.querySelector('#' + key + ' button');\n",
              "      quickchartButtonEl.disabled = true;  // To prevent multiple clicks.\n",
              "      quickchartButtonEl.classList.add('colab-df-spinner');\n",
              "      try {\n",
              "        const charts = await google.colab.kernel.invokeFunction(\n",
              "            'suggestCharts', [key], {});\n",
              "      } catch (error) {\n",
              "        console.error('Error during call to suggestCharts:', error);\n",
              "      }\n",
              "      quickchartButtonEl.classList.remove('colab-df-spinner');\n",
              "      quickchartButtonEl.classList.add('colab-df-quickchart-complete');\n",
              "    }\n",
              "    (() => {\n",
              "      let quickchartButtonEl =\n",
              "        document.querySelector('#df-52f44509-4c91-4174-be36-7645f077c1a0 button');\n",
              "      quickchartButtonEl.style.display =\n",
              "        google.colab.kernel.accessAllowed ? 'block' : 'none';\n",
              "    })();\n",
              "  </script>\n",
              "</div>\n",
              "    </div>\n",
              "  </div>\n"
            ]
          },
          "metadata": {},
          "execution_count": 202
        }
      ],
      "source": [
        "df.head(2)"
      ]
    },
    {
      "cell_type": "markdown",
      "id": "373208b6",
      "metadata": {
        "id": "373208b6"
      },
      "source": [
        "# Splitting into train and test samples"
      ]
    },
    {
      "cell_type": "code",
      "execution_count": 245,
      "id": "60fcb6da",
      "metadata": {
        "id": "60fcb6da"
      },
      "outputs": [],
      "source": [
        "train = df3[:16987]\n",
        "test_finish = df3[16987:]\n",
        "test_finish.drop(['Price'], axis=1, inplace=True)"
      ]
    },
    {
      "cell_type": "code",
      "execution_count": 246,
      "id": "JVpaGhm1OIMd",
      "metadata": {
        "colab": {
          "base_uri": "https://localhost:8080/",
          "height": 466
        },
        "id": "JVpaGhm1OIMd",
        "outputId": "63e6c7be-f377-4000-dbf1-666cdab66d87"
      },
      "outputs": [
        {
          "output_type": "execute_result",
          "data": {
            "text/plain": [
              "Text(0, 0.5, 'Probability')"
            ]
          },
          "metadata": {},
          "execution_count": 246
        },
        {
          "output_type": "display_data",
          "data": {
            "text/plain": [
              "<Figure size 640x480 with 1 Axes>"
            ],
            "image/png": "[encoded data removed]"
          },
          "metadata": {}
        }
      ],
      "source": [
        "prices = train['Price'].values\n",
        "plt.hist(prices, bins=100)\n",
        "plt.xlabel('Data')\n",
        "plt.ylabel('Probability')"
      ]
    },
    {
      "cell_type": "code",
      "execution_count": 247,
      "id": "NHDUVA0PPXgp",
      "metadata": {
        "id": "NHDUVA0PPXgp"
      },
      "outputs": [],
      "source": [
        "train = train[train['Price'] < train['Price'].quantile(.99)]"
      ]
    },
    {
      "cell_type": "code",
      "source": [
        "prices = train['Price'].values\n",
        "plt.hist(prices, bins=100)\n",
        "plt.xlabel('Data')\n",
        "plt.ylabel('Probability')"
      ],
      "metadata": {
        "colab": {
          "base_uri": "https://localhost:8080/",
          "height": 466
        },
        "id": "yC0-17d930sS",
        "outputId": "7125576b-fbd3-4b51-aafc-1ddeec8dc07e"
      },
      "id": "yC0-17d930sS",
      "execution_count": 248,
      "outputs": [
        {
          "output_type": "execute_result",
          "data": {
            "text/plain": [
              "Text(0, 0.5, 'Probability')"
            ]
          },
          "metadata": {},
          "execution_count": 248
        },
        {
          "output_type": "display_data",
          "data": {
            "text/plain": [
              "<Figure size 640x480 with 1 Axes>"
            ],
            "image/png": "[encoded data removed]"
          },
          "metadata": {}
        }
      ]
    },
    {
      "cell_type": "code",
      "execution_count": 249,
      "id": "a1faefdd",
      "metadata": {
        "colab": {
          "base_uri": "https://localhost:8080/"
        },
        "id": "a1faefdd",
        "outputId": "12bf6301-e323-47e3-b4f0-a7ea0109585c"
      },
      "outputs": [
        {
          "output_type": "execute_result",
          "data": {
            "text/plain": [
              "(16815, 104)"
            ]
          },
          "metadata": {},
          "execution_count": 249
        }
      ],
      "source": [
        "train.shape"
      ]
    },
    {
      "cell_type": "code",
      "execution_count": 250,
      "id": "b8fbe50d",
      "metadata": {
        "id": "b8fbe50d"
      },
      "outputs": [],
      "source": [
        "X = train.iloc[:,:-1].values\n",
        "y = train.iloc[:, -1].values\n",
        "X = pd.DataFrame(X)\n",
        "y = pd.DataFrame(y)"
      ]
    },
    {
      "cell_type": "code",
      "execution_count": 251,
      "id": "33663534",
      "metadata": {
        "id": "33663534"
      },
      "outputs": [],
      "source": [
        "X_train_cat = X[:15817]\n",
        "y_train_cat = y[:15817]\n",
        "X_test_cat = X[15817:]\n",
        "y_test_cat = y[15817:]"
      ]
    },
    {
      "cell_type": "code",
      "execution_count": 252,
      "id": "a2b273ae",
      "metadata": {
        "id": "a2b273ae"
      },
      "outputs": [],
      "source": [
        "X_train, X_val, y_train, y_val = train_test_split(X_train_cat, y_train_cat, test_size=0.2, random_state=0)"
      ]
    },
    {
      "cell_type": "markdown",
      "id": "8e215e81",
      "metadata": {
        "id": "8e215e81"
      },
      "source": [
        "# Normalizing"
      ]
    },
    {
      "cell_type": "code",
      "execution_count": null,
      "id": "104b5b46",
      "metadata": {
        "id": "104b5b46"
      },
      "outputs": [],
      "source": [
        "scaler = StandardScaler()\n",
        "list_to_norm = list(X_train.columns[:5].values)\n",
        "list_binary_features = list(X_train.columns[5:].values)\n",
        "list_text = ['name_clean_list']\n",
        "\n",
        "X_train_to_norm = X_train[list_to_norm]\n",
        "X_val_to_norm = X_val[list_to_norm]\n",
        "\n",
        "X_train_to_norm = scaler.fit_transform(X_train_to_norm)\n",
        "X_val_to_norm = scaler.transform(X_val_to_norm)\n",
        "\n",
        "X_train_final = np.c_[ X_train_to_norm, np.array(X_train[list_binary_features]), np.array(X_train[range(0,100)])]\n",
        "X_val_final  = np.c_[ X_val_to_norm, np.array(X_val[list_binary_features]), np.array(X_train[range(0,100)]) ]"
      ]
    },
    {
      "cell_type": "code",
      "execution_count": null,
      "id": "587aeda2",
      "metadata": {
        "colab": {
          "base_uri": "https://localhost:8080/"
        },
        "id": "587aeda2",
        "outputId": "c4728dc3-2fbd-4e5e-948d-2ff1fd3e5280"
      },
      "outputs": [
        {
          "name": "stdout",
          "output_type": "stream",
          "text": [
            "(12653, 103) (3164, 103) (12653, 1) (3164, 1)\n"
          ]
        }
      ],
      "source": [
        "print(X_train_final.shape,X_val_final.shape, y_train_log.shape,y_val_log.shape)"
      ]
    },
    {
      "cell_type": "markdown",
      "id": "5fab2661",
      "metadata": {
        "id": "5fab2661"
      },
      "source": [
        "# Catboost"
      ]
    },
    {
      "cell_type": "code",
      "source": [
        "! pip install catboost"
      ],
      "metadata": {
        "colab": {
          "base_uri": "https://localhost:8080/"
        },
        "id": "AW_gncQRtSc6",
        "outputId": "a935d768-cd1c-4158-fdfe-d8f88f933022"
      },
      "id": "AW_gncQRtSc6",
      "execution_count": 235,
      "outputs": [
        {
          "output_type": "stream",
          "name": "stdout",
          "text": [
            "Requirement already satisfied: catboost in /usr/local/lib/python3.10/dist-packages (1.2.2)\n",
            "Requirement already satisfied: graphviz in /usr/local/lib/python3.10/dist-packages (from catboost) (0.20.1)\n",
            "Requirement already satisfied: matplotlib in /usr/local/lib/python3.10/dist-packages (from catboost) (3.7.1)\n",
            "Requirement already satisfied: numpy>=1.16.0 in /usr/local/lib/python3.10/dist-packages (from catboost) (1.23.5)\n",
            "Requirement already satisfied: pandas>=0.24 in /usr/local/lib/python3.10/dist-packages (from catboost) (1.5.3)\n",
            "Requirement already satisfied: scipy in /usr/local/lib/python3.10/dist-packages (from catboost) (1.11.2)\n",
            "Requirement already satisfied: plotly in /usr/local/lib/python3.10/dist-packages (from catboost) (5.15.0)\n",
            "Requirement already satisfied: six in /usr/local/lib/python3.10/dist-packages (from catboost) (1.16.0)\n",
            "Requirement already satisfied: python-dateutil>=2.8.1 in /usr/local/lib/python3.10/dist-packages (from pandas>=0.24->catboost) (2.8.2)\n",
            "Requirement already satisfied: pytz>=2020.1 in /usr/local/lib/python3.10/dist-packages (from pandas>=0.24->catboost) (2023.3.post1)\n",
            "Requirement already satisfied: contourpy>=1.0.1 in /usr/local/lib/python3.10/dist-packages (from matplotlib->catboost) (1.1.0)\n",
            "Requirement already satisfied: cycler>=0.10 in /usr/local/lib/python3.10/dist-packages (from matplotlib->catboost) (0.11.0)\n",
            "Requirement already satisfied: fonttools>=4.22.0 in /usr/local/lib/python3.10/dist-packages (from matplotlib->catboost) (4.42.1)\n",
            "Requirement already satisfied: kiwisolver>=1.0.1 in /usr/local/lib/python3.10/dist-packages (from matplotlib->catboost) (1.4.5)\n",
            "Requirement already satisfied: packaging>=20.0 in /usr/local/lib/python3.10/dist-packages (from matplotlib->catboost) (23.1)\n",
            "Requirement already satisfied: pillow>=6.2.0 in /usr/local/lib/python3.10/dist-packages (from matplotlib->catboost) (9.4.0)\n",
            "Requirement already satisfied: pyparsing>=2.3.1 in /usr/local/lib/python3.10/dist-packages (from matplotlib->catboost) (3.1.1)\n",
            "Requirement already satisfied: tenacity>=6.2.0 in /usr/local/lib/python3.10/dist-packages (from plotly->catboost) (8.2.3)\n"
          ]
        }
      ]
    },
    {
      "cell_type": "code",
      "execution_count": 253,
      "id": "e070bff3",
      "metadata": {
        "id": "e070bff3"
      },
      "outputs": [],
      "source": [
        "from catboost import CatBoostRegressor, Pool\n",
        "\n",
        "clf = CatBoostRegressor (loss_function='RMSE')\n",
        "\n",
        "train_dataset = Pool(data=X_train, label=y_train)\n",
        "eval_dataset = Pool(data=X_val, label=y_val)"
      ]
    },
    {
      "cell_type": "code",
      "execution_count": 254,
      "id": "1c81d1d0",
      "metadata": {
        "colab": {
          "base_uri": "https://localhost:8080/"
        },
        "id": "1c81d1d0",
        "outputId": "c33dc801-ba39-466a-a54a-4675a17558df"
      },
      "outputs": [
        {
          "output_type": "execute_result",
          "data": {
            "text/plain": [
              "<catboost.core.CatBoostRegressor at 0x7e68fa6038b0>"
            ]
          },
          "metadata": {},
          "execution_count": 254
        }
      ],
      "source": [
        "clf.fit(train_dataset, use_best_model=True, verbose=0, eval_set=eval_dataset)"
      ]
    },
    {
      "cell_type": "code",
      "execution_count": 255,
      "id": "ebbb77e6",
      "metadata": {
        "colab": {
          "base_uri": "https://localhost:8080/"
        },
        "id": "ebbb77e6",
        "outputId": "745d385d-6668-4a42-ed7b-0d1d8aa61d66"
      },
      "outputs": [
        {
          "output_type": "stream",
          "name": "stdout",
          "text": [
            "MAPE: 0.06317936015538962\n",
            "MAE: 358.3781732071633\n",
            "RMSE: 711.8317659416622\n"
          ]
        }
      ],
      "source": [
        "y_pred = clf.predict(Pool(data=X_test_cat))\n",
        "\n",
        "print(f\"MAPE: {mean_absolute_percentage_error(y_test_cat, y_pred)}\")\n",
        "print(f\"MAE: {mean_absolute_error(y_test_cat, y_pred)}\")\n",
        "print(f\"RMSE: {np.sqrt(mean_squared_error(y_test_cat, y_pred))}\")"
      ]
    }
  ],
  "metadata": {
    "colab": {
      "provenance": []
    },
    "kernelspec": {
      "display_name": "Python 3 (ipykernel)",
      "language": "python",
      "name": "python3"
    },
    "language_info": {
      "codemirror_mode": {
        "name": "ipython",
        "version": 3
      },
      "file_extension": ".py",
      "mimetype": "text/x-python",
      "name": "python",
      "nbconvert_exporter": "python",
      "pygments_lexer": "ipython3",
      "version": "3.9.13"
    }
  },
  "nbformat": 4,
  "nbformat_minor": 5
}