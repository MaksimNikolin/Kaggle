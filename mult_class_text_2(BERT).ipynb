{
  "cells": [
    {
      "cell_type": "code",
      "execution_count": 1,
      "metadata": {
        "id": "29BIvrvdUOnX"
      },
      "outputs": [],
      "source": [
        "#function ConnectButton(){\n",
        "#    console.log('Working');\n",
        "#    document.querySelector('#connect').click()\n",
        "#}\n",
        "#setInterval(ConnectButton, 60000);"
      ]
    },
    {
      "cell_type": "code",
      "execution_count": 2,
      "metadata": {
        "id": "PF6qRSjM-5F7"
      },
      "outputs": [],
      "source": [
        "import pandas as pd\n",
        "\n",
        "df = pd.read_csv('train.tsv', sep='\\t')"
      ]
    },
    {
      "cell_type": "code",
      "execution_count": 3,
      "metadata": {
        "id": "zFouuPydVrea"
      },
      "outputs": [],
      "source": [
        "df.drop(['PhraseId', 'SentenceId'], axis=1, inplace=True)"
      ]
    },
    {
      "cell_type": "code",
      "execution_count": 4,
      "metadata": {
        "colab": {
          "base_uri": "https://localhost:8080/"
        },
        "id": "ut87PGK2-5DH",
        "outputId": "4fca8ee0-1a5b-400f-9587-a49badcb9f72"
      },
      "outputs": [
        {
          "output_type": "execute_result",
          "data": {
            "text/plain": [
              "(156060, 2)"
            ]
          },
          "metadata": {},
          "execution_count": 4
        }
      ],
      "source": [
        "df.shape"
      ]
    },
    {
      "cell_type": "code",
      "execution_count": 5,
      "metadata": {
        "id": "-NUSFQU3Yemq"
      },
      "outputs": [],
      "source": [
        "df_0 = df[df['Sentiment']==0].sample(frac=0.99)\n",
        "df_1 = df[df['Sentiment']==1].sample(frac=0.26)\n",
        "df_2 = df[df['Sentiment']==2].sample(frac=0.09)\n",
        "df_3 = df[df['Sentiment']==3].sample(frac=0.21)\n",
        "df_4 = df[df['Sentiment']==4].sample(frac=0.75)\n",
        "\n",
        "df = pd.concat([df_0,df_1,df_2,df_3,df_4])\n",
        "df.reset_index(inplace=True)\n",
        "df.drop(['index'], axis=1, inplace=True)"
      ]
    },
    {
      "cell_type": "code",
      "execution_count": 6,
      "metadata": {
        "id": "qr7xo2DUk5BE"
      },
      "outputs": [],
      "source": [
        "df = df.sample(frac=0.5)"
      ]
    },
    {
      "cell_type": "code",
      "execution_count": 7,
      "metadata": {
        "colab": {
          "base_uri": "https://localhost:8080/"
        },
        "id": "URpi_JeDnza0",
        "outputId": "6476fe8a-3f74-47ed-83aa-31c360be2511"
      },
      "outputs": [
        {
          "output_type": "execute_result",
          "data": {
            "text/plain": [
              "(17536, 2)"
            ]
          },
          "metadata": {},
          "execution_count": 7
        }
      ],
      "source": [
        "df.shape"
      ]
    },
    {
      "cell_type": "code",
      "execution_count": 8,
      "metadata": {
        "colab": {
          "base_uri": "https://localhost:8080/"
        },
        "id": "N-1rDYCe-5BQ",
        "outputId": "9c4c6b36-6a7b-4693-ad3b-0581647b08a4"
      },
      "outputs": [
        {
          "output_type": "execute_result",
          "data": {
            "text/plain": [
              "(17536, 512)"
            ]
          },
          "metadata": {},
          "execution_count": 8
        }
      ],
      "source": [
        "import numpy as np\n",
        "\n",
        "seq_len = 512\n",
        "num_samples = len(df)\n",
        "\n",
        "Xids = np.zeros((num_samples, seq_len))\n",
        "Xmask = np.zeros((num_samples, seq_len))\n",
        "\n",
        "Xids.shape"
      ]
    },
    {
      "cell_type": "code",
      "execution_count": null,
      "metadata": {
        "colab": {
          "base_uri": "https://localhost:8080/"
        },
        "id": "BBvGsL2MM9l_",
        "outputId": "2c3d7472-9f60-420d-ec34-301c99ea7b81"
      },
      "outputs": [
        {
          "output_type": "stream",
          "name": "stdout",
          "text": [
            "\u001b[2K     \u001b[90m━━━━━━━━━━━━━━━━━━━━━━━━━━━━━━━━━━━━━━━━\u001b[0m \u001b[32m7.7/7.7 MB\u001b[0m \u001b[31m15.2 MB/s\u001b[0m eta \u001b[36m0:00:00\u001b[0m\n",
            "\u001b[2K     \u001b[90m━━━━━━━━━━━━━━━━━━━━━━━━━━━━━━━━━━━━━━\u001b[0m \u001b[32m302.0/302.0 kB\u001b[0m \u001b[31m21.6 MB/s\u001b[0m eta \u001b[36m0:00:00\u001b[0m\n",
            "\u001b[2K     \u001b[90m━━━━━━━━━━━━━━━━━━━━━━━━━━━━━━━━━━━━━━━━\u001b[0m \u001b[32m3.8/3.8 MB\u001b[0m \u001b[31m31.7 MB/s\u001b[0m eta \u001b[36m0:00:00\u001b[0m\n",
            "\u001b[2K     \u001b[90m━━━━━━━━━━━━━━━━━━━━━━━━━━━━━━━━━━━━━━━━\u001b[0m \u001b[32m1.3/1.3 MB\u001b[0m \u001b[31m37.6 MB/s\u001b[0m eta \u001b[36m0:00:00\u001b[0m\n",
            "\u001b[2K     \u001b[90m━━━━━━━━━━━━━━━━━━━━━━━━━━━━━━━━━━━━━━\u001b[0m \u001b[32m295.0/295.0 kB\u001b[0m \u001b[31m25.4 MB/s\u001b[0m eta \u001b[36m0:00:00\u001b[0m\n",
            "\u001b[?25h"
          ]
        }
      ],
      "source": [
        "!pip install -q transformers"
      ]
    },
    {
      "cell_type": "code",
      "execution_count": null,
      "metadata": {
        "id": "T_rNZweK-4_8"
      },
      "outputs": [],
      "source": [
        "from transformers import BertTokenizer\n",
        "\n",
        "tokenizer = BertTokenizer.from_pretrained('bert-base-cased')\n",
        "\n",
        "for i, phrase in enumerate(df['Phrase']):\n",
        "  tokens = tokenizer.encode_plus(phrase, max_length=seq_len, truncation=True,\n",
        "                                 add_special_tokens=True,\n",
        "                                 padding='max_length', return_tensors='tf')\n",
        "\n",
        "  Xids[i, :] = tokens['input_ids']\n",
        "  Xmask[i, :] = tokens['attention_mask']"
      ]
    },
    {
      "cell_type": "code",
      "execution_count": null,
      "metadata": {
        "id": "f_ukZtBc-48p"
      },
      "outputs": [],
      "source": [
        "arr = df['Sentiment'].values"
      ]
    },
    {
      "cell_type": "code",
      "execution_count": null,
      "metadata": {
        "id": "AeZAb-FM-46C"
      },
      "outputs": [],
      "source": [
        "labels = np.zeros((num_samples, arr.max()+1))"
      ]
    },
    {
      "cell_type": "code",
      "execution_count": null,
      "metadata": {
        "id": "h2ygJ7Q3-430"
      },
      "outputs": [],
      "source": [
        "labels.shape"
      ]
    },
    {
      "cell_type": "code",
      "execution_count": null,
      "metadata": {
        "id": "zkh4JB65-41W"
      },
      "outputs": [],
      "source": [
        "labels[np.arange(num_samples), arr] = 1"
      ]
    },
    {
      "cell_type": "markdown",
      "metadata": {
        "id": "7mamEBgZ3OhH"
      },
      "source": [
        "---"
      ]
    },
    {
      "cell_type": "code",
      "execution_count": null,
      "metadata": {
        "id": "RwDU_oUi-4xJ"
      },
      "outputs": [],
      "source": [
        "import tensorflow as tf"
      ]
    },
    {
      "cell_type": "code",
      "execution_count": null,
      "metadata": {
        "id": "zNeVZGnx-4u0"
      },
      "outputs": [],
      "source": [
        "dataset = tf.data.Dataset.from_tensor_slices((Xids, Xmask, labels))\n",
        "dataset.take(1)"
      ]
    },
    {
      "cell_type": "code",
      "execution_count": null,
      "metadata": {
        "id": "nihVHYlx-4oV"
      },
      "outputs": [],
      "source": [
        "def map_func(input_ids, masks, labels):\n",
        "  return {'input_ids' : input_ids, 'attention_mask' : masks}, labels"
      ]
    },
    {
      "cell_type": "code",
      "execution_count": null,
      "metadata": {
        "id": "xXQ4YBj9-4mB"
      },
      "outputs": [],
      "source": [
        "dataset = dataset.map(map_func)\n",
        "dataset.take(1)"
      ]
    },
    {
      "cell_type": "code",
      "execution_count": null,
      "metadata": {
        "id": "tzlvhpvc-4hY"
      },
      "outputs": [],
      "source": [
        "batch_size=16\n",
        "\n",
        "dataset = dataset.shuffle(10000).batch(batch_size, drop_remainder=True)\n",
        "dataset.take(1)"
      ]
    },
    {
      "cell_type": "code",
      "execution_count": null,
      "metadata": {
        "id": "3HNkGilR-4dX"
      },
      "outputs": [],
      "source": [
        "split = 0.9\n",
        "size = int((num_samples / batch_size) * split)"
      ]
    },
    {
      "cell_type": "code",
      "execution_count": null,
      "metadata": {
        "id": "38b3Bzam-4a4"
      },
      "outputs": [],
      "source": [
        "train_ds = dataset.take(size)\n",
        "val_ds = dataset.skip(size)"
      ]
    },
    {
      "cell_type": "code",
      "execution_count": null,
      "metadata": {
        "id": "WtlKkRc22liY"
      },
      "outputs": [],
      "source": [
        "del dataset"
      ]
    },
    {
      "cell_type": "markdown",
      "metadata": {
        "id": "qc7iAGnc3Ic4"
      },
      "source": [
        "---\n",
        "**Model**"
      ]
    },
    {
      "cell_type": "code",
      "execution_count": null,
      "metadata": {
        "id": "M9NDuAN3-4Wx"
      },
      "outputs": [],
      "source": [
        "from transformers import TFAutoModel\n",
        "\n",
        "bert = TFAutoModel.from_pretrained('bert-base-uncased')\n",
        "\n",
        "bert.summary()"
      ]
    },
    {
      "cell_type": "code",
      "execution_count": null,
      "metadata": {
        "id": "YE2byOKO-4Ub"
      },
      "outputs": [],
      "source": [
        "input_ids = tf.keras.layers.Input(shape=(seq_len,), name='input_ids', dtype='int32')\n",
        "mask = tf.keras.layers.Input(shape=(seq_len,), name='attention_mask', dtype='int32')\n",
        "\n",
        "embeddings = bert.bert(input_ids, attention_mask=mask)[1]\n",
        "\n",
        "x = tf.keras.layers.Dense(1024, activation='relu')(embeddings)\n",
        "y = tf.keras.layers.Dense(arr.max()+1, activation='softmax', name='outputs')(x)"
      ]
    },
    {
      "cell_type": "code",
      "execution_count": null,
      "metadata": {
        "id": "17d61oAp-4SM"
      },
      "outputs": [],
      "source": [
        "model = tf.keras.Model(inputs=[input_ids, mask], outputs=y)\n",
        "model.layers[2].trainable = False\n",
        "model.summary()"
      ]
    },
    {
      "cell_type": "code",
      "execution_count": null,
      "metadata": {
        "id": "Vd7OwHgUSEC0"
      },
      "outputs": [],
      "source": [
        "optimizer = tf.keras.optimizers.Adam(learning_rate=1e-5, weight_decay=1e-6)\n",
        "loss = tf.keras.losses.CategoricalCrossentropy()\n",
        "acc = tf.keras.metrics.CategoricalAccuracy(name='accuracy')"
      ]
    },
    {
      "cell_type": "code",
      "execution_count": null,
      "metadata": {
        "id": "NaVE8jC7-4Ni"
      },
      "outputs": [],
      "source": [
        "model.compile(optimizer=optimizer, loss=loss, metrics=[acc])"
      ]
    },
    {
      "cell_type": "code",
      "execution_count": null,
      "metadata": {
        "colab": {
          "background_save": true
        },
        "id": "9keAQMTW-4LI"
      },
      "outputs": [],
      "source": [
        "history = model.fit(train_ds, validation_data=val_ds, epochs=3)"
      ]
    },
    {
      "cell_type": "code",
      "execution_count": null,
      "metadata": {
        "id": "rAR4tWMy_w_T"
      },
      "outputs": [],
      "source": [
        "model.save('sentiment_model')"
      ]
    },
    {
      "cell_type": "markdown",
      "metadata": {
        "id": "Yq-EHliM_88I"
      },
      "source": [
        "---\n",
        "**Training**"
      ]
    },
    {
      "cell_type": "code",
      "execution_count": null,
      "metadata": {
        "id": "V53mYEoL_xCf"
      },
      "outputs": [],
      "source": [
        "#model = tf.keras.models.load_model('sentiment_model')"
      ]
    },
    {
      "cell_type": "code",
      "execution_count": null,
      "metadata": {
        "id": "-t0GZDvH_xE9"
      },
      "outputs": [],
      "source": [
        "#def prep_data:\n",
        "\n",
        " #   tokens = tokenizer.encode_plus(text, max_length=seq_len, truncation=True,\n",
        " #                                  add_special_tokens=True,\n",
        " #                                  padding='max_length', return_token_type_id=False,\n",
        " #                                  return_tensors='tf')\n",
        " #   return {\n",
        " #       'input_ids' : tf.cast(tokens['input_ids'], tf.float64)\n",
        " #       'attention_mask' : tf.cast(tokens['attention_mask'], tf.float64)\n",
        " #   }"
      ]
    },
    {
      "cell_type": "code",
      "execution_count": null,
      "metadata": {
        "id": "XAK-GMXT_xH8"
      },
      "outputs": [],
      "source": [
        "#df_test_0 = prep_data(df_test['Phrase'][0])"
      ]
    },
    {
      "cell_type": "code",
      "execution_count": null,
      "metadata": {
        "id": "B9jABjGA_xOT"
      },
      "outputs": [],
      "source": [
        "#probs = model.predict(df_test_0)"
      ]
    },
    {
      "cell_type": "code",
      "execution_count": null,
      "metadata": {
        "id": "UkfYekTg_xYM"
      },
      "outputs": [],
      "source": [
        "#np.argmax(probs[0])"
      ]
    }
  ],
  "metadata": {
    "accelerator": "TPU",
    "colab": {
      "provenance": []
    },
    "kernelspec": {
      "display_name": "Python 3",
      "name": "python3"
    },
    "language_info": {
      "name": "python"
    }
  },
  "nbformat": 4,
  "nbformat_minor": 0
}