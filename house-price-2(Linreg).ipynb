{
 "cells": [
  {
   "cell_type": "code",
   "execution_count": 272,
   "id": "bb2cd574",
   "metadata": {},
   "outputs": [],
   "source": [
    "import warnings                                                                                                #import libraries\n",
    "warnings.filterwarnings('ignore')\n",
    "\n",
    "import pandas as pd\n",
    "import numpy as np\n",
    "from matplotlib import pyplot as plt\n",
    "import seaborn as sns\n",
    "\n",
    "from time import process_time\n",
    "from scipy import stats\n",
    "\n",
    "from sklearn.experimental import enable_iterative_imputer\n",
    "from sklearn.impute import IterativeImputer, SimpleImputer, KNNImputer\n",
    "\n",
    "from sklearn.decomposition import PCA\n",
    "from sklearn import metrics\n",
    "from sklearn.metrics import accuracy_score, make_scorer, mean_absolute_error\n",
    "from sklearn import preprocessing\n",
    "from sklearn.preprocessing import StandardScaler, MinMaxScaler\n",
    "from sklearn.feature_selection import SelectFromModel, SelectKBest, f_classif, VarianceThreshold\n",
    "from sklearn.model_selection import cross_val_score, GridSearchCV, train_test_split\n",
    "\n",
    "import lightgbm as lgb\n",
    "from xgboost import XGBClassifier, XGBRegressor\n",
    "from sklearn.discriminant_analysis import LinearDiscriminantAnalysis as LDA\n",
    "from sklearn.neighbors import KNeighborsClassifier\n",
    "from sklearn.linear_model import LogisticRegression\n",
    "from sklearn.naive_bayes import GaussianNB\n",
    "from sklearn import ensemble\n",
    "from sklearn.ensemble import GradientBoostingClassifier as GBoost, RandomForestClassifier\n",
    "from sklearn.svm import SVC\n",
    "from sklearn.neural_network import MLPClassifier\n",
    "from sklearn.pipeline import make_pipeline\n",
    "\n",
    "%matplotlib inline"
   ]
  },
  {
   "cell_type": "code",
   "execution_count": 373,
   "id": "84771c63",
   "metadata": {},
   "outputs": [],
   "source": [
    "rootpath = r\"~\\OneDrive\\Desktop\\Programming\\Datasets\\house-price-2\"\n",
    "df = pd.read_csv(rootpath + \"/house_price_2.csv\")"
   ]
  },
  {
   "cell_type": "code",
   "execution_count": 374,
   "id": "17f9299b",
   "metadata": {},
   "outputs": [
    {
     "data": {
      "text/html": [
       "<div>\n",
       "<style scoped>\n",
       "    .dataframe tbody tr th:only-of-type {\n",
       "        vertical-align: middle;\n",
       "    }\n",
       "\n",
       "    .dataframe tbody tr th {\n",
       "        vertical-align: top;\n",
       "    }\n",
       "\n",
       "    .dataframe thead th {\n",
       "        text-align: right;\n",
       "    }\n",
       "</style>\n",
       "<table border=\"1\" class=\"dataframe\">\n",
       "  <thead>\n",
       "    <tr style=\"text-align: right;\">\n",
       "      <th></th>\n",
       "      <th>Index</th>\n",
       "      <th>Title</th>\n",
       "      <th>Description</th>\n",
       "      <th>Amount(in rupees)</th>\n",
       "      <th>Price (in rupees)</th>\n",
       "      <th>location</th>\n",
       "      <th>Carpet Area</th>\n",
       "      <th>Status</th>\n",
       "      <th>Floor</th>\n",
       "      <th>Transaction</th>\n",
       "      <th>...</th>\n",
       "      <th>facing</th>\n",
       "      <th>overlooking</th>\n",
       "      <th>Society</th>\n",
       "      <th>Bathroom</th>\n",
       "      <th>Balcony</th>\n",
       "      <th>Car Parking</th>\n",
       "      <th>Ownership</th>\n",
       "      <th>Super Area</th>\n",
       "      <th>Dimensions</th>\n",
       "      <th>Plot Area</th>\n",
       "    </tr>\n",
       "  </thead>\n",
       "  <tbody>\n",
       "    <tr>\n",
       "      <th>0</th>\n",
       "      <td>0</td>\n",
       "      <td>1 BHK Ready to Occupy Flat for sale in Srushti...</td>\n",
       "      <td>Bhiwandi, Thane has an attractive 1 BHK Flat f...</td>\n",
       "      <td>42 Lac</td>\n",
       "      <td>6000.0</td>\n",
       "      <td>thane</td>\n",
       "      <td>500 sqft</td>\n",
       "      <td>Ready to Move</td>\n",
       "      <td>10 out of 11</td>\n",
       "      <td>Resale</td>\n",
       "      <td>...</td>\n",
       "      <td>NaN</td>\n",
       "      <td>NaN</td>\n",
       "      <td>Srushti Siddhi Mangal Murti Complex</td>\n",
       "      <td>1</td>\n",
       "      <td>2</td>\n",
       "      <td>NaN</td>\n",
       "      <td>NaN</td>\n",
       "      <td>NaN</td>\n",
       "      <td>NaN</td>\n",
       "      <td>NaN</td>\n",
       "    </tr>\n",
       "    <tr>\n",
       "      <th>1</th>\n",
       "      <td>1</td>\n",
       "      <td>2 BHK Ready to Occupy Flat for sale in Dosti V...</td>\n",
       "      <td>One can find this stunning 2 BHK flat for sale...</td>\n",
       "      <td>98 Lac</td>\n",
       "      <td>13799.0</td>\n",
       "      <td>thane</td>\n",
       "      <td>473 sqft</td>\n",
       "      <td>Ready to Move</td>\n",
       "      <td>3 out of 22</td>\n",
       "      <td>Resale</td>\n",
       "      <td>...</td>\n",
       "      <td>East</td>\n",
       "      <td>Garden/Park</td>\n",
       "      <td>Dosti Vihar</td>\n",
       "      <td>2</td>\n",
       "      <td>NaN</td>\n",
       "      <td>1 Open</td>\n",
       "      <td>Freehold</td>\n",
       "      <td>NaN</td>\n",
       "      <td>NaN</td>\n",
       "      <td>NaN</td>\n",
       "    </tr>\n",
       "  </tbody>\n",
       "</table>\n",
       "<p>2 rows × 21 columns</p>\n",
       "</div>"
      ],
      "text/plain": [
       "   Index                                              Title  \\\n",
       "0      0  1 BHK Ready to Occupy Flat for sale in Srushti...   \n",
       "1      1  2 BHK Ready to Occupy Flat for sale in Dosti V...   \n",
       "\n",
       "                                         Description Amount(in rupees)  \\\n",
       "0  Bhiwandi, Thane has an attractive 1 BHK Flat f...           42 Lac    \n",
       "1  One can find this stunning 2 BHK flat for sale...           98 Lac    \n",
       "\n",
       "   Price (in rupees) location Carpet Area         Status         Floor  \\\n",
       "0             6000.0    thane    500 sqft  Ready to Move  10 out of 11   \n",
       "1            13799.0    thane    473 sqft  Ready to Move   3 out of 22   \n",
       "\n",
       "  Transaction  ... facing  overlooking                              Society  \\\n",
       "0      Resale  ...    NaN          NaN  Srushti Siddhi Mangal Murti Complex   \n",
       "1      Resale  ...   East  Garden/Park                          Dosti Vihar   \n",
       "\n",
       "  Bathroom Balcony Car Parking Ownership Super Area Dimensions  Plot Area  \n",
       "0        1       2         NaN       NaN        NaN        NaN        NaN  \n",
       "1        2     NaN      1 Open  Freehold        NaN        NaN        NaN  \n",
       "\n",
       "[2 rows x 21 columns]"
      ]
     },
     "execution_count": 374,
     "metadata": {},
     "output_type": "execute_result"
    }
   ],
   "source": [
    "df.head(2)"
   ]
  },
  {
   "cell_type": "code",
   "execution_count": 375,
   "id": "66ab6e95",
   "metadata": {},
   "outputs": [],
   "source": [
    "df.drop(['Index'], axis=1, inplace=True)\n",
    "df_train = df.loc[df['Price (in rupees)'].notna()]\n",
    "df_test = df.loc[df['Price (in rupees)'].isna()]"
   ]
  },
  {
   "cell_type": "code",
   "execution_count": 376,
   "id": "6c642950",
   "metadata": {},
   "outputs": [
    {
     "name": "stdout",
     "output_type": "stream",
     "text": [
      "Train dataset shape:  (169866, 20)\n",
      "Test dataset shape:   (17665, 20)\n"
     ]
    }
   ],
   "source": [
    "print('Train dataset shape: ', df_train.shape)\n",
    "print('Test dataset shape:  ', df_test.shape)"
   ]
  },
  {
   "cell_type": "code",
   "execution_count": 377,
   "id": "f7c2a92a",
   "metadata": {},
   "outputs": [],
   "source": [
    "df_train = df_train.sample(frac=0.1)\n",
    "df_train.reset_index(inplace=True)\n",
    "df_train.drop(['index'], axis=1, inplace=True)"
   ]
  },
  {
   "cell_type": "code",
   "execution_count": 378,
   "id": "4f03b682",
   "metadata": {},
   "outputs": [
    {
     "name": "stdout",
     "output_type": "stream",
     "text": [
      "New train dataset shape:  (16987, 20)\n"
     ]
    }
   ],
   "source": [
    "print('New train dataset shape: ', df_train.shape)"
   ]
  },
  {
   "cell_type": "code",
   "execution_count": 379,
   "id": "b3576527",
   "metadata": {},
   "outputs": [],
   "source": [
    "df = pd.concat([df_train, df_test])"
   ]
  },
  {
   "cell_type": "code",
   "execution_count": 380,
   "id": "d8c91e0c",
   "metadata": {},
   "outputs": [
    {
     "name": "stdout",
     "output_type": "stream",
     "text": [
      "Full dataset shape:  (34652, 20)\n"
     ]
    }
   ],
   "source": [
    "print('Full dataset shape: ', df.shape)"
   ]
  },
  {
   "cell_type": "code",
   "execution_count": 381,
   "id": "2ebd0220",
   "metadata": {},
   "outputs": [
    {
     "data": {
      "text/plain": [
       "Title                34652\n",
       "Description          34247\n",
       "Amount(in rupees)    34652\n",
       "Price (in rupees)    16987\n",
       "location             34652\n",
       "Carpet Area          22561\n",
       "Status               34575\n",
       "Floor                33724\n",
       "Transaction          34575\n",
       "Furnishing           33584\n",
       "facing               20157\n",
       "overlooking          16671\n",
       "Society              12602\n",
       "Bathroom             34493\n",
       "Balcony              26188\n",
       "Car Parking          13026\n",
       "Ownership            21461\n",
       "Super Area           11264\n",
       "Dimensions               0\n",
       "Plot Area                0\n",
       "dtype: int64"
      ]
     },
     "execution_count": 381,
     "metadata": {},
     "output_type": "execute_result"
    }
   ],
   "source": [
    "df_notna = df.notna().sum()\n",
    "df_notna"
   ]
  },
  {
   "cell_type": "code",
   "execution_count": 382,
   "id": "891d7b8c",
   "metadata": {},
   "outputs": [
    {
     "data": {
      "text/plain": [
       "(array([    0, 11264, 12602, 13026, 16671, 16987, 20157, 21461, 22561,\n",
       "        26188, 33584, 33724, 34247, 34493, 34575, 34652], dtype=int64),\n",
       " array([2, 1, 1, 1, 1, 1, 1, 1, 1, 1, 1, 1, 1, 1, 2, 3], dtype=int64))"
      ]
     },
     "execution_count": 382,
     "metadata": {},
     "output_type": "execute_result"
    }
   ],
   "source": [
    "na_col = np.unique(df_notna, return_counts=True)\n",
    "na_col"
   ]
  },
  {
   "cell_type": "code",
   "execution_count": 383,
   "id": "4d4f018a",
   "metadata": {},
   "outputs": [
    {
     "data": {
      "image/png": "[encoded data removed]",
      "text/plain": [
       "<Figure size 800x400 with 1 Axes>"
      ]
     },
     "metadata": {},
     "output_type": "display_data"
    }
   ],
   "source": [
    "plt.figure(figsize=(8,4))\n",
    "b = sns.barplot(x=na_col[0], y=na_col[1])\n",
    "b.tick_params(labelsize=8)"
   ]
  },
  {
   "cell_type": "code",
   "execution_count": 384,
   "id": "60ad9ec0",
   "metadata": {},
   "outputs": [],
   "source": [
    "for i in df.columns:\n",
    "    if (df[i].notna().sum() < 0.5*len(df)) and (i != 'Price (in rupees)'):\n",
    "        del(df[i]) "
   ]
  },
  {
   "cell_type": "code",
   "execution_count": 385,
   "id": "5a942b2e",
   "metadata": {},
   "outputs": [
    {
     "data": {
      "text/plain": [
       "(34652, 14)"
      ]
     },
     "execution_count": 385,
     "metadata": {},
     "output_type": "execute_result"
    }
   ],
   "source": [
    "df.shape"
   ]
  },
  {
   "cell_type": "code",
   "execution_count": 386,
   "id": "239b8b1a",
   "metadata": {},
   "outputs": [],
   "source": [
    "df_room_count = df['Title'].str.split(pat = ' BHK', expand = True)\n",
    "df_flat_or_apartment = df['Title'].str.split(pat = ' for sale ', expand = True)\n",
    "df_flat_or_apartment = df_flat_or_apartment[0].str.split(pat = 'Occupy ', expand = True)\n",
    "df_flat_or_apartment[1].fillna(df_flat_or_apartment[0], inplace=True)\n",
    "\n",
    "df_room_count = df_room_count[0]\n",
    "df_flat_or_apartment = df_flat_or_apartment[1]\n",
    "    \n",
    "df = pd.concat([df, df_room_count, df_flat_or_apartment], axis=1)\n",
    "df.drop(['Title'], axis=1, inplace=True)\n",
    "df.rename(columns = {0:'Rooms_count', 1:'Flat_or_Apartment'}, inplace=True)"
   ]
  },
  {
   "cell_type": "code",
   "execution_count": 387,
   "id": "6ab064df",
   "metadata": {},
   "outputs": [],
   "source": [
    "df.replace({'Rooms_count' : {'1': '1 ','2': '2 ','3': '3 ','4': '4 ','5': '5 ','6': '6 ','7': '7 ','8': '8 ','9': '9 ','10': '10 ','> 10': '11 '}}, inplace=True)\n",
    "df_room_count = df['Rooms_count'].str.split(pat = ' ', expand = True)\n",
    "df_room_count = df_room_count[0]\n",
    "df = pd.concat([df, df_room_count], axis=1)\n",
    "df.drop(['Rooms_count'], axis=1, inplace=True)\n",
    "df.rename(columns = {0:'Rooms_count'}, inplace=True)\n",
    "df[['Rooms_count']] = df[['Rooms_count']].apply(pd.to_numeric)"
   ]
  },
  {
   "cell_type": "code",
   "execution_count": 388,
   "id": "04f77d20",
   "metadata": {},
   "outputs": [],
   "source": [
    "df_amount = df['Amount(in rupees)'].str.split(pat = ' ', expand = True)\n",
    "df_amount_number = df_amount[0]\n",
    "df_lac_or_cr = df_amount[1]\n",
    "df = pd.concat([df, df_amount_number, df_lac_or_cr], axis=1)\n",
    "df.drop(['Amount(in rupees)'], axis=1, inplace=True)\n",
    "df.rename(columns = {0:'Amount'}, inplace=True)"
   ]
  },
  {
   "cell_type": "code",
   "execution_count": 389,
   "id": "ed4ba0a5",
   "metadata": {},
   "outputs": [],
   "source": [
    "df.replace({'Amount' : {'Call': 0}}, inplace=True)\n",
    "df[['Amount']] = df[['Amount']].apply(pd.to_numeric)\n",
    "df.replace({1 : {'Cr': 100, 'Lac': 1, 'for': 0}}, inplace=True)\n",
    "df[[1]] = df[[1]].apply(pd.to_numeric)\n",
    "df['Amount'] = df['Amount']*df[1]\n",
    "df.drop([1], axis=1, inplace=True)\n",
    "df.replace({'Amount' : {0 : np.NaN}}, inplace=True)"
   ]
  },
  {
   "cell_type": "code",
   "execution_count": 390,
   "id": "e9e58518",
   "metadata": {},
   "outputs": [],
   "source": [
    "df_carpet_area = df['Carpet Area'].str.split(pat = ' ', expand = True)\n",
    "df_carpet_area = df_carpet_area[0]\n",
    "df = pd.concat([df, df_carpet_area], axis=1)\n",
    "df.drop(['Carpet Area'], axis=1, inplace=True)\n",
    "df.rename(columns = {0:'Carpet_area'}, inplace=True)\n",
    "df[['Carpet_area']] = df[['Carpet_area']].apply(pd.to_numeric)\n",
    "df['Carpet_area'].fillna(0, inplace=True)"
   ]
  },
  {
   "cell_type": "code",
   "execution_count": 391,
   "id": "68dec182",
   "metadata": {},
   "outputs": [],
   "source": [
    "df['Status'].fillna('Not Ready to Move', inplace=True)"
   ]
  },
  {
   "cell_type": "code",
   "execution_count": 392,
   "id": "b2db62e3",
   "metadata": {},
   "outputs": [],
   "source": [
    "df_floor = df['Floor'].str.split(pat = ' ', expand = True)\n",
    "df_floors = df['Floor'].str.split(pat = 'of ', expand = True)\n",
    "df_floor = df_floor[0]\n",
    "df_floors = df_floors[1]\n",
    "df = pd.concat([df, df_floor, df_floors], axis=1)\n",
    "df.drop(['Floor'], axis=1, inplace=True)\n",
    "df.rename(columns = {0:'Floor', 1:'Floors'}, inplace=True)"
   ]
  },
  {
   "cell_type": "code",
   "execution_count": 393,
   "id": "27cda68e",
   "metadata": {},
   "outputs": [],
   "source": [
    "df.replace({'Floor' : {'Ground': 0, 'Lower': 0, 'Upper': df['Floors']}}, inplace=True)\n",
    "df[['Floor', 'Floors']] = df[['Floor', 'Floors']].apply(pd.to_numeric)"
   ]
  },
  {
   "cell_type": "code",
   "execution_count": 394,
   "id": "0cb5f844",
   "metadata": {},
   "outputs": [],
   "source": [
    "df['Transaction'].fillna('Other', inplace=True)\n",
    "df['Furnishing'].fillna('Unfurnished', inplace=True)"
   ]
  },
  {
   "cell_type": "code",
   "execution_count": 395,
   "id": "db1c4440",
   "metadata": {},
   "outputs": [],
   "source": [
    "df.replace({'Bathroom' : {'> 10': 11}}, inplace=True)\n",
    "df[['Bathroom']] = df[['Bathroom']].apply(pd.to_numeric)"
   ]
  },
  {
   "cell_type": "code",
   "execution_count": 396,
   "id": "1da991a4",
   "metadata": {},
   "outputs": [],
   "source": [
    "df.replace({'Balcony' : {'> 10': 11}}, inplace=True)\n",
    "df['Balcony'].fillna('0', inplace=True)\n",
    "df[['Balcony']] = df[['Balcony']].apply(pd.to_numeric)"
   ]
  },
  {
   "cell_type": "markdown",
   "id": "63c3d306",
   "metadata": {},
   "source": [
    "# Categorical"
   ]
  },
  {
   "cell_type": "code",
   "execution_count": 397,
   "id": "2e0a2a4d",
   "metadata": {},
   "outputs": [],
   "source": [
    "df.drop(['Description'], axis=1, inplace=True)"
   ]
  },
  {
   "cell_type": "code",
   "execution_count": 398,
   "id": "db77d28f",
   "metadata": {},
   "outputs": [],
   "source": [
    "df_g = pd.get_dummies(df, drop_first=True)\n",
    "df_g.reset_index(inplace=True)\n",
    "df_g.drop(['index'], axis=1, inplace=True)"
   ]
  },
  {
   "cell_type": "markdown",
   "id": "f23727eb",
   "metadata": {},
   "source": [
    "# Fill in the gaps"
   ]
  },
  {
   "cell_type": "code",
   "execution_count": 399,
   "id": "110dacfa",
   "metadata": {},
   "outputs": [
    {
     "data": {
      "text/plain": [
       "Price (in rupees)    17665\n",
       "location                 0\n",
       "Status                   0\n",
       "Transaction              0\n",
       "Furnishing               0\n",
       "facing               14495\n",
       "Bathroom               159\n",
       "Balcony                  0\n",
       "Ownership            13191\n",
       "Flat_or_Apartment        0\n",
       "Rooms_count            658\n",
       "Amount                9684\n",
       "Carpet_area              0\n",
       "Floor                  928\n",
       "Floors                 940\n",
       "dtype: int64"
      ]
     },
     "execution_count": 399,
     "metadata": {},
     "output_type": "execute_result"
    }
   ],
   "source": [
    "df.isna().sum()"
   ]
  },
  {
   "cell_type": "code",
   "execution_count": 400,
   "id": "e6bb6403",
   "metadata": {},
   "outputs": [],
   "source": [
    "imp = IterativeImputer(max_iter=10, random_state=0)                                                      \n",
    "imp.fit(df_g.iloc[:,1:].values)\n",
    "df_g_it = imp.transform(df_g.iloc[:,1:].values)"
   ]
  },
  {
   "cell_type": "code",
   "execution_count": 401,
   "id": "004d09f9",
   "metadata": {},
   "outputs": [
    {
     "data": {
      "text/plain": [
       "array([[3.000, 3.000, 3.000, ..., 0.000, 0.000, 1.000],\n",
       "       [4.000, 2.000, 3.000, ..., 0.000, 0.000, 1.000],\n",
       "       [3.000, 3.000, 3.000, ..., 0.000, 0.000, 1.000],\n",
       "       ...,\n",
       "       [3.000, 2.000, 3.000, ..., 0.000, 0.000, 1.000],\n",
       "       [4.000, 4.000, 4.000, ..., 0.000, 0.000, 1.000],\n",
       "       [2.742, 0.000, 3.000, ..., 0.000, 0.000, 1.000]])"
      ]
     },
     "execution_count": 401,
     "metadata": {},
     "output_type": "execute_result"
    }
   ],
   "source": [
    "df_g_it"
   ]
  },
  {
   "cell_type": "code",
   "execution_count": 402,
   "id": "a2c0dc8d",
   "metadata": {},
   "outputs": [],
   "source": [
    "df2 = df_g_it"
   ]
  },
  {
   "cell_type": "code",
   "execution_count": 403,
   "id": "1f698311",
   "metadata": {},
   "outputs": [
    {
     "data": {
      "text/html": [
       "<div>\n",
       "<style scoped>\n",
       "    .dataframe tbody tr th:only-of-type {\n",
       "        vertical-align: middle;\n",
       "    }\n",
       "\n",
       "    .dataframe tbody tr th {\n",
       "        vertical-align: top;\n",
       "    }\n",
       "\n",
       "    .dataframe thead th {\n",
       "        text-align: right;\n",
       "    }\n",
       "</style>\n",
       "<table border=\"1\" class=\"dataframe\">\n",
       "  <thead>\n",
       "    <tr style=\"text-align: right;\">\n",
       "      <th></th>\n",
       "      <th>Bathroom</th>\n",
       "      <th>Balcony</th>\n",
       "      <th>Rooms_count</th>\n",
       "      <th>Amount</th>\n",
       "      <th>Carpet_area</th>\n",
       "      <th>Floor</th>\n",
       "      <th>Floors</th>\n",
       "      <th>location_ahmadnagar</th>\n",
       "      <th>location_ahmedabad</th>\n",
       "      <th>location_allahabad</th>\n",
       "      <th>...</th>\n",
       "      <th>facing_South - East</th>\n",
       "      <th>facing_South -West</th>\n",
       "      <th>facing_West</th>\n",
       "      <th>Ownership_Freehold</th>\n",
       "      <th>Ownership_Leasehold</th>\n",
       "      <th>Ownership_Power Of Attorney</th>\n",
       "      <th>Flat_or_Apartment_ Builder Floor</th>\n",
       "      <th>Flat_or_Apartment_ Studio Apartment</th>\n",
       "      <th>Flat_or_Apartment_Flat</th>\n",
       "      <th>Price</th>\n",
       "    </tr>\n",
       "  </thead>\n",
       "  <tbody>\n",
       "    <tr>\n",
       "      <th>0</th>\n",
       "      <td>3.0</td>\n",
       "      <td>3.0</td>\n",
       "      <td>3.0</td>\n",
       "      <td>225.0</td>\n",
       "      <td>1790.0</td>\n",
       "      <td>11.0</td>\n",
       "      <td>22.0</td>\n",
       "      <td>0.0</td>\n",
       "      <td>0.0</td>\n",
       "      <td>0.0</td>\n",
       "      <td>...</td>\n",
       "      <td>0.0</td>\n",
       "      <td>0.0</td>\n",
       "      <td>0.0</td>\n",
       "      <td>1.0</td>\n",
       "      <td>0.0</td>\n",
       "      <td>0.0</td>\n",
       "      <td>0.0</td>\n",
       "      <td>0.0</td>\n",
       "      <td>1.0</td>\n",
       "      <td>12103.0</td>\n",
       "    </tr>\n",
       "    <tr>\n",
       "      <th>1</th>\n",
       "      <td>4.0</td>\n",
       "      <td>2.0</td>\n",
       "      <td>3.0</td>\n",
       "      <td>60.0</td>\n",
       "      <td>1750.0</td>\n",
       "      <td>9.0</td>\n",
       "      <td>10.0</td>\n",
       "      <td>0.0</td>\n",
       "      <td>0.0</td>\n",
       "      <td>0.0</td>\n",
       "      <td>...</td>\n",
       "      <td>0.0</td>\n",
       "      <td>0.0</td>\n",
       "      <td>0.0</td>\n",
       "      <td>0.0</td>\n",
       "      <td>0.0</td>\n",
       "      <td>0.0</td>\n",
       "      <td>0.0</td>\n",
       "      <td>0.0</td>\n",
       "      <td>1.0</td>\n",
       "      <td>2727.0</td>\n",
       "    </tr>\n",
       "    <tr>\n",
       "      <th>2</th>\n",
       "      <td>3.0</td>\n",
       "      <td>3.0</td>\n",
       "      <td>3.0</td>\n",
       "      <td>72.0</td>\n",
       "      <td>1300.0</td>\n",
       "      <td>3.0</td>\n",
       "      <td>10.0</td>\n",
       "      <td>0.0</td>\n",
       "      <td>0.0</td>\n",
       "      <td>0.0</td>\n",
       "      <td>...</td>\n",
       "      <td>0.0</td>\n",
       "      <td>0.0</td>\n",
       "      <td>0.0</td>\n",
       "      <td>0.0</td>\n",
       "      <td>0.0</td>\n",
       "      <td>0.0</td>\n",
       "      <td>0.0</td>\n",
       "      <td>0.0</td>\n",
       "      <td>1.0</td>\n",
       "      <td>5143.0</td>\n",
       "    </tr>\n",
       "    <tr>\n",
       "      <th>3</th>\n",
       "      <td>3.0</td>\n",
       "      <td>0.0</td>\n",
       "      <td>3.0</td>\n",
       "      <td>149.0</td>\n",
       "      <td>0.0</td>\n",
       "      <td>4.0</td>\n",
       "      <td>9.0</td>\n",
       "      <td>0.0</td>\n",
       "      <td>0.0</td>\n",
       "      <td>0.0</td>\n",
       "      <td>...</td>\n",
       "      <td>0.0</td>\n",
       "      <td>0.0</td>\n",
       "      <td>0.0</td>\n",
       "      <td>0.0</td>\n",
       "      <td>0.0</td>\n",
       "      <td>0.0</td>\n",
       "      <td>0.0</td>\n",
       "      <td>0.0</td>\n",
       "      <td>1.0</td>\n",
       "      <td>8333.0</td>\n",
       "    </tr>\n",
       "    <tr>\n",
       "      <th>4</th>\n",
       "      <td>2.0</td>\n",
       "      <td>1.0</td>\n",
       "      <td>2.0</td>\n",
       "      <td>86.3</td>\n",
       "      <td>1000.0</td>\n",
       "      <td>7.0</td>\n",
       "      <td>32.0</td>\n",
       "      <td>0.0</td>\n",
       "      <td>0.0</td>\n",
       "      <td>0.0</td>\n",
       "      <td>...</td>\n",
       "      <td>0.0</td>\n",
       "      <td>0.0</td>\n",
       "      <td>0.0</td>\n",
       "      <td>1.0</td>\n",
       "      <td>0.0</td>\n",
       "      <td>0.0</td>\n",
       "      <td>0.0</td>\n",
       "      <td>0.0</td>\n",
       "      <td>1.0</td>\n",
       "      <td>7500.0</td>\n",
       "    </tr>\n",
       "  </tbody>\n",
       "</table>\n",
       "<p>5 rows × 106 columns</p>\n",
       "</div>"
      ],
      "text/plain": [
       "   Bathroom  Balcony  Rooms_count  Amount  Carpet_area  Floor  Floors  \\\n",
       "0       3.0      3.0          3.0   225.0       1790.0   11.0    22.0   \n",
       "1       4.0      2.0          3.0    60.0       1750.0    9.0    10.0   \n",
       "2       3.0      3.0          3.0    72.0       1300.0    3.0    10.0   \n",
       "3       3.0      0.0          3.0   149.0          0.0    4.0     9.0   \n",
       "4       2.0      1.0          2.0    86.3       1000.0    7.0    32.0   \n",
       "\n",
       "   location_ahmadnagar  location_ahmedabad  location_allahabad  ...  \\\n",
       "0                  0.0                 0.0                 0.0  ...   \n",
       "1                  0.0                 0.0                 0.0  ...   \n",
       "2                  0.0                 0.0                 0.0  ...   \n",
       "3                  0.0                 0.0                 0.0  ...   \n",
       "4                  0.0                 0.0                 0.0  ...   \n",
       "\n",
       "   facing_South - East  facing_South -West  facing_West  Ownership_Freehold  \\\n",
       "0                  0.0                 0.0          0.0                 1.0   \n",
       "1                  0.0                 0.0          0.0                 0.0   \n",
       "2                  0.0                 0.0          0.0                 0.0   \n",
       "3                  0.0                 0.0          0.0                 0.0   \n",
       "4                  0.0                 0.0          0.0                 1.0   \n",
       "\n",
       "   Ownership_Leasehold  Ownership_Power Of Attorney  \\\n",
       "0                  0.0                          0.0   \n",
       "1                  0.0                          0.0   \n",
       "2                  0.0                          0.0   \n",
       "3                  0.0                          0.0   \n",
       "4                  0.0                          0.0   \n",
       "\n",
       "   Flat_or_Apartment_ Builder Floor  Flat_or_Apartment_ Studio Apartment  \\\n",
       "0                               0.0                                  0.0   \n",
       "1                               0.0                                  0.0   \n",
       "2                               0.0                                  0.0   \n",
       "3                               0.0                                  0.0   \n",
       "4                               0.0                                  0.0   \n",
       "\n",
       "   Flat_or_Apartment_Flat    Price  \n",
       "0                     1.0  12103.0  \n",
       "1                     1.0   2727.0  \n",
       "2                     1.0   5143.0  \n",
       "3                     1.0   8333.0  \n",
       "4                     1.0   7500.0  \n",
       "\n",
       "[5 rows x 106 columns]"
      ]
     },
     "execution_count": 403,
     "metadata": {},
     "output_type": "execute_result"
    }
   ],
   "source": [
    "df3 = pd.DataFrame(data=df2, columns=df_g.iloc[:,1:].columns)\n",
    "df3['Price'] = df_g['Price (in rupees)']\n",
    "\n",
    "df3.head()"
   ]
  },
  {
   "cell_type": "markdown",
   "id": "d6f1f73e",
   "metadata": {},
   "source": [
    "# Future selection"
   ]
  },
  {
   "cell_type": "code",
   "execution_count": 404,
   "id": "af038a46",
   "metadata": {},
   "outputs": [
    {
     "data": {
      "text/plain": [
       "<AxesSubplot:>"
      ]
     },
     "execution_count": 404,
     "metadata": {},
     "output_type": "execute_result"
    },
    {
     "data": {
      "image/png": "[encoded data removed]",
      "text/plain": [
       "<Figure size 1500x1200 with 2 Axes>"
      ]
     },
     "metadata": {},
     "output_type": "display_data"
    }
   ],
   "source": [
    "cor = df3.corr()\n",
    "\n",
    "plt.figure(figsize=(15,12))\n",
    "sns.heatmap(cor, xticklabels=False, yticklabels=False, cmap='coolwarm')"
   ]
  },
  {
   "cell_type": "code",
   "execution_count": 405,
   "id": "1129882e",
   "metadata": {},
   "outputs": [],
   "source": [
    "all_features = list(cor.columns)\n",
    "f_to_del = []\n",
    "\n",
    "for i in cor.columns:\n",
    "    if i == 'Price':\n",
    "        continue\n",
    "    for j in cor.index:\n",
    "        if all_features.index(j) >= all_features.index(i) or j == 'Price':\n",
    "            continue\n",
    "        else:\n",
    "            if abs(cor.loc[i,j]) > 0.8:\n",
    "                if abs(cor.loc['Price', i]) > abs(cor.loc['Price', j]):\n",
    "                    f_to_del.append(j)\n",
    "                else:\n",
    "                    f_to_del.append(i)"
   ]
  },
  {
   "cell_type": "code",
   "execution_count": 406,
   "id": "49508c25",
   "metadata": {},
   "outputs": [
    {
     "name": "stdout",
     "output_type": "stream",
     "text": [
      "2\n"
     ]
    },
    {
     "data": {
      "text/plain": [
       "{'Flat_or_Apartment_ Studio Apartment', 'Rooms_count'}"
      ]
     },
     "execution_count": 406,
     "metadata": {},
     "output_type": "execute_result"
    }
   ],
   "source": [
    "f_to_del = set(f_to_del)\n",
    "print(len(f_to_del))\n",
    "f_to_del"
   ]
  },
  {
   "cell_type": "code",
   "execution_count": 407,
   "id": "8293f6bc",
   "metadata": {},
   "outputs": [],
   "source": [
    "for i in f_to_del:\n",
    "    del df3[i]"
   ]
  },
  {
   "cell_type": "code",
   "execution_count": 408,
   "id": "f1544f0b",
   "metadata": {},
   "outputs": [
    {
     "data": {
      "text/plain": [
       "(34652, 104)"
      ]
     },
     "execution_count": 408,
     "metadata": {},
     "output_type": "execute_result"
    }
   ],
   "source": [
    "df3.shape"
   ]
  },
  {
   "cell_type": "markdown",
   "id": "373208b6",
   "metadata": {},
   "source": [
    "# Splitting into train and test samples"
   ]
  },
  {
   "cell_type": "code",
   "execution_count": 413,
   "id": "60fcb6da",
   "metadata": {},
   "outputs": [],
   "source": [
    "train = df3[:16987]\n",
    "test = df3[16987:]\n",
    "test.drop(['Price'], axis=1, inplace=True)"
   ]
  },
  {
   "cell_type": "code",
   "execution_count": 415,
   "id": "70967d51",
   "metadata": {},
   "outputs": [
    {
     "data": {
      "text/plain": [
       "count     16987.000000\n",
       "mean       7428.174133\n",
       "std        4844.843018\n",
       "min           0.000000\n",
       "25%        4283.000000\n",
       "50%        6034.000000\n",
       "75%        9459.000000\n",
       "max      100000.000000\n",
       "Name: Price, dtype: float64"
      ]
     },
     "execution_count": 415,
     "metadata": {},
     "output_type": "execute_result"
    }
   ],
   "source": [
    "train['Price'].describe()"
   ]
  },
  {
   "cell_type": "code",
   "execution_count": 416,
   "id": "b8fbe50d",
   "metadata": {},
   "outputs": [],
   "source": [
    "X = train.iloc[:,:-1].values\n",
    "y = train.iloc[:, -1].values\n",
    "X = pd.DataFrame(X)\n",
    "y = pd.DataFrame(y)\n",
    "y = y + 0.001"
   ]
  },
  {
   "cell_type": "code",
   "execution_count": 417,
   "id": "a2b273ae",
   "metadata": {},
   "outputs": [],
   "source": [
    "X_train, X_test, y_train, y_test = train_test_split(X, y, test_size=0.2, random_state=0)"
   ]
  },
  {
   "cell_type": "markdown",
   "id": "8e215e81",
   "metadata": {},
   "source": [
    "# Normalizing"
   ]
  },
  {
   "cell_type": "code",
   "execution_count": 418,
   "id": "104b5b46",
   "metadata": {},
   "outputs": [],
   "source": [
    "scaler = StandardScaler()\n",
    "list_to_norm = list(X_train.columns[:5].values)\n",
    "list_binary_features = list(X_train.columns[5:].values)\n",
    "\n",
    "X_train_to_norm = X_train[list_to_norm]\n",
    "X_test_to_norm = X_test[list_to_norm]\n",
    "\n",
    "X_train_to_norm = scaler.fit_transform(X_train_to_norm)\n",
    "X_test_to_norm = scaler.transform(X_test_to_norm)\n",
    "\n",
    "X_train_final = np.c_[ X_train_to_norm, np.array(X_train[list_binary_features]) ]\n",
    "X_test_final  = np.c_[ X_test_to_norm, np.array(X_test[list_binary_features]) ]\n",
    "\n",
    "y_train_log = np.array(np.log(y_train))\n",
    "y_test_log = np.array(np.log(y_test))"
   ]
  },
  {
   "cell_type": "code",
   "execution_count": 419,
   "id": "587aeda2",
   "metadata": {},
   "outputs": [
    {
     "name": "stdout",
     "output_type": "stream",
     "text": [
      "(13589, 103) (3398, 103) (13589, 1) (3398, 1)\n"
     ]
    }
   ],
   "source": [
    "print(X_train_final.shape,X_test_final.shape, y_train_log.shape,y_test_log.shape)"
   ]
  },
  {
   "cell_type": "markdown",
   "id": "e921a0eb",
   "metadata": {},
   "source": [
    "#  Model"
   ]
  },
  {
   "cell_type": "code",
   "execution_count": 420,
   "id": "c7955c10",
   "metadata": {},
   "outputs": [],
   "source": [
    "reg = LinearRegression().fit(X_train_final, y_train_log)"
   ]
  },
  {
   "cell_type": "code",
   "execution_count": 421,
   "id": "320c0071",
   "metadata": {},
   "outputs": [],
   "source": [
    "y_predict = reg.predict(X_test_final)"
   ]
  },
  {
   "cell_type": "code",
   "execution_count": 422,
   "id": "957a701c",
   "metadata": {},
   "outputs": [],
   "source": [
    "y_predict_exp = np.exp(y_predict).reshape((y_predict.shape[0],))"
   ]
  },
  {
   "cell_type": "code",
   "execution_count": 423,
   "id": "f3716ea5",
   "metadata": {},
   "outputs": [],
   "source": [
    "np.set_printoptions(formatter={'float': lambda x: \"{0:0.3f}\".format(x)})\n",
    "y_test_numpy = np.array(y_test)"
   ]
  },
  {
   "cell_type": "code",
   "execution_count": 424,
   "id": "5e012a73",
   "metadata": {},
   "outputs": [
    {
     "name": "stdout",
     "output_type": "stream",
     "text": [
      "[[3963.531 3553.001]\n",
      " [5895.209 6029.001]\n",
      " [4394.327 3364.001]\n",
      " [4721.626 2815.001]\n",
      " [3664.458 7244.001]\n",
      " [4044.209 4181.001]\n",
      " [4538.736 6390.001]\n",
      " [4905.058 5548.001]\n",
      " [5796.287 5060.001]\n",
      " [4974.373 5271.001]]\n"
     ]
    }
   ],
   "source": [
    "N1, N2 = 0, 10\n",
    "print(np.c_[y_predict_exp[N1:N2], y_test_numpy[N1:N2]])"
   ]
  },
  {
   "cell_type": "code",
   "execution_count": 425,
   "id": "7e42a29e",
   "metadata": {},
   "outputs": [
    {
     "name": "stdout",
     "output_type": "stream",
     "text": [
      "MAE: 1994.9246889470217\n"
     ]
    }
   ],
   "source": [
    "print(f'MAE: {mean_absolute_error(y_predict_exp, y_test_numpy)}')"
   ]
  }
 ],
 "metadata": {
  "kernelspec": {
   "display_name": "Python 3 (ipykernel)",
   "language": "python",
   "name": "python3"
  },
  "language_info": {
   "codemirror_mode": {
    "name": "ipython",
    "version": 3
   },
   "file_extension": ".py",
   "mimetype": "text/x-python",
   "name": "python",
   "nbconvert_exporter": "python",
   "pygments_lexer": "ipython3",
   "version": "3.9.13"
  }
 },
 "nbformat": 4,
 "nbformat_minor": 5
}
